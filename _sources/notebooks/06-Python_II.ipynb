{
 "cells": [
  {
   "cell_type": "markdown",
   "metadata": {
    "slideshow": {
     "slide_type": "slide"
    }
   },
   "source": [
    "# Biological Computing in Python II"
   ]
  },
  {
   "cell_type": "markdown",
   "metadata": {},
   "source": [
    ">> ...some things in life are bad. They can really make you mad. Other things just make you swear and curse. When you're chewing on life's gristle, don't grumble; give a whistle, and this'll help things turn out for the best. And... always look on the bright side of life... \n",
    "— *Guess who?*"
   ]
  },
  {
   "cell_type": "markdown",
   "metadata": {},
   "source": [
    "In this chapter, we will build on the [first Python Chapter](05-Python_I.ipynb). We cover some more advanced topics that will round-off your training in Biological Computing in Python. \n",
    "\n",
    "## Numerical computing in Python\n",
    "\n",
    "The python package `scipy` allows you to do serious number crunching, including:\n",
    "\n",
    "* Linear algebra (matrix and vector operations) using `scipy.linalg`\n",
    "* Sparse Eigenvalue Problems  using `scipy.sparse`\n",
    "* Numerical integration (including solving of Ordinary Differential Equations (ODEs)) using `scipy.integrate`\n",
    "* Random number generation and using statistical functions and transformations\n",
    "using `scipy.stats`\n",
    "* Optimization using `scipy.optimize`\n",
    "* Signal Processing using `scipy.signal`\n",
    "\n",
    "In the following, we will use the `numpy array` data structure for data manipulations and calculations. These\n",
    "arrays are similar in some respects to python lists, but are homogeneous in type (the default is float), allow efficient (fast) manipulations, and are more naturally multidimensional (e.g., you can store multiple matrices in one array). Thus numpy arrays are analogous to the R `matrix` data object/structure.\n",
    "\n",
    "We will use the `scipy` package, which includes `numpy`, and lot more. Let's try it:"
   ]
  },
  {
   "cell_type": "code",
   "execution_count": 2,
   "metadata": {},
   "outputs": [],
   "source": [
    "import scipy as sc"
   ]
  },
  {
   "cell_type": "code",
   "execution_count": 3,
   "metadata": {},
   "outputs": [
    {
     "data": {
      "text/plain": [
       "array([0, 1, 2, 3, 4])"
      ]
     },
     "execution_count": 3,
     "metadata": {},
     "output_type": "execute_result"
    }
   ],
   "source": [
    "a = sc.array(range(5)) # a one-dimensional array\n",
    "a"
   ]
  },
  {
   "cell_type": "code",
   "execution_count": 4,
   "metadata": {},
   "outputs": [
    {
     "name": "stdout",
     "output_type": "stream",
     "text": [
      "<class 'numpy.ndarray'>\n"
     ]
    }
   ],
   "source": [
    "print(type(a))"
   ]
  },
  {
   "cell_type": "code",
   "execution_count": 5,
   "metadata": {},
   "outputs": [
    {
     "name": "stdout",
     "output_type": "stream",
     "text": [
      "<class 'numpy.int64'>\n"
     ]
    }
   ],
   "source": [
    "print(type(a[0]))"
   ]
  },
  {
   "cell_type": "markdown",
   "metadata": {},
   "source": [
    "Thus the last two outputs tell you that firstly, that numpy arrays belong to a data structure type (and a class) called `numpy.ndarray`, and secondly, that at position `0` (remember, Python indexing starts at 0) it holds an [64 bit integer](https://en.wikipedia.org/wiki/9,223,372,036,854,775,807). All elements in `a` are of type `int` because that is what `range()` returns (try `?range`).\n",
    "\n",
    "![image](./graphics/numpyarray.png)\n",
    "<small><center>(Source: [http://pages.physics.cornell.edu/~myers/teaching/ComputationalMethods/python/arrays.html](http://pages.physics.cornell.edu/~myers/teaching/ComputationalMethods/python/arrays.html)\n",
    "            A graphical depiction of numpy/numpy arrays, which can have multiple dimensions (even greater than 3).\n",
    "</center> </small>\n",
    "\n",
    "You can also specify the data type of the array:"
   ]
  },
  {
   "cell_type": "code",
   "execution_count": 6,
   "metadata": {},
   "outputs": [
    {
     "data": {
      "text/plain": [
       "array([0., 1., 2., 3., 4.])"
      ]
     },
     "execution_count": 6,
     "metadata": {},
     "output_type": "execute_result"
    }
   ],
   "source": [
    "a = sc.array(range(5), float)\n",
    "a"
   ]
  },
  {
   "cell_type": "code",
   "execution_count": 7,
   "metadata": {},
   "outputs": [
    {
     "data": {
      "text/plain": [
       "dtype('float64')"
      ]
     },
     "execution_count": 7,
     "metadata": {},
     "output_type": "execute_result"
    }
   ],
   "source": [
    "a.dtype # Check type "
   ]
  },
  {
   "cell_type": "markdown",
   "metadata": {},
   "source": [
    "You can also get a 1-D arrays as follows:"
   ]
  },
  {
   "cell_type": "code",
   "execution_count": 8,
   "metadata": {},
   "outputs": [
    {
     "data": {
      "text/plain": [
       "array([0, 1, 2, 3, 4])"
      ]
     },
     "execution_count": 8,
     "metadata": {},
     "output_type": "execute_result"
    }
   ],
   "source": [
    "x = sc.arange(5)\n",
    "x"
   ]
  },
  {
   "cell_type": "code",
   "execution_count": 9,
   "metadata": {},
   "outputs": [
    {
     "data": {
      "text/plain": [
       "array([0., 1., 2., 3., 4.])"
      ]
     },
     "execution_count": 9,
     "metadata": {},
     "output_type": "execute_result"
    }
   ],
   "source": [
    "x = sc.arange(5.) #directly specify float using decimal\n",
    "x"
   ]
  },
  {
   "cell_type": "markdown",
   "metadata": {},
   "source": [
    "As with other Python variables (e.g., created as a list or a dictionary), you can apply methods to variables created as numpy arrays. For example, type `x.` and hit TAB to see all methods you can apply to`x`. To see dimensions of `x`:"
   ]
  },
  {
   "cell_type": "code",
   "execution_count": 10,
   "metadata": {},
   "outputs": [
    {
     "data": {
      "text/plain": [
       "(5,)"
      ]
     },
     "execution_count": 10,
     "metadata": {},
     "output_type": "execute_result"
    }
   ],
   "source": [
    "x.shape"
   ]
  },
  {
   "cell_type": "markdown",
   "metadata": {},
   "source": [
    "Remember, you can type `:?x.methodname` to get info on a particular method. For example, try `?x.shape`.\n",
    "\n",
    "You can also convert to and from Python lists (recall [list comprehensions](./05-Python_I.ipynb#Comprehensions)):"
   ]
  },
  {
   "cell_type": "code",
   "execution_count": 11,
   "metadata": {},
   "outputs": [
    {
     "data": {
      "text/plain": [
       "array([1, 3, 5, 7, 9])"
      ]
     },
     "execution_count": 11,
     "metadata": {},
     "output_type": "execute_result"
    }
   ],
   "source": [
    "b = sc.array([i for i in range(10) if i % 2 == 1]) #odd numbers between 1 and 10 \n",
    "b"
   ]
  },
  {
   "cell_type": "code",
   "execution_count": 12,
   "metadata": {},
   "outputs": [
    {
     "data": {
      "text/plain": [
       "[1, 3, 5, 7, 9]"
      ]
     },
     "execution_count": 12,
     "metadata": {},
     "output_type": "execute_result"
    }
   ],
   "source": [
    "c = b.tolist() #convert back to list\n",
    "c"
   ]
  },
  {
   "cell_type": "markdown",
   "metadata": {},
   "source": [
    "To make a matrix, you need a 2-D numpy array:"
   ]
  },
  {
   "cell_type": "code",
   "execution_count": 13,
   "metadata": {},
   "outputs": [
    {
     "data": {
      "text/plain": [
       "array([[0, 1],\n",
       "       [2, 3]])"
      ]
     },
     "execution_count": 13,
     "metadata": {},
     "output_type": "execute_result"
    }
   ],
   "source": [
    "mat = sc.array([[0, 1], [2, 3]])\n",
    "mat"
   ]
  },
  {
   "cell_type": "code",
   "execution_count": 14,
   "metadata": {
    "scrolled": true
   },
   "outputs": [
    {
     "data": {
      "text/plain": [
       "(2, 2)"
      ]
     },
     "execution_count": 14,
     "metadata": {},
     "output_type": "execute_result"
    }
   ],
   "source": [
    "mat.shape"
   ]
  },
  {
   "cell_type": "markdown",
   "metadata": {},
   "source": [
    "## Indexing and accessing arrays\n",
    "\n",
    "As with other Python data objects such as lists, numpy array elements can be accessed using square brackets (`[ ]`) with the usual `[row,column]` reference. Indexing of numpy arrays works like that for other data structures, with index values starting at 0. So, you can obtain all the elements of a particular row as:"
   ]
  },
  {
   "cell_type": "code",
   "execution_count": 15,
   "metadata": {},
   "outputs": [
    {
     "data": {
      "text/plain": [
       "array([2, 3])"
      ]
     },
     "execution_count": 15,
     "metadata": {},
     "output_type": "execute_result"
    }
   ],
   "source": [
    "mat[1] # accessing whole 2nd row, remember indexing starts at  0"
   ]
  },
  {
   "cell_type": "code",
   "execution_count": 16,
   "metadata": {},
   "outputs": [
    {
     "data": {
      "text/plain": [
       "array([1, 3])"
      ]
     },
     "execution_count": 16,
     "metadata": {},
     "output_type": "execute_result"
    }
   ],
   "source": [
    "mat[:,1] #accessing whole second column  "
   ]
  },
  {
   "cell_type": "markdown",
   "metadata": {},
   "source": [
    "And accessing particular elements:"
   ]
  },
  {
   "cell_type": "code",
   "execution_count": 17,
   "metadata": {},
   "outputs": [
    {
     "data": {
      "text/plain": [
       "0"
      ]
     },
     "execution_count": 17,
     "metadata": {},
     "output_type": "execute_result"
    }
   ],
   "source": [
    "mat[0,0] # 1st row, 1st column element"
   ]
  },
  {
   "cell_type": "code",
   "execution_count": 18,
   "metadata": {},
   "outputs": [
    {
     "data": {
      "text/plain": [
       "2"
      ]
     },
     "execution_count": 18,
     "metadata": {},
     "output_type": "execute_result"
    }
   ],
   "source": [
    "mat[1,0] # 2nd row, 1st column element"
   ]
  },
  {
   "cell_type": "markdown",
   "metadata": {},
   "source": [
    "Note that (like all other programming languages) row index always comes before column index. That is, `mat[1]` is always going to mean \"whole second row\", and `mat[1,1]` means 1st row and 1st column element. Therefore, to access the whole second column, you need:"
   ]
  },
  {
   "cell_type": "code",
   "execution_count": 19,
   "metadata": {},
   "outputs": [
    {
     "data": {
      "text/plain": [
       "array([0, 2])"
      ]
     },
     "execution_count": 19,
     "metadata": {},
     "output_type": "execute_result"
    }
   ],
   "source": [
    "mat[:,0] #accessing whole first column  "
   ]
  },
  {
   "cell_type": "markdown",
   "metadata": {},
   "source": [
    "Python indexing also accepts negative values for going back to the start\n",
    "from the end of an array:"
   ]
  },
  {
   "cell_type": "code",
   "execution_count": 20,
   "metadata": {},
   "outputs": [
    {
     "data": {
      "text/plain": [
       "1"
      ]
     },
     "execution_count": 20,
     "metadata": {},
     "output_type": "execute_result"
    }
   ],
   "source": [
    "mat[0,1]"
   ]
  },
  {
   "cell_type": "code",
   "execution_count": 21,
   "metadata": {},
   "outputs": [
    {
     "data": {
      "text/plain": [
       "1"
      ]
     },
     "execution_count": 21,
     "metadata": {},
     "output_type": "execute_result"
    }
   ],
   "source": [
    "mat[0,-1]"
   ]
  },
  {
   "cell_type": "code",
   "execution_count": 22,
   "metadata": {
    "scrolled": true
   },
   "outputs": [
    {
     "data": {
      "text/plain": [
       "2"
      ]
     },
     "execution_count": 22,
     "metadata": {},
     "output_type": "execute_result"
    }
   ],
   "source": [
    "mat[-1,0]"
   ]
  },
  {
   "cell_type": "code",
   "execution_count": 23,
   "metadata": {},
   "outputs": [
    {
     "data": {
      "text/plain": [
       "0"
      ]
     },
     "execution_count": 23,
     "metadata": {},
     "output_type": "execute_result"
    }
   ],
   "source": [
    "mat[0,-2]"
   ]
  },
  {
   "cell_type": "markdown",
   "metadata": {},
   "source": [
    "Very interesting, but rather useless for this simple matrix!"
   ]
  },
  {
   "cell_type": "markdown",
   "metadata": {},
   "source": [
    "### Manipulating arrays\n",
    "\n",
    "Manipulating numpy arrays is pretty straightforward. \n",
    "\n",
    "---\n",
    "> **Why numpy arrays are computationally efficient:**  The data associated with a numpy array object (its metadata  &ndash; number of dimensions, shape, data type, etc &ndash; as well as the actual data) are stored in a homogeneous and contiguous block of memory (a \"data buffer\"), at a particular address in the system's RAM (Random Access Memory). This makes numpy arrays more efficient than a pure Python data structures like lists whose data are scattered across the system memory.\n",
    "\n",
    "---\n",
    "\n",
    "#### Replacing, adding or deleting elements\n",
    "\n",
    "Let's look at how you can replace, add, or delete an array element (a single entry, or whole row(s) or whole column(s)):"
   ]
  },
  {
   "cell_type": "code",
   "execution_count": 24,
   "metadata": {},
   "outputs": [
    {
     "data": {
      "text/plain": [
       "array([[-1,  1],\n",
       "       [ 2,  3]])"
      ]
     },
     "execution_count": 24,
     "metadata": {},
     "output_type": "execute_result"
    }
   ],
   "source": [
    "mat[0,0] = -1 #replace a single element\n",
    "mat"
   ]
  },
  {
   "cell_type": "code",
   "execution_count": 25,
   "metadata": {},
   "outputs": [
    {
     "data": {
      "text/plain": [
       "array([[12,  1],\n",
       "       [12,  3]])"
      ]
     },
     "execution_count": 25,
     "metadata": {},
     "output_type": "execute_result"
    }
   ],
   "source": [
    "mat[:,0] = [12,12] #replace whole column\n",
    "mat"
   ]
  },
  {
   "cell_type": "code",
   "execution_count": 26,
   "metadata": {
    "scrolled": true
   },
   "outputs": [
    {
     "data": {
      "text/plain": [
       "array([[12,  1],\n",
       "       [12,  3],\n",
       "       [12, 12]])"
      ]
     },
     "execution_count": 26,
     "metadata": {},
     "output_type": "execute_result"
    }
   ],
   "source": [
    "sc.append(mat, [[12,12]], axis = 0) #append row, note axis specification"
   ]
  },
  {
   "cell_type": "code",
   "execution_count": 27,
   "metadata": {},
   "outputs": [
    {
     "data": {
      "text/plain": [
       "array([[12,  1, 12],\n",
       "       [12,  3, 12]])"
      ]
     },
     "execution_count": 27,
     "metadata": {},
     "output_type": "execute_result"
    }
   ],
   "source": [
    "sc.append(mat, [[12],[12]], axis = 1) #append column"
   ]
  },
  {
   "cell_type": "code",
   "execution_count": 28,
   "metadata": {},
   "outputs": [],
   "source": [
    "newRow = [[12,12]] #create new row"
   ]
  },
  {
   "cell_type": "code",
   "execution_count": 29,
   "metadata": {},
   "outputs": [
    {
     "data": {
      "text/plain": [
       "array([[12,  1],\n",
       "       [12,  3],\n",
       "       [12, 12]])"
      ]
     },
     "execution_count": 29,
     "metadata": {},
     "output_type": "execute_result"
    }
   ],
   "source": [
    "mat = sc.append(mat, newRow, axis = 0) #append that existing row\n",
    "mat"
   ]
  },
  {
   "cell_type": "code",
   "execution_count": 30,
   "metadata": {},
   "outputs": [
    {
     "data": {
      "text/plain": [
       "array([[12,  1],\n",
       "       [12,  3]])"
      ]
     },
     "execution_count": 30,
     "metadata": {},
     "output_type": "execute_result"
    }
   ],
   "source": [
    "sc.delete(mat, 2, 0) #Delete 3rd row"
   ]
  },
  {
   "cell_type": "markdown",
   "metadata": {},
   "source": [
    "And concatenation:"
   ]
  },
  {
   "cell_type": "code",
   "execution_count": 31,
   "metadata": {},
   "outputs": [
    {
     "data": {
      "text/plain": [
       "array([[ 0,  1],\n",
       "       [ 2,  3],\n",
       "       [ 0, 10],\n",
       "       [-1,  3]])"
      ]
     },
     "execution_count": 31,
     "metadata": {},
     "output_type": "execute_result"
    }
   ],
   "source": [
    "mat = sc.array([[0, 1], [2, 3]])\n",
    "mat0 = sc.array([[0, 10], [-1, 3]])\n",
    "sc.concatenate((mat, mat0), axis = 0)"
   ]
  },
  {
   "cell_type": "markdown",
   "metadata": {},
   "source": [
    "#### Flattening or reshaping arrays\n",
    "\n",
    "You can also \"flatten\" or \"melt\" arrays, that is, change array dimensions (e.g., from a matrix to a vector):"
   ]
  },
  {
   "cell_type": "code",
   "execution_count": 32,
   "metadata": {},
   "outputs": [
    {
     "data": {
      "text/plain": [
       "array([0, 1, 2, 3])"
      ]
     },
     "execution_count": 32,
     "metadata": {},
     "output_type": "execute_result"
    }
   ],
   "source": [
    "mat.ravel() # NOTE: ravel is row-priority - happens row by row"
   ]
  },
  {
   "cell_type": "code",
   "execution_count": 33,
   "metadata": {},
   "outputs": [
    {
     "data": {
      "text/plain": [
       "array([[0],\n",
       "       [1],\n",
       "       [2],\n",
       "       [3]])"
      ]
     },
     "execution_count": 33,
     "metadata": {},
     "output_type": "execute_result"
    }
   ],
   "source": [
    "mat.reshape((4,1)) # this is different from ravel - check ?sc.reshape"
   ]
  },
  {
   "cell_type": "code",
   "execution_count": 34,
   "metadata": {},
   "outputs": [
    {
     "data": {
      "text/plain": [
       "array([[0, 1, 2, 3]])"
      ]
     },
     "execution_count": 34,
     "metadata": {},
     "output_type": "execute_result"
    }
   ],
   "source": [
    "mat.reshape((1,4)) # NOTE: reshaping is also row-priority"
   ]
  },
  {
   "cell_type": "code",
   "execution_count": 35,
   "metadata": {},
   "outputs": [
    {
     "ename": "ValueError",
     "evalue": "cannot reshape array of size 4 into shape (3,1)",
     "output_type": "error",
     "traceback": [
      "\u001b[0;31m---------------------------------------------------------------------------\u001b[0m",
      "\u001b[0;31mValueError\u001b[0m                                Traceback (most recent call last)",
      "\u001b[0;32m<ipython-input-35-b2ac8bfd10e7>\u001b[0m in \u001b[0;36m<module>\u001b[0;34m\u001b[0m\n\u001b[0;32m----> 1\u001b[0;31m \u001b[0mmat\u001b[0m\u001b[0;34m.\u001b[0m\u001b[0mreshape\u001b[0m\u001b[0;34m(\u001b[0m\u001b[0;34m(\u001b[0m\u001b[0;36m3\u001b[0m\u001b[0;34m,\u001b[0m \u001b[0;36m1\u001b[0m\u001b[0;34m)\u001b[0m\u001b[0;34m)\u001b[0m \u001b[0;31m# But total elements must remain the same!\u001b[0m\u001b[0;34m\u001b[0m\u001b[0;34m\u001b[0m\u001b[0m\n\u001b[0m",
      "\u001b[0;31mValueError\u001b[0m: cannot reshape array of size 4 into shape (3,1)"
     ]
    }
   ],
   "source": [
    "mat.reshape((3, 1)) # But total elements must remain the same!"
   ]
  },
  {
   "cell_type": "markdown",
   "metadata": {},
   "source": [
    "This is a bit different than how [`R` behaves](07-R.ipynb#Recycling), where you won't get an error (R \"recycles\" data), which can be dangerous!\n",
    "\n",
    "### Pre-allocating arrays\n",
    "\n",
    "As in other computer languages, it is usually more efficient to preallocate an array rather than append / insert / concatenate additional elements, rows, or columns. *Why*? &ndash; because you might run out of contiguous space in the specific system memory (RAM) address where the current array is stored. Preallocation allocates all the RAM memory you need in one call, while resizing the array (through `append`, `insert`, `concatenate`, `resize`, etc.) may require copying the array to a larger block of memory, slowing things down, and significantly so if the matrix/array is very large.\n",
    "\n",
    "For example, if you know the size of your matrix or array, you can initialize it with ones or zeros:"
   ]
  },
  {
   "cell_type": "code",
   "execution_count": 76,
   "metadata": {
    "scrolled": true
   },
   "outputs": [
    {
     "data": {
      "text/plain": [
       "array([[1., 1.],\n",
       "       [1., 1.],\n",
       "       [1., 1.],\n",
       "       [1., 1.]])"
      ]
     },
     "execution_count": 76,
     "metadata": {},
     "output_type": "execute_result"
    }
   ],
   "source": [
    "sc.ones((4,2)) #(4,2) are the (row,col) array dimensions"
   ]
  },
  {
   "cell_type": "code",
   "execution_count": 37,
   "metadata": {
    "scrolled": true
   },
   "outputs": [
    {
     "data": {
      "text/plain": [
       "array([[0., 0.],\n",
       "       [0., 0.],\n",
       "       [0., 0.],\n",
       "       [0., 0.]])"
      ]
     },
     "execution_count": 37,
     "metadata": {},
     "output_type": "execute_result"
    }
   ],
   "source": [
    "sc.zeros((4,2)) # or zeros"
   ]
  },
  {
   "cell_type": "code",
   "execution_count": 38,
   "metadata": {},
   "outputs": [
    {
     "data": {
      "text/plain": [
       "array([[1., 0., 0., 0.],\n",
       "       [0., 1., 0., 0.],\n",
       "       [0., 0., 1., 0.],\n",
       "       [0., 0., 0., 1.]])"
      ]
     },
     "execution_count": 38,
     "metadata": {},
     "output_type": "execute_result"
    }
   ],
   "source": [
    "m = sc.identity(4) #create an identity matrix\n",
    "m"
   ]
  },
  {
   "cell_type": "code",
   "execution_count": 39,
   "metadata": {},
   "outputs": [
    {
     "data": {
      "text/plain": [
       "array([[16., 16., 16., 16.],\n",
       "       [16., 16., 16., 16.],\n",
       "       [16., 16., 16., 16.],\n",
       "       [16., 16., 16., 16.]])"
      ]
     },
     "execution_count": 39,
     "metadata": {},
     "output_type": "execute_result"
    }
   ],
   "source": [
    "m.fill(16) #fill the matrix with 16\n",
    "m"
   ]
  },
  {
   "cell_type": "markdown",
   "metadata": {},
   "source": [
    "### `numpy` matrices\n",
    "\n",
    "Scipy/Numpy also has a `matrix` data structure class. Numpy matrices are strictly 2-dimensional, while numpy arrays are N-dimensional. Matrix objects are a subclass of numpy arrays, so they inherit all the attributes and methods of numpy arrays (ndarrays).\n",
    "\n",
    "The main advantage of scipy matrices is that they provide a convenient notation for matrix multiplication: for example, if `a` and `b` are matrices, then `a * b` is their matrix product.\n",
    "\n",
    "#### Matrix-vector operations\n",
    "\n",
    "Now let's perform some common matrix-vector operations on arrays (you can also try the same using matrices instead of arrays):"
   ]
  },
  {
   "cell_type": "code",
   "execution_count": 40,
   "metadata": {},
   "outputs": [
    {
     "data": {
      "text/plain": [
       "array([[ 0,  1,  2,  3],\n",
       "       [ 4,  5,  6,  7],\n",
       "       [ 8,  9, 10, 11],\n",
       "       [12, 13, 14, 15]])"
      ]
     },
     "execution_count": 40,
     "metadata": {},
     "output_type": "execute_result"
    }
   ],
   "source": [
    "mm = sc.arange(16)\n",
    "mm = mm.reshape(4,4) #Convert to matrix\n",
    "mm"
   ]
  },
  {
   "cell_type": "code",
   "execution_count": 41,
   "metadata": {
    "scrolled": true
   },
   "outputs": [
    {
     "data": {
      "text/plain": [
       "array([[ 0,  4,  8, 12],\n",
       "       [ 1,  5,  9, 13],\n",
       "       [ 2,  6, 10, 14],\n",
       "       [ 3,  7, 11, 15]])"
      ]
     },
     "execution_count": 41,
     "metadata": {},
     "output_type": "execute_result"
    }
   ],
   "source": [
    "mm.transpose()"
   ]
  },
  {
   "cell_type": "code",
   "execution_count": 42,
   "metadata": {
    "scrolled": true
   },
   "outputs": [
    {
     "data": {
      "text/plain": [
       "array([[ 0,  5, 10, 15],\n",
       "       [ 5, 10, 15, 20],\n",
       "       [10, 15, 20, 25],\n",
       "       [15, 20, 25, 30]])"
      ]
     },
     "execution_count": 42,
     "metadata": {},
     "output_type": "execute_result"
    }
   ],
   "source": [
    "mm + mm.transpose()"
   ]
  },
  {
   "cell_type": "code",
   "execution_count": 43,
   "metadata": {
    "scrolled": true
   },
   "outputs": [
    {
     "data": {
      "text/plain": [
       "array([[ 0, -3, -6, -9],\n",
       "       [ 3,  0, -3, -6],\n",
       "       [ 6,  3,  0, -3],\n",
       "       [ 9,  6,  3,  0]])"
      ]
     },
     "execution_count": 43,
     "metadata": {},
     "output_type": "execute_result"
    }
   ],
   "source": [
    "mm - mm.transpose()"
   ]
  },
  {
   "cell_type": "code",
   "execution_count": 44,
   "metadata": {},
   "outputs": [
    {
     "data": {
      "text/plain": [
       "array([[  0,   4,  16,  36],\n",
       "       [  4,  25,  54,  91],\n",
       "       [ 16,  54, 100, 154],\n",
       "       [ 36,  91, 154, 225]])"
      ]
     },
     "execution_count": 44,
     "metadata": {},
     "output_type": "execute_result"
    }
   ],
   "source": [
    "mm * mm.transpose() ## Note: Elementwise multiplication!"
   ]
  },
  {
   "cell_type": "code",
   "execution_count": 45,
   "metadata": {
    "scrolled": true
   },
   "outputs": [
    {
     "name": "stderr",
     "output_type": "stream",
     "text": [
      "<ipython-input-45-2d8eab61478f>:1: RuntimeWarning: divide by zero encountered in floor_divide\n",
      "  mm // mm.transpose()\n"
     ]
    },
    {
     "data": {
      "text/plain": [
       "array([[0, 0, 0, 0],\n",
       "       [4, 1, 0, 0],\n",
       "       [4, 1, 1, 0],\n",
       "       [4, 1, 1, 1]])"
      ]
     },
     "execution_count": 45,
     "metadata": {},
     "output_type": "execute_result"
    }
   ],
   "source": [
    "mm // mm.transpose()"
   ]
  },
  {
   "cell_type": "markdown",
   "metadata": {},
   "source": [
    "Note that we used integer division `//`. Note also the warning you get(because of zero division). So let's avoid the divide by zero:"
   ]
  },
  {
   "cell_type": "code",
   "execution_count": 46,
   "metadata": {},
   "outputs": [
    {
     "data": {
      "text/plain": [
       "array([[0, 0, 0, 0],\n",
       "       [2, 0, 0, 0],\n",
       "       [2, 1, 0, 0],\n",
       "       [3, 1, 1, 0]])"
      ]
     },
     "execution_count": 46,
     "metadata": {},
     "output_type": "execute_result"
    }
   ],
   "source": [
    "mm // (mm + 1).transpose()"
   ]
  },
  {
   "cell_type": "code",
   "execution_count": 47,
   "metadata": {},
   "outputs": [
    {
     "data": {
      "text/plain": [
       "array([[ 0.        ,  3.14159265,  6.28318531,  9.42477796],\n",
       "       [12.56637061, 15.70796327, 18.84955592, 21.99114858],\n",
       "       [25.13274123, 28.27433388, 31.41592654, 34.55751919],\n",
       "       [37.69911184, 40.8407045 , 43.98229715, 47.1238898 ]])"
      ]
     },
     "execution_count": 47,
     "metadata": {},
     "output_type": "execute_result"
    }
   ],
   "source": [
    "mm * sc.pi"
   ]
  },
  {
   "cell_type": "code",
   "execution_count": 48,
   "metadata": {},
   "outputs": [
    {
     "data": {
      "text/plain": [
       "array([[ 56,  62,  68,  74],\n",
       "       [152, 174, 196, 218],\n",
       "       [248, 286, 324, 362],\n",
       "       [344, 398, 452, 506]])"
      ]
     },
     "execution_count": 48,
     "metadata": {},
     "output_type": "execute_result"
    }
   ],
   "source": [
    "mm.dot(mm) # MATRIX MULTIPLICATION, OR DOT PRODUCT "
   ]
  },
  {
   "cell_type": "code",
   "execution_count": 49,
   "metadata": {},
   "outputs": [
    {
     "data": {
      "text/plain": [
       "matrix([[ 0,  1,  2,  3],\n",
       "        [ 4,  5,  6,  7],\n",
       "        [ 8,  9, 10, 11],\n",
       "        [12, 13, 14, 15]])"
      ]
     },
     "execution_count": 49,
     "metadata": {},
     "output_type": "execute_result"
    }
   ],
   "source": [
    "mm = sc.matrix(mm) # convert to scipy matrix class\n",
    "mm"
   ]
  },
  {
   "cell_type": "code",
   "execution_count": 50,
   "metadata": {},
   "outputs": [
    {
     "name": "stdout",
     "output_type": "stream",
     "text": [
      "<class 'numpy.matrix'>\n"
     ]
    }
   ],
   "source": [
    "print(type(mm))"
   ]
  },
  {
   "cell_type": "code",
   "execution_count": 51,
   "metadata": {},
   "outputs": [
    {
     "data": {
      "text/plain": [
       "matrix([[ 56,  62,  68,  74],\n",
       "        [152, 174, 196, 218],\n",
       "        [248, 286, 324, 362],\n",
       "        [344, 398, 452, 506]])"
      ]
     },
     "execution_count": 51,
     "metadata": {},
     "output_type": "execute_result"
    }
   ],
   "source": [
    "mm * mm # now matrix multiplication is syntactically easier"
   ]
  },
  {
   "cell_type": "markdown",
   "metadata": {},
   "source": [
    "We can do a lot more by importing the `linalg` sub-package: `sc.linalg`. Try it."
   ]
  },
  {
   "cell_type": "markdown",
   "metadata": {},
   "source": [
    "## Two particularly useful `scipy` sub-packages\n",
    "\n",
    "Two particularly useful `scipy` sub-packages are `sc.integrate` (*what will I need this for?*) and `sc.stats`. *Why not use `R` for this?* — because often you might just want to calculate some summary stats of your simulation results within Python.\n",
    "\n",
    "### Scipy stats\n",
    "\n",
    "Let's take a quick spin in `sc.stats`."
   ]
  },
  {
   "cell_type": "code",
   "execution_count": 52,
   "metadata": {},
   "outputs": [],
   "source": [
    "import scipy.stats"
   ]
  },
  {
   "cell_type": "code",
   "execution_count": 53,
   "metadata": {},
   "outputs": [
    {
     "data": {
      "text/plain": [
       "array([-0.10221218,  1.57173508,  2.00646211, -0.06235425,  0.53467945,\n",
       "       -1.41215707, -0.84760439,  0.43217058, -2.64280142,  0.26944236])"
      ]
     },
     "execution_count": 53,
     "metadata": {},
     "output_type": "execute_result"
    }
   ],
   "source": [
    "scipy.stats.norm.rvs(size = 10) # 10 samples from N(0,1)"
   ]
  },
  {
   "cell_type": "code",
   "execution_count": 54,
   "metadata": {
    "scrolled": true
   },
   "outputs": [
    {
     "data": {
      "text/plain": [
       "array([9, 4, 0, 8, 4, 7, 8])"
      ]
     },
     "execution_count": 54,
     "metadata": {},
     "output_type": "execute_result"
    }
   ],
   "source": [
    "scipy.stats.randint.rvs(0, 10, size =7) # Random integers between 0 and 10"
   ]
  },
  {
   "cell_type": "markdown",
   "metadata": {},
   "source": [
    "### Numerical integration using  `scipy`\n",
    "\n",
    "Numerical integration is the approximate computation of an integral using numerical techniques. You need numerical integration whenever you have a complicated function that cannot be integrated analytically using anti-derivatives. For example, calculating the area under a curve is a particularly useful application is solving ordinary differential equations (ODEs), commonly used for modelling biological systems.\n",
    "\n",
    "#### The Lotka-Volterra model\n",
    "\n",
    "Let's try numerical integration in Python for solving a classical model in biology — the Lotka-Volterra model for a predator-prey system in two-dimensional space (e.g., on land).\n",
    "\n",
    "The Lotka-Volterra (LV) model is: \n",
    "\n",
    "\\begin{aligned}\n",
    "    \\frac{dR}{dt} &= r R - a C R \\\\\n",
    "    \\frac{dC}{dt} &= - z C + e a C R\n",
    "\\end{aligned}\n",
    "\n",
    "where $C$ and $R$ are consumer (e.g., predator) and resource (e.g., prey) population abundance (either number $\\times$ area$^{-1}$ ), $r$ is the intrinsic (per-capita) growth rate of the resource population (time$^{-1}$), $a$ is per-capita \"search rate\" for the resource ($\\text{area}\\times \\text{time}^{-1}$)  multiplied by its attack success probability, which determines the encounter and consumption rate of the consumer on the resource, $z$ is mortality rate ($\\text{time}^{-1}$) and $e$ is the consumer's efficiency (a fraction) in converting resource to consumer biomass.\n",
    "\n",
    "We have already imported scipy above (`import scipy as sc`) so we can proceed to solve the LV model using numerical integration. \n",
    "\n",
    "First, import `scipy`'s `integrate` submodule:"
   ]
  },
  {
   "cell_type": "code",
   "execution_count": 55,
   "metadata": {},
   "outputs": [],
   "source": [
    "import scipy.integrate as integrate"
   ]
  },
  {
   "cell_type": "markdown",
   "metadata": {},
   "source": [
    "Now define a function that returns the growth rate of consumer and resource population at any given time step."
   ]
  },
  {
   "cell_type": "code",
   "execution_count": 56,
   "metadata": {},
   "outputs": [],
   "source": [
    "def dCR_dt(pops, t=0):\n",
    "\n",
    "    R = pops[0]\n",
    "    C = pops[1]\n",
    "    dRdt = r * R - a * R * C \n",
    "    dCdt = -z * C + e * a * R * C\n",
    "    \n",
    "    return sc.array([dRdt, dCdt])"
   ]
  },
  {
   "cell_type": "code",
   "execution_count": 57,
   "metadata": {
    "scrolled": true
   },
   "outputs": [
    {
     "data": {
      "text/plain": [
       "function"
      ]
     },
     "execution_count": 57,
     "metadata": {},
     "output_type": "execute_result"
    }
   ],
   "source": [
    "type(dCR_dt)"
   ]
  },
  {
   "cell_type": "markdown",
   "metadata": {},
   "source": [
    "So `dCR_dt` has been stored as a function object in the current Python session, all ready to go. \n",
    "\n",
    "Now assign some parameter values:"
   ]
  },
  {
   "cell_type": "code",
   "execution_count": 58,
   "metadata": {},
   "outputs": [],
   "source": [
    "r = 1.\n",
    "a = 0.1 \n",
    "z = 1.5\n",
    "e = 0.75"
   ]
  },
  {
   "cell_type": "markdown",
   "metadata": {},
   "source": [
    "Define the time vector; let's integrate from time point 0 to 15, using 1000 sub-divisions of time:"
   ]
  },
  {
   "cell_type": "code",
   "execution_count": 59,
   "metadata": {},
   "outputs": [],
   "source": [
    "t = sc.linspace(0, 15, 1000)"
   ]
  },
  {
   "cell_type": "markdown",
   "metadata": {},
   "source": [
    "Note that the units of time are arbitrary here. "
   ]
  },
  {
   "cell_type": "markdown",
   "metadata": {},
   "source": [
    "Set the initial conditions for the two populations (10 resources and 5 consumers per unit area), and convert the two into an array (because our `dCR_dt` function take an array as input). "
   ]
  },
  {
   "cell_type": "code",
   "execution_count": 60,
   "metadata": {},
   "outputs": [],
   "source": [
    "R0 = 10\n",
    "C0 = 5 \n",
    "RC0 = sc.array([R0, C0])"
   ]
  },
  {
   "cell_type": "markdown",
   "metadata": {},
   "source": [
    "Now numerically integrate this system forward from those starting conditions: "
   ]
  },
  {
   "cell_type": "code",
   "execution_count": 61,
   "metadata": {},
   "outputs": [],
   "source": [
    "pops, infodict = integrate.odeint(dCR_dt, RC0, t, full_output=True)"
   ]
  },
  {
   "cell_type": "code",
   "execution_count": 62,
   "metadata": {},
   "outputs": [
    {
     "data": {
      "text/plain": [
       "array([[10.        ,  5.        ],\n",
       "       [10.07578091,  4.94421976],\n",
       "       [10.1529783 ,  4.88948321],\n",
       "       ...,\n",
       "       [ 9.99869712, 17.56204194],\n",
       "       [ 9.8872779 , 17.3642589 ],\n",
       "       [ 9.78000354, 17.16658946]])"
      ]
     },
     "execution_count": 62,
     "metadata": {},
     "output_type": "execute_result"
    }
   ],
   "source": [
    "pops"
   ]
  },
  {
   "cell_type": "markdown",
   "metadata": {},
   "source": [
    "So `pops` contains the result (the population trajectories).  Also check what's in infodict (it's a  dictionary with additional information)"
   ]
  },
  {
   "cell_type": "code",
   "execution_count": 63,
   "metadata": {},
   "outputs": [
    {
     "data": {
      "text/plain": [
       "dict"
      ]
     },
     "execution_count": 63,
     "metadata": {},
     "output_type": "execute_result"
    }
   ],
   "source": [
    "type(infodict)"
   ]
  },
  {
   "cell_type": "code",
   "execution_count": 64,
   "metadata": {},
   "outputs": [
    {
     "data": {
      "text/plain": [
       "dict_keys(['hu', 'tcur', 'tolsf', 'tsw', 'nst', 'nfe', 'nje', 'nqu', 'imxer', 'lenrw', 'leniw', 'mused', 'message'])"
      ]
     },
     "execution_count": 64,
     "metadata": {},
     "output_type": "execute_result"
    }
   ],
   "source": [
    "infodict.keys()"
   ]
  },
  {
   "cell_type": "markdown",
   "metadata": {},
   "source": [
    "Check what the `infodict` output is by reading the help documentation with `?scipy.integrate.odeint`. For example, you can return a message to screen about whether the integration was successful: "
   ]
  },
  {
   "cell_type": "code",
   "execution_count": 65,
   "metadata": {},
   "outputs": [
    {
     "data": {
      "text/plain": [
       "'Integration successful.'"
      ]
     },
     "execution_count": 65,
     "metadata": {},
     "output_type": "execute_result"
    }
   ],
   "source": [
    "infodict['message']"
   ]
  },
  {
   "cell_type": "markdown",
   "metadata": {},
   "source": [
    "So it worked, great! \n",
    "\n",
    "But we would like to visualize the results. Let's do it using the `matplotlib` package. \n",
    "\n",
    "## Plotting in Python \n",
    "\n",
    "To visualize the results of your numerical simulations in Python (or for data exploration/analyses), you can use `matplotlib`, which uses Matlab like plotting syntax.\n",
    "\n",
    "First let's import the package:"
   ]
  },
  {
   "cell_type": "code",
   "execution_count": 66,
   "metadata": {},
   "outputs": [],
   "source": [
    "import matplotlib.pylab as p"
   ]
  },
  {
   "cell_type": "markdown",
   "metadata": {},
   "source": [
    "Now open an empty figure object (analogous to an R graphics object)."
   ]
  },
  {
   "cell_type": "code",
   "execution_count": 67,
   "metadata": {
    "scrolled": true
   },
   "outputs": [
    {
     "data": {
      "text/plain": [
       "<Figure size 432x288 with 0 Axes>"
      ]
     },
     "metadata": {},
     "output_type": "display_data"
    }
   ],
   "source": [
    "f1 = p.figure()"
   ]
  },
  {
   "cell_type": "code",
   "execution_count": 68,
   "metadata": {},
   "outputs": [
    {
     "data": {
      "image/png": "[encoded data removed]",
      "text/plain": [
       "<Figure size 432x288 with 1 Axes>"
      ]
     },
     "metadata": {
      "needs_background": "light"
     },
     "output_type": "display_data"
    }
   ],
   "source": [
    "p.plot(t, pops[:,0], 'g-', label='Resource density') # Plot\n",
    "p.plot(t, pops[:,1]  , 'b-', label='Consumer density')\n",
    "p.grid()\n",
    "p.legend(loc='best')\n",
    "p.xlabel('Time')\n",
    "p.ylabel('Population density')\n",
    "p.title('Consumer-Resource population dynamics')\n",
    "p.show()# To display the figure"
   ]
  },
  {
   "cell_type": "markdown",
   "metadata": {},
   "source": [
    "Finally, save the figure as a pdf:"
   ]
  },
  {
   "cell_type": "code",
   "execution_count": 69,
   "metadata": {},
   "outputs": [],
   "source": [
    "f1.savefig('../results/LV_model.pdf') #Save figure"
   ]
  },
  {
   "cell_type": "markdown",
   "metadata": {},
   "source": [
    "You can use many other output formats; check the documentation of `p.savefig`. "
   ]
  },
  {
   "cell_type": "markdown",
   "metadata": {},
   "source": [
    "## Practicals\n",
    "\n",
    "1. Create a self-standing script using the above example and save it as `LV1.py` in your code directory. In addition to generating the above figure, it should also generate the following figure: \n",
    "\n",
    "![image](./graphics/LV_model_CR.png)\n",
    "<small><center>\n",
    "            Generate this figure as part of the `LV1.py` script.\n",
    "</center></small>\n",
    "\n",
    "It should save both figures in pdf to the `results` directory, *without displaying them on screen*."
   ]
  },
  {
   "cell_type": "markdown",
   "metadata": {},
   "source": [
    "## The need for speed: profiling code\n",
    "\n",
    "Donald Knuth says: *Premature optimization is the root of all evil*. \n",
    "\n",
    "Indeed, computational speed may not be your initial concern. Also, you should focus on developing clean, reliable, reusable code rather than worrying first about how fast your code runs. However, speed will become an issue when and if your analysis or modeling becomes complex enough (e.g., food web or large network simulations). In that case, knowing which parts of your code take the most time is useful – optimizing those parts may save you lots of time. \n",
    "\n",
    "To find out what is slowing down your code you need to \"profile\" your code: locate the sections of your code where  speed bottlenecks exist. \n",
    "\n",
    "### Profiling in Python\n",
    "\n",
    "Profiling is easy in `ipython` – simply use the command: \n",
    "\n",
    "```python\n",
    "%run -p your_function_name\n",
    "```\n",
    "\n",
    "Let's write an illustrative program (name it `profileme.py`) and run it:"
   ]
  },
  {
   "cell_type": "code",
   "execution_count": 70,
   "metadata": {},
   "outputs": [
    {
     "name": "stdout",
     "output_type": "stream",
     "text": [
      "10000000 My string\n"
     ]
    },
    {
     "data": {
      "text/plain": [
       "0"
      ]
     },
     "execution_count": 70,
     "metadata": {},
     "output_type": "execute_result"
    }
   ],
   "source": [
    "def my_squares(iters):\n",
    "    out = []\n",
    "    for i in range(iters):\n",
    "        out.append(i ** 2)\n",
    "    return out\n",
    "\n",
    "def my_join(iters, string):\n",
    "    out = ''\n",
    "    for i in range(iters):\n",
    "        out += string.join(\", \")\n",
    "    return out\n",
    "\n",
    "def run_my_funcs(x,y):\n",
    "    print(x,y)\n",
    "    my_squares(x)\n",
    "    my_join(x,y)\n",
    "    return 0\n",
    "\n",
    "run_my_funcs(10000000,\"My string\")"
   ]
  },
  {
   "cell_type": "markdown",
   "metadata": {},
   "source": [
    "Look carefully at what each of these functions does. \n",
    "\n",
    "Now run the script with `run -p profileme.py`, and you should see something like: \n",
    "\n",
    "```bash\n",
    "        20000063 function calls (20000062 primitive calls) in 9.026 seconds\n",
    "\n",
    "   Ordered by: internal time\n",
    "\n",
    "   ncalls  tottime  percall  cumtime  percall filename:lineno(function)\n",
    "        1    3.335    3.335    3.732    3.732 profileme.py:1(my_squares)\n",
    "        1    2.698    2.698    5.200    5.200 profileme.py:7(my_join)\n",
    " 10000001    2.502    0.000    2.502    0.000 {method 'join' of 'str' objects}\n",
    " 10000008    0.397    0.000    0.397    0.000 {method 'append' of 'list' objects}\n",
    "        1    0.093    0.093    9.025    9.025 profileme.py:13(run_my_funcs)\n",
    "[more output]\n",
    "```\n",
    "The column headings in the profiling results are:\n",
    "\n",
    "| Column name | Meaning |\n",
    "| :- | -  |\n",
    "| `filename:lineno(function)` | The filename, line number, and function name|\n",
    "| `ncalls`  | Number of times the function was called |\n",
    "| `tottime` | Total time spent in the function (excluding time spent in calls to sub-functions of that function)|\n",
    "| `percall` | `tottime` divided by `ncalls`|\n",
    "| `cumtime` | Cumulative time spent in the function *and* all its sub-functions|\n",
    "| `percall` | `cumtime` divided by `ncalls`|\n",
    "\n",
    "(Please also see the official Python [documentation](https://docs.python.org/3.6/library/profile.html)) \n",
    "\n",
    "The difference between `tottime` and `cumtime` columns often holds the most important information about performance. For example, in the above output, `cumtime` is much higher than `tottime` for `my_join` than for `my_squares`. This is because the sub-function (method) `join` is taking an additional 2.502 seconds (due to 10000001 calls), giving a `cumtime` of 2.698 + 2.502 = 5.2 seconds. In comparison, the sub-function (method) `append` is taking an additional 0.397 seconds (due to 10000008 calls), giving a `cumtime` of 3.335 + 0.397 = 3.732 seconds. Note also that the `tottime`s for `join` and `append` include the \"overhead\" of running their respective loop.\n",
    "\n",
    "Thus, we can infer that the `my_join` function is hogging most of the time, followed by `my_squares`, and furthermore, that its the string method `join` that is slowing `my_join` down, and list method `append` that is slowing `my_squares` down. In other words, `.join`ing the string, and `.append`ing values to a list repeatedly are both not particularly fast, though the latter is less costly.\n",
    "\n",
    "Can we do better? *Yes!* \n",
    "\n",
    "Let's try this alternative approach to writing the program (save it as `profileme2.py`, and again, run it):"
   ]
  },
  {
   "cell_type": "code",
   "execution_count": 71,
   "metadata": {},
   "outputs": [
    {
     "name": "stdout",
     "output_type": "stream",
     "text": [
      "10000000 My string\n"
     ]
    },
    {
     "data": {
      "text/plain": [
       "0"
      ]
     },
     "execution_count": 71,
     "metadata": {},
     "output_type": "execute_result"
    }
   ],
   "source": [
    "def my_squares(iters):\n",
    "    out = [i ** 2 for i in range(iters)]\n",
    "    return out\n",
    "\n",
    "def my_join(iters, string):\n",
    "    out = ''\n",
    "    for i in range(iters):\n",
    "        out += \", \" + string\n",
    "    return out\n",
    "\n",
    "def run_my_funcs(x,y):\n",
    "    print(x,y)\n",
    "    my_squares(x)\n",
    "    my_join(x,y)\n",
    "    return 0\n",
    "\n",
    "run_my_funcs(10000000,\"My string\")"
   ]
  },
  {
   "cell_type": "markdown",
   "metadata": {},
   "source": [
    "We did two things: converted the loop to a list comprehension, and replaced the `.join` with an explicit string concatenation.\n",
    "\n",
    "Now profile this program (`run -p profileme2.py`), and you should get something like:\n",
    "\n",
    "```bash\n",
    "        64 function calls (63 primitive calls) in 4.585 seconds\n",
    "\n",
    "   Ordered by: internal time\n",
    "\n",
    "   ncalls  tottime  percall  cumtime  percall filename:lineno(function)\n",
    "        1    2.497    2.497    2.497    2.497 profileme2.py:2(<listcomp>)\n",
    "        1    1.993    1.993    1.993    1.993 profileme2.py:5(my_join)\n",
    "        1    0.094    0.094    4.584    4.584 profileme2.py:11(run_my_funcs)\n",
    "[more output]\n",
    "```\n",
    "\n",
    "Woo hoo! So we about halved the time! Not quite enough to grab a pint, but ah well...\n",
    " \n",
    "Another approach would be to preallocate a `numpy` array instead of using a list for `my_squares`. \n",
    "\n",
    "*Try it*\n",
    "\n",
    "You can also modify how the profiling results are displayed, and more, by using flags. For example, \n",
    "`-s` allows sorting the report by a particular column,  `-l`  limits the number of lines displayed or filters the results by function name, and `-T` saves the report in a text file. \n",
    "\n",
    "for example, try \n",
    "\n",
    "```python\n",
    "run -p -s cumtime profileme2.py\n",
    "```\n",
    "This will do the profiling and display the results sorted by `cumtime`.   "
   ]
  },
  {
   "cell_type": "markdown",
   "metadata": {},
   "source": [
    "#### Profiling without ipython \n",
    "\n",
    "You may want to execute the code that you need to profile from outside IPython (e.g., using a bash script). In this case, we you can use the module cProfile (ipython actually uses this when you do `%run -p`). \n",
    "\n",
    "here is an example (run from bash): \n",
    "\n",
    "```bash\n",
    "python3 -m cProfile profileme2.py\n",
    "```\n",
    "\n",
    "Or, \n",
    "\n",
    "```bash\n",
    "python3 -m cProfile -o profires myscript.py\n",
    "```\n",
    "Here the results are stored in a file called `profires`, which can be read using the `pstats` module. Read the documentation of `cProfile` and `pstats` modules; there are many analyses you can perform on such exported  profiling reports."
   ]
  },
  {
   "cell_type": "markdown",
   "metadata": {},
   "source": [
    "### Quick profiling with `timeit`\n",
    "\n",
    "Additionally, you can use the `timeit` module if you want to figure out what the best way to do something specific as part of a larger program (say a particular command or a loop) might be.\n",
    "\n",
    "Type and run the following code in a python script called `timeitme.py`:\n",
    "\n",
    "```python\n",
    "##############################################################################\n",
    "# loops vs. list comprehensions: which is faster?\n",
    "##############################################################################\n",
    "\n",
    "iters = 1000000\n",
    "\n",
    "import timeit\n",
    "\n",
    "from profileme import my_squares as my_squares_loops\n",
    "\n",
    "from profileme2 import my_squares as my_squares_lc\n",
    "\n",
    "##############################################################################\n",
    "# loops vs. the join method for strings: which is faster?\n",
    "##############################################################################\n",
    "\n",
    "mystring = \"my string\"\n",
    "\n",
    "from profileme import my_join as my_join_join\n",
    "\n",
    "from profileme2 import my_join as my_join\n",
    "\n",
    "```\n",
    "Note how we imported the functions using `from profileme import my_squares as my_squares_loops`, etc., which highlights the convenience of Python's elegant object-oriented approach.\n",
    "\n",
    "Now run the two sets of comparisons using `timeit()` in ipython and make sure every line makes sense:\n",
    "\n",
    "```python\n",
    "%timeit my_squares_loops(iters)\n",
    "%timeit my_squares_lc(iters)\n",
    "%timeit(my_join_join(iters, mystring))\n",
    "%timeit(my_join(iters, mystring))\n",
    "```\n",
    "\n",
    "Note that embedding the `%timeit()` commands within the script won't work calling magic commands from inside a script is not a good idea!\n",
    "\n",
    "Of course, a simple approach would have been to time the functions like this:\n",
    "\n",
    "```python \n",
    "import time\n",
    "start = time.time()\n",
    "my_squares_loops(iters)\n",
    "print(\"my_squares_loops takes %f s to run.\" % (time.time() - start))\n",
    "\n",
    "start = time.time()\n",
    "my_squares_lc(iters)\n",
    "print(\"my_squares_lc takes %f s to run.\" % (time.time() - start))\n",
    "```\n",
    "But you'll notice that if you run it multiple times, the time taken changes each time. So `timeit` takes a sample of runs and returns the average, which is better.\n",
    "\n",
    "*But remember, don't go crazy with profiling for the sake of shaving a couple of milliseconds, tempting as that may be!*"
   ]
  },
  {
   "cell_type": "markdown",
   "metadata": {},
   "source": [
    "## Vectorization revisited"
   ]
  },
  {
   "cell_type": "markdown",
   "metadata": {},
   "source": [
    "We have now had fairly extensive practise in iteratively creating solutions to problems using for loops. Thus far all our problems have been mathematically quite straightforward, and not very computationally intensive. As you begin to move on from your taught modules and into current research, you may find yourselves solving larger and more complex problems, at which point you will start to discover that for-loops have a fundamental weakness - speed!\n",
    "\n",
    "In a nutshell, there are two issues keeping loops slow:\n",
    "\n",
    "1. Producing solutions to a large problem one loop iteration at a time means that our scripts and functions spend a lot of time doing stuff other than actually solving the problem we want them to solve - e.g. shuffling data around between variables in each loop iteration, or storing the result of the current loop's calculations in a (sometimes temporary) variable.\n",
    "\n",
    "2. Loops (at least in Python) are not generally able to take advantage of the parallel computing capabilities of modern-day computers, and thus must literally compute a solution one loop iteration at a time. vectorized functions tend to be optimised to spread their computations over multiple processors/threads, which can be much faster!\n",
    "\n",
    "These issues become especially pronounced in the case of nested loops - which often appear in more spatially-explicit problems or time-dependent ones.\n",
    "\n",
    "Rather than expecting you to simply take my word for it, the following two examples will showcase the difference in runtime between a loop method and a vectorized method using numpy. The first is a relatively simple (if artificial) problem, intended to demonstrate basically at-a-glace the difference between the two approaches. The second is taken from current research on metabolic models of bacterial communities<sup>[2]</sup>.\n",
    "\n",
    "[1] see the `multiprocessing` package for one way around this!\n",
    "\n",
    "### An example\n",
    "\n",
    "Let us imagine we have two simple 1D arrays $a = (a_1, a_2, ... , a_N)$ and $b = (b_1, b_2, ... ,b_N)$, each of length N, and that we want to calculate a new array $c$ in which each entry is just the product of the two corresponding entries in $a$ and $b$:\n",
    "\n",
    "$$c = (a_1 \\times b_1, a_2 \\times b_2, ... , a_N \\times b_N)$$\n",
    "\n",
    "This operation is called the *entrywise* product of $a$ and $b$.\n",
    "\n",
    "Below are a loop-based function and a vectorized function to calculate the entrywise product of two 1D arrays of the same length. We will test them both on larger and larger 1D arrays to see how the vectorized approach is faster."
   ]
  },
  {
   "cell_type": "code",
   "execution_count": 72,
   "metadata": {},
   "outputs": [],
   "source": [
    "def loop_product(a, b):\n",
    "    N = len(a)\n",
    "    c = sc.zeros(N)\n",
    "    for i in range(N):\n",
    "        c[i] = a[i] * b[i]   \n",
    "    return c\n",
    "\n",
    "\n",
    "def vect_product(a, b):\n",
    "    return sc.multiply(a, b)"
   ]
  },
  {
   "cell_type": "markdown",
   "metadata": {},
   "source": [
    "The `multiply` function from numpy is a vectorized implementation of the elementwise product that we have explicitly written in the function `loop_product` above it. In general, numpy is an excellent choice for vectorized implementations of functions involving matrix maths (or maths using higher-dimensional analogues of matricies).\n",
    "\n",
    "Let's try comparing the runtimes of `loop_product` and `vect_product` on increasingly large randomly-generated 1D arrays:"
   ]
  },
  {
   "cell_type": "code",
   "execution_count": 73,
   "metadata": {},
   "outputs": [
    {
     "name": "stdout",
     "output_type": "stream",
     "text": [
      "\n",
      "Set N=1\n",
      "Loop method took 0 ms on average.\n",
      "vectorized method took 0 ms on average.\n",
      "\n",
      "Set N=100\n",
      "Loop method took 0 ms on average.\n",
      "vectorized method took 0 ms on average.\n",
      "\n",
      "Set N=10000\n",
      "Loop method took 16 ms on average.\n",
      "vectorized method took 0 ms on average.\n",
      "\n",
      "Set N=1000000\n",
      "Loop method took 1694 ms on average.\n",
      "vectorized method took 7 ms on average.\n",
      "\n",
      "Set N=10000000\n",
      "Loop method took 16710 ms on average.\n",
      "vectorized method took 94 ms on average.\n"
     ]
    }
   ],
   "source": [
    "import timeit\n",
    "\n",
    "array_lengths = [1, 100, 10000, 1000000, 10000000]\n",
    "t_loop = []\n",
    "t_vect = []\n",
    "\n",
    "for N in array_lengths:\n",
    "    print(\"\\nSet N=%d\" %N)\n",
    "    #randomly generate our 1D arrays of length N\n",
    "    a = sc.random.rand(N)\n",
    "    b = sc.random.rand(N)\n",
    "    \n",
    "    # time loop_product 3 times and save the mean execution time.\n",
    "    timer = timeit.repeat('loop_product(a, b)', globals=globals().copy(), number=3)\n",
    "    t_loop.append(1000 * sc.mean(timer))\n",
    "    print(\"Loop method took %d ms on average.\" %t_loop[-1])\n",
    "    \n",
    "    # time vect_product 3 times and save the mean execution time.\n",
    "    timer = timeit.repeat('vect_product(a, b)', globals=globals().copy(), number=3)\n",
    "    t_vect.append(1000 * sc.mean(timer))\n",
    "    print(\"vectorized method took %d ms on average.\" %t_vect[-1])"
   ]
  },
  {
   "cell_type": "markdown",
   "metadata": {},
   "source": [
    "Now let's compare the timings on a plot:"
   ]
  },
  {
   "cell_type": "code",
   "execution_count": 74,
   "metadata": {},
   "outputs": [
    {
     "data": {
      "image/png": "[encoded data removed]",
      "text/plain": [
       "<Figure size 432x288 with 1 Axes>"
      ]
     },
     "metadata": {
      "needs_background": "light"
     },
     "output_type": "display_data"
    }
   ],
   "source": [
    "p.figure()\n",
    "p.plot(array_lengths, t_loop, label=\"loop method\")\n",
    "p.plot(array_lengths, t_vect, label=\"vect method\")\n",
    "p.xlabel(\"Array length\")\n",
    "p.ylabel(\"Execution time (ms)\")\n",
    "p.legend()\n",
    "p.show()"
   ]
  },
  {
   "cell_type": "markdown",
   "metadata": {},
   "source": [
    "### When to vectorize?\n",
    "\n",
    "Thus vectorizing your code can have it running in a fraction of the time it otherwise would. Why not always vectorize then?\n",
    "\n",
    "Generally, you should follow the same principles as with any code profiling: don't spend time speeding up code that isn't slow in the first place, or code which you will probably not need to run more than a small number of times.\n",
    "\n",
    "### \"No free lunch!\"\n",
    "\n",
    "There are trade-offs to vectorizing, most notably memory usage. One downside of calculating many steps simultaneously is that your computer needs to hold much more in memory in order to do it. If you try to vectorize a problem thats *too* large, you will probably run into memory errors. One easy example is to re-run the above example, but make it **even bigger**:"
   ]
  },
  {
   "cell_type": "code",
   "execution_count": null,
   "metadata": {},
   "outputs": [],
   "source": [
    "N = 1000000000\n",
    "\n",
    "a = sc.random.rand(N)\n",
    "b = sc.random.rand(N)\n",
    "c = vect_product(a, b)\n",
    "\n",
    "# if no error, remove a, b, c from memory.\n",
    "del a\n",
    "del b\n",
    "del c"
   ]
  },
  {
   "cell_type": "markdown",
   "metadata": {},
   "source": [
    "This will almost certainly return a memory error (i.e. your computer ran out of RAM in which to store the entirety of the very large arrays $a$, $b$ and $c$ while it was still calculating (if you didn't get an error, try again with an extra 0 in $N$).\n",
    "\n",
    "Again, this is a rather contrived example - you probably won't be taking element-wise products of arrays with a billion entries in your research - but more complex problems can easily become too big for memory while still remaining biologically reasonable!\n",
    "\n",
    "*Check out the CMEE course on High Performance Computing to learn about using Imperial College's supercomputing cluster to run extremely large problems*"
   ]
  },
  {
   "cell_type": "markdown",
   "metadata": {},
   "source": [
    "## Practicals\n",
    "\n",
    "### Lotka-Volterra model problem\n",
    "\n",
    "Copy and modify `LV1.py` into another script called `LV2.py` that has the following features:\n",
    "\n",
    "*  It takes arguments for the four LV model parameters $r$, $a$, $z$ ,$e$ from the command line:\n",
    "```\n",
    "LV2.py arg1 arg2 ... etc\n",
    "```\n",
    "*  It runs the Lotka-Volterra model with prey density dependence $r R \\left(1 - \\frac{R} {K}\\right)$, which changes the coupled ODEs to,\n",
    "\\begin{aligned}\n",
    "    \\frac{dR}{dt} &= r R \\left(1 - \\frac{R} {K}\\right) - a C R \\\\\n",
    "    \\frac{dC}{dt} &= - z C + e a C R\n",
    "\\end{aligned}\n",
    "*  It saves the plot as `.pdf` in an appropriate location.\n",
    "*  The chosen parameter values should show in the plot (e.g., $r = 1, a = .5 $, etc) You can change time length $t$ too.\n",
    "* The parameters values should be adjusted such that both predator and prey persist with prey density dependence ( the final (non-zero) population values should be printed to screen).\n",
    "\n",
    "Also, include a script that runs both `LV1.py` and `LV2.py` with appropriate arguments. This script should also profile the two scripts and print the results to screen for each of the scripts using the `%run -p` approach. Look at and compare the speed bottlenecks in `LV1.py` and `LV2.py`. *Think about how you could further speed up the scripts.*\n",
    "\n",
    "### Extra Credit problems\n",
    "\n",
    "*Write every subsequent extra credit script file with a new name such as `LV3.py`,`LV4.py`, etc.* \n",
    "\n",
    "* **Extra credit**: Write a discrete-time version of the LV model called `LV3.py`. The discrete-time model is:\n",
    "\n",
    "\\begin{align} \n",
    "    R_{t+1} &= R_t (1 + r \\left(1 - \\frac{R_t}{K}\\right) - a C_t)\\\\ \n",
    "    C_{t+1} &= C_t (1 - z + e a R_t) \n",
    "\\end{align}\n",
    "\n",
    "Include this script in `run_LV.py`, and profile it as well.\n",
    "\n",
    "* **Extra-extra credit**: Write a version of the discrete-time model (which you implemented in `LV3.py`) simulation with a random gaussian fluctuation in resource's growth rate at each time-step:\n",
    "\n",
    "\\begin{aligned}\n",
    "        R_{t+1} &= R_t (1 + (r + \\epsilon) \\left(1 - \\frac{R_t}{K}\\right)- a C_t)\\\\\n",
    "        C_{t+1} &= C_t (1 - z + e a R_t)\n",
    "\\end{aligned}\n",
    "\n",
    "where $\\epsilon$ is a random fluctuation drawn from a gaussian distribution (use `sc.stats`). Include this\n",
    "script in ` run_LV.py`, and profile it as well. You can also add fluctuations to both populations simultaneously this way: \n",
    "\n",
    "\\begin{aligned}\n",
    "    R_{t+1} &= R_t (1 + \\epsilon + r +  \\left(1 - \\frac{R_t}{K}\\right) - a C_t)\\\\\n",
    "    C_{t+1} &= C_t (1 - z + \\epsilon + e a R_t)\n",
    "\\end{aligned}\n",
    "\n",
    "*As always, test, add, commit and push all your new code and data to your git repository.*"
   ]
  },
  {
   "cell_type": "markdown",
   "metadata": {},
   "source": [
    "## Networks in Python\n",
    "\n",
    "ALL biological systems have a network representation, consisting of nodes for the biological entities of interest, and edges or links for the relationships between them. Here are some examples:\n",
    "* Metabolic networks\n",
    "* Gene regulatory networks\n",
    "* Individual-Individual (e.g., social networks)\n",
    "* Who-eats-whom (Food web) networks\n",
    "* Mutualistic (e.g., plant-pollinator) networks\n",
    "\n",
    "*Can you think of a few more examples from biology?*\n",
    "\n",
    "You can easily simulate, analyze, and visualize biological networks in both `python` and `R` using some nifty packages. A full network analysis tutorial is out of the scope of our Python module's objectives, but let's try a simple visualization using the ` networkx` python package.\n",
    "\n",
    "For this you need to first install the package, for example, by using:\n",
    "\n",
    "```bash\n",
    "sudo apt-get install python3-networkx\n",
    "```\n",
    "\n",
    "### Food web network example\n",
    "\n",
    "As an example, let's plot a food web network. \n",
    "\n",
    "The best way to store a food web dataset is as an \"adjacency list\" of who eats whom: a matrix with consumer name/id in 1st column, and resource name/id in 2nd column, and a separate matrix of species names/ids and properties such as biomass (node's abundance), or average body mass. You will see what these data structures look like below. \n",
    "\n",
    "First, import the necessary modules:"
   ]
  },
  {
   "cell_type": "code",
   "execution_count": null,
   "metadata": {},
   "outputs": [],
   "source": [
    "import networkx as nx\n",
    "import scipy as sc\n",
    "import matplotlib.pylab as p"
   ]
  },
  {
   "cell_type": "markdown",
   "metadata": {},
   "source": [
    "Let's generate a \"synthetic\" food web. We can do this with the following function that generates a random adjacency list of a $N$-species food web with \"connectance probability\" $C$: the probability of having a link between any pair of species in the food web. "
   ]
  },
  {
   "cell_type": "code",
   "execution_count": null,
   "metadata": {},
   "outputs": [],
   "source": [
    "def GenRdmAdjList(N = 2, C = 0.5):\n",
    "    \"\"\" \n",
    "    \"\"\"\n",
    "    Ids = range(N)\n",
    "    ALst = []\n",
    "    for i in Ids:\n",
    "        if sc.random.uniform(0,1,1) < C:\n",
    "            Lnk = sc.random.choice(Ids,2).tolist()\n",
    "            if Lnk[0] != Lnk[1]: #avoid self (e.g., cannibalistic) loops\n",
    "                ALst.append(Lnk)\n",
    "    return ALst"
   ]
  },
  {
   "cell_type": "markdown",
   "metadata": {},
   "source": [
    "Note that we are using a uniform random distribution between `[0,1]` to generate a connectance probability between each species pair. "
   ]
  },
  {
   "cell_type": "markdown",
   "metadata": {},
   "source": [
    "Now assign number of species (`MaxN`) and connectance (`C`):"
   ]
  },
  {
   "cell_type": "code",
   "execution_count": null,
   "metadata": {},
   "outputs": [],
   "source": [
    "MaxN = 30\n",
    "C = 0.75"
   ]
  },
  {
   "cell_type": "markdown",
   "metadata": {},
   "source": [
    "Now generate an adjacency list representing a random food web:"
   ]
  },
  {
   "cell_type": "code",
   "execution_count": null,
   "metadata": {
    "scrolled": true
   },
   "outputs": [],
   "source": [
    "AdjL = sc.array(GenRdmAdjList(MaxN, C))\n",
    "AdjL"
   ]
  },
  {
   "cell_type": "markdown",
   "metadata": {},
   "source": [
    "So that's what an adjacency list looks like. The two columns of numbers correspond to the consumer and resource ids, respectively.  \n",
    "\n",
    "Now generate species (node) data:"
   ]
  },
  {
   "cell_type": "code",
   "execution_count": null,
   "metadata": {},
   "outputs": [],
   "source": [
    "Sps = sc.unique(AdjL) # get species ids"
   ]
  },
  {
   "cell_type": "markdown",
   "metadata": {},
   "source": [
    "Now generate body sizes for the species. We will use a log$_{10}$ scale because species body sizes tend to be [log-normally distributed](08-Data_R.ipynb#Histograms)."
   ]
  },
  {
   "cell_type": "code",
   "execution_count": null,
   "metadata": {
    "scrolled": true
   },
   "outputs": [],
   "source": [
    "SizRan = ([-10,10]) #use log10 scale\n",
    "Sizs = sc.random.uniform(SizRan[0],SizRan[1],MaxN)\n",
    "Sizs"
   ]
  },
  {
   "cell_type": "markdown",
   "metadata": {},
   "source": [
    "Let's visualize the size distribution we have generated."
   ]
  },
  {
   "cell_type": "code",
   "execution_count": null,
   "metadata": {},
   "outputs": [],
   "source": [
    "p.hist(Sizs) #log10 scale"
   ]
  },
  {
   "cell_type": "code",
   "execution_count": null,
   "metadata": {},
   "outputs": [],
   "source": [
    "p.hist(10 ** Sizs) #raw scale"
   ]
  },
  {
   "cell_type": "markdown",
   "metadata": {},
   "source": [
    "Now let's plot the network, with node sizes proportional to (log) body size:"
   ]
  },
  {
   "cell_type": "code",
   "execution_count": null,
   "metadata": {},
   "outputs": [],
   "source": [
    "p.close('all') # close all open plot objects"
   ]
  },
  {
   "cell_type": "markdown",
   "metadata": {},
   "source": [
    "Let's use a circular configuration. For this, we need to calculate the coordinates, easily done using networkx:"
   ]
  },
  {
   "cell_type": "code",
   "execution_count": null,
   "metadata": {},
   "outputs": [],
   "source": [
    "pos = nx.circular_layout(Sps)"
   ]
  },
  {
   "cell_type": "markdown",
   "metadata": {},
   "source": [
    "See `networkx.layout` for inbuilt functions to compute other types of node coordinates.\n",
    "\n",
    "Now generate a networkx graph object:"
   ]
  },
  {
   "cell_type": "code",
   "execution_count": null,
   "metadata": {},
   "outputs": [],
   "source": [
    "G = nx.Graph()"
   ]
  },
  {
   "cell_type": "markdown",
   "metadata": {},
   "source": [
    "Now add the nodes and links (edges) to it:"
   ]
  },
  {
   "cell_type": "code",
   "execution_count": null,
   "metadata": {},
   "outputs": [],
   "source": [
    "G.add_nodes_from(Sps)\n",
    "G.add_edges_from(tuple(AdjL))"
   ]
  },
  {
   "cell_type": "markdown",
   "metadata": {},
   "source": [
    "Note that the function `add_edges_from` needs the adjacency list as a tuple."
   ]
  },
  {
   "cell_type": "markdown",
   "metadata": {},
   "source": [
    "Now generate node sizes that are proportional to (log) body sizes:"
   ]
  },
  {
   "cell_type": "code",
   "execution_count": null,
   "metadata": {},
   "outputs": [],
   "source": [
    "NodSizs= 1000 * (Sizs-min(Sizs))/(max(Sizs)-min(Sizs)) "
   ]
  },
  {
   "cell_type": "markdown",
   "metadata": {},
   "source": [
    "Now render (plot) the graph:"
   ]
  },
  {
   "cell_type": "code",
   "execution_count": null,
   "metadata": {},
   "outputs": [],
   "source": [
    "nx.draw_networkx(G, pos, node_size = NodSizs)"
   ]
  },
  {
   "cell_type": "markdown",
   "metadata": {},
   "source": [
    "You might get a warning. In that case, try upgrading the networkx package.   \n",
    "\n",
    "## Practicals\n",
    "\n",
    "1. Type the above code for plotting a food web network in a program file called `DrawFW.py`. This file should save the plotted network as a pdf.   \n",
    "\n",
    "\n",
    "2. (**Extra Credit**) You can also do nice network visualizations in R. Here you will convert a network visualization script written in `R` using the `igraph` package to a python script that does the same thing.\n",
    "\n",
    "  * First copy the script file called `Nets.R` and the data files it calls and run it. This script visualizes the [QMEE CDT collaboration network](http://www.imperial.ac.uk/qmee-cdt), coloring the the nodes by the type of node (organization type: \"University\",\"Hosting Partner\", \"Non-hosting Partner\").\n",
    "\n",
    " * Now, convert this script to a `python` script that does the same thing, including writing to a `.svg` file using the same QMEE CDT link and node data. You can use `networkx` or some other python network visualization package."
   ]
  },
  {
   "cell_type": "markdown",
   "metadata": {},
   "source": [
    "## Regular expressions in Python\n",
    "\n",
    "Let's shift gears now, and look at a very important skill that you should learn, or at least be aware of — *Regular expressions*. \n",
    "\n",
    "Regular expressions (regex) are a tool to find patterns (not just a particular sequence of characters) in strings. For example, `your@email.com` is a specific sequence of characters, but, in fact, all email addresses have such a pattern: alphanumeric characters, a \"@\", alphanumeric characters, a \".\", alphanumeric characters. Using regex, you can search for all email addresses in a text file by searching for this pattern.    \n",
    "\n",
    "There are many uses of regex, such as:\n",
    "\n",
    "* Parsing (reading) text files and finding and replacing or deleting specific patterns \n",
    "* Finding DNA motifs in sequence data\n",
    "* Navigating through files in a directory\n",
    "* Extracting information from html and xml files\n",
    "\n",
    "Thus, if you are interested in data mining, need to clean or process data in any other way, or convert a bunch of information into usable data, knowing regex is absolutely necessary.\n",
    "\n",
    "---\n",
    "\n",
    "![image](./graphics/regex.png)\n",
    "<small><center>(Source: [www.xkcd.com](https://www.xkcd.com/208/))\n",
    "    Regular expressions can really improve your quality of life! \n",
    "</center></small>\n",
    "\n",
    "---\n",
    "\n",
    "Regex packages are available for most programming languages (recall [`grep` in UNIX](01-Unix.ipynb#Using-`grep`); that is how regex first became popular).\n",
    "\n",
    "## Metacharacters vs. regular characters\n",
    "\n",
    "A regex may consist of a combination of \"metacharacters\" (modifiers) and \"regular\" or literal characters. There are 14 metacharacters: \n",
    "\n",
    "<center> \n",
    "<code>[</code> <code>]</code> <code>{</code> <code>}</code> <code>(</code> <code>)</code> <code>\\</code> <code>^</code> <code>&dollar;</code> <code>.</code> <code>|</code> <code>?</code> <code>*</code> <code>+</code> \n",
    "</center>\n",
    "\n",
    "These metacharacters do special things, for example:\n",
    "\n",
    "* `[12]` means match target to *1* and if that does not match then match target to *2*\n",
    "* `[0-9]` means match to any character in range *0* to *9*\n",
    "* `[^Ff]` means anything except upper or lower case *f* and `[^a-z]` means everything except lower case *a* to *z*\n",
    "\n",
    "Everything else is interpreted literally (e.g., *a* is matched by entering `a` in the regex).\n",
    "\n",
    "`[` and `]`, specify a character \"class\" — the set of characters that you wish to match. Metacharacters are not active inside classes. For example, <code>[a-z&dollar;]</code> will match any of the characters `a` to `z`, but also <code>&dollar;</code>, because inside a character class it loses its special metacharacter status.\n",
    "\n",
    "## regex elements\n",
    "\n",
    "A useful (not exhaustive) list of regex elements is:\n",
    "\n",
    "|Regex|Description|\n",
    "|:-|:-|\n",
    "|\\ | inhibit the \"specialness\" of a (meta)character so that it can be interpreted literally. So, for example, use `\\.` to match a period or `\\\\` to match a slash|\n",
    "|`aX9`| match the character string *aX9* exactly (case sensitively)| \n",
    "|`8`| match the number *8*|\n",
    "|`\\n`| match a newline|\n",
    "|`\\t`| match a tab |\n",
    "|`\\s`| match a whitespace |\n",
    "|`.`| match any character except line break (newline)|\n",
    "|`\\w`|  match a single \"word\" character: any alphanumeric character (including underscore)|\n",
    "|`\\W`| match any character not covered by `\\w`, i.e., match any non-alphanumeric character excluding underscore, such as `?`, `!`, `+`, `<`, etc. |\n",
    "|`\\d`| match a numeric (integer) character|\n",
    "|`\\D`| match any character not covered by ` \\d` (i.e., match a non-digit)|\n",
    "|`[atgc]` | match any character listed: `a`, `t`, `g`, `c`|\n",
    "| <code>at&vert;gc</code>  | match `at` or `gc`|\n",
    "|`[^atgc]`| match any character not listed: any character except `a`, `t`, `g`, `c`|\n",
    "|`?`| match the preceding pattern element zero or one times|\n",
    "|*|match the preceding pattern element zero or more times|\n",
    "|`+`| match the preceding pattern element one or more times|\n",
    "|`{n}`| match the preceding pattern element exactly `n` times|\n",
    "|`{n,}`| match the preceding pattern element at least `n` times|\n",
    "|`{n,m}`| match the preceding pattern element at least `n` but not more than `m` times|\n",
    "|`^`| match the start of a string|\n",
    "|<code>&dollar;</code>| match the end of a string|\n",
    "\n",
    "## Regex in Python\n",
    "\n",
    "Regex functions in python are in the module `re`. \n",
    "\n",
    "Let's import it:"
   ]
  },
  {
   "cell_type": "code",
   "execution_count": null,
   "metadata": {},
   "outputs": [],
   "source": [
    "import re"
   ]
  },
  {
   "cell_type": "markdown",
   "metadata": {},
   "source": [
    "The simplest `python` regex function is `re.search`, which searches the string for match to a given pattern — returns a *match object* if a match is found and `None` if not. Thus, the command `match = re.search(pat, str)` finds matches of the pattern `pat` in the given string `str` and stores the search result in a variable named `match`.\n",
    "\n",
    "> **Always** put `r` in front of your regex — it tells python to read the regex in its \"raw\" (literal) form. Without raw string notation (`r\"text\"`), every backslash (`\\`) in a regular expression would have to be prefixed with another one to escape it. Read more about this [here](https://docs.python.org/3.5/library/re.html).\n",
    "\n",
    "OK, let's try some regexes (type all that follows in `regexs.py`):"
   ]
  },
  {
   "cell_type": "code",
   "execution_count": null,
   "metadata": {},
   "outputs": [],
   "source": [
    "my_string = \"a given string\""
   ]
  },
  {
   "cell_type": "markdown",
   "metadata": {},
   "source": [
    "Find a space in the string:"
   ]
  },
  {
   "cell_type": "code",
   "execution_count": null,
   "metadata": {
    "scrolled": true
   },
   "outputs": [],
   "source": [
    "match = re.search(r'\\s', my_string)\n",
    "print(match)"
   ]
  },
  {
   "cell_type": "markdown",
   "metadata": {},
   "source": [
    "That's only telling you that a match was found (the object was created successfully). \n",
    "\n",
    "To see the match, use:"
   ]
  },
  {
   "cell_type": "code",
   "execution_count": null,
   "metadata": {},
   "outputs": [],
   "source": [
    "match.group()"
   ]
  },
  {
   "cell_type": "markdown",
   "metadata": {},
   "source": [
    "Now let's try another pattern:"
   ]
  },
  {
   "cell_type": "code",
   "execution_count": null,
   "metadata": {},
   "outputs": [],
   "source": [
    "match = re.search(r'\\d', my_string)"
   ]
  },
  {
   "cell_type": "code",
   "execution_count": null,
   "metadata": {
    "scrolled": true
   },
   "outputs": [],
   "source": [
    "print(match)"
   ]
  },
  {
   "cell_type": "markdown",
   "metadata": {},
   "source": [
    "No surprise, because there are no numeric characters in our string!"
   ]
  },
  {
   "cell_type": "markdown",
   "metadata": {},
   "source": [
    "To know whether a pattern was matched, we can use an `if`:"
   ]
  },
  {
   "cell_type": "code",
   "execution_count": null,
   "metadata": {},
   "outputs": [],
   "source": [
    "MyStr = 'an example'\n",
    "\n",
    "match = re.search(r'\\w*\\s', MyStr) # what pattern is this?\n",
    "\n",
    "if match:                      \n",
    "    print('found a match:', match.group()) \n",
    "else:\n",
    "    print('did not find a match')    "
   ]
  },
  {
   "cell_type": "markdown",
   "metadata": {},
   "source": [
    "Here are some more regexes (add all that follows to `regexs.py`):"
   ]
  },
  {
   "cell_type": "code",
   "execution_count": null,
   "metadata": {},
   "outputs": [],
   "source": [
    "match = re.search(r'2' , \"it takes 2 to tango\")\n",
    "match.group()"
   ]
  },
  {
   "cell_type": "code",
   "execution_count": null,
   "metadata": {
    "scrolled": true
   },
   "outputs": [],
   "source": [
    "match = re.search(r'\\d' , \"it takes 2 to tango\")\n",
    "match.group()"
   ]
  },
  {
   "cell_type": "code",
   "execution_count": null,
   "metadata": {},
   "outputs": [],
   "source": [
    "match = re.search(r'\\d.*' , \"it takes 2 to tango\")\n",
    "match.group()"
   ]
  },
  {
   "cell_type": "code",
   "execution_count": null,
   "metadata": {
    "scrolled": true
   },
   "outputs": [],
   "source": [
    "match = re.search(r'\\s\\w{1,3}\\s', 'once upon a time')\n",
    "match.group()"
   ]
  },
  {
   "cell_type": "code",
   "execution_count": null,
   "metadata": {},
   "outputs": [],
   "source": [
    "match = re.search(r'\\s\\w*$', 'once upon a time')\n",
    "match.group()"
   ]
  },
  {
   "cell_type": "markdown",
   "metadata": {},
   "source": [
    "Let's switch to a more compact syntax by directly returning the matched group (by directly appending `.group()` to the result)."
   ]
  },
  {
   "cell_type": "code",
   "execution_count": null,
   "metadata": {},
   "outputs": [],
   "source": [
    "re.search(r'\\w*\\s\\d.*\\d', 'take 2 grams of H2O').group()"
   ]
  },
  {
   "cell_type": "code",
   "execution_count": null,
   "metadata": {},
   "outputs": [],
   "source": [
    "re.search(r'^\\w*.*\\s', 'once upon a time').group() # 'once upon a '"
   ]
  },
  {
   "cell_type": "markdown",
   "metadata": {},
   "source": [
    " Note that *, `+`, and `{ }` are all \"greedy\":  They repeat the previous regex token as many times as possible. \n",
    "\n",
    "As a result, they may match more text than you want. To make it non-greedy and terminate at the first found instance of a pattern, use `?`:"
   ]
  },
  {
   "cell_type": "code",
   "execution_count": null,
   "metadata": {},
   "outputs": [],
   "source": [
    "re.search(r'^\\w*.*?\\s', 'once upon a time').group()"
   ]
  },
  {
   "cell_type": "markdown",
   "metadata": {},
   "source": [
    "To further illustrate greediness in regexes, let's try matching an HTML tag:"
   ]
  },
  {
   "cell_type": "code",
   "execution_count": null,
   "metadata": {},
   "outputs": [],
   "source": [
    "re.search(r'<.+>', 'This is a <EM>first</EM> test').group()"
   ]
  },
  {
   "cell_type": "markdown",
   "metadata": {},
   "source": [
    "But we wanted just `<EM>`!  \n",
    "\n",
    "It's because `+` is greedy. Instead, we can make `+` \"lazy\":"
   ]
  },
  {
   "cell_type": "code",
   "execution_count": null,
   "metadata": {},
   "outputs": [],
   "source": [
    "re.search(r'<.+?>', 'This is a <EM>first</EM> test').group()"
   ]
  },
  {
   "cell_type": "markdown",
   "metadata": {},
   "source": [
    "OK, moving on from greed and laziness..."
   ]
  },
  {
   "cell_type": "code",
   "execution_count": null,
   "metadata": {},
   "outputs": [],
   "source": [
    "re.search(r'\\d*\\.?\\d*','1432.75+60.22i').group()"
   ]
  },
  {
   "cell_type": "markdown",
   "metadata": {},
   "source": [
    "Note `\\` before the `.`, to be able to find a literal `.` \n",
    "\n",
    "Otherwise, `re.search` will consider it to be a regex element (`.` means \"match any character except newline\").\n",
    "\n",
    "A couple more examples:"
   ]
  },
  {
   "cell_type": "code",
   "execution_count": null,
   "metadata": {},
   "outputs": [],
   "source": [
    "re.search(r'[AGTC]+', 'the sequence ATTCGT').group()"
   ]
  },
  {
   "cell_type": "code",
   "execution_count": null,
   "metadata": {},
   "outputs": [],
   "source": [
    "re.search(r'\\s+[A-Z]\\w+\\s*\\w+', \"The bird-shit frog's name is Theloderma asper.\").group()"
   ]
  },
  {
   "cell_type": "markdown",
   "metadata": {},
   "source": [
    "---\n",
    "\n",
    "![image](./graphics/thelodermaasper.JPG)\n",
    "<small><center>\n",
    "            In case you were wondering what *Theloderma asper*, the \"bird-shit frog\", looks like. I snapped this one in North-east India ages ago \n",
    "</center></small>\n",
    "\n",
    "---"
   ]
  },
  {
   "cell_type": "markdown",
   "metadata": {},
   "source": [
    "How about looking for email addresses in a string? For example, let's try matching a string consisting of an academic's name, email address and research area or interest (no need to type this into any python file):"
   ]
  },
  {
   "cell_type": "code",
   "execution_count": null,
   "metadata": {},
   "outputs": [],
   "source": [
    "MyStr = 'Samraat Pawar, s.pawar@imperial.ac.uk, Systems biology and ecological theory'\n",
    "match = re.search(r\"[\\w\\s]+,\\s[\\w\\.@]+,\\s[\\w\\s]+\",MyStr)\n",
    "match.group()"
   ]
  },
  {
   "cell_type": "markdown",
   "metadata": {},
   "source": [
    "Note the use of `[ ]`'s: for example, `[\\w\\s]` ensures that any combination of word characters and spaces is found. \n",
    "\n",
    "Let's see if this regex works on a different pattern of email addresses: "
   ]
  },
  {
   "cell_type": "code",
   "execution_count": null,
   "metadata": {},
   "outputs": [],
   "source": [
    "MyStr = 'Samraat Pawar, s-pawar@imperial.ac.uk, Systems biology and ecological theory'"
   ]
  },
  {
   "cell_type": "code",
   "execution_count": null,
   "metadata": {
    "scrolled": true
   },
   "outputs": [],
   "source": [
    "match = re.search(r\"[\\w\\s]+,\\s[\\w\\.@]+,\\s[\\w\\s]+\",MyStr)\n",
    "match.group()"
   ]
  },
  {
   "cell_type": "markdown",
   "metadata": {},
   "source": [
    "Nope! So let's make the email address part of the regex more robust:"
   ]
  },
  {
   "cell_type": "code",
   "execution_count": null,
   "metadata": {},
   "outputs": [],
   "source": [
    "match = re.search(r\"[\\w\\s]+,\\s[\\w\\.-]+@[\\w\\.-]+,\\s[\\w\\s]+\",MyStr)\n",
    "match.group()"
   ]
  },
  {
   "cell_type": "markdown",
   "metadata": {},
   "source": [
    "## Practicals: Some RegExercises\n",
    "\n",
    "The following exercises are not for submission as part of your coursework, but we will discuss them in class on a subsequent day.\n",
    "\n",
    "1. Try the regex we used above for finding names (`[\\w\\s]+`) for cases where the person's name has something unexpected, like a `?` or a `+`. Does it work? How can you make it more robust? \n",
    "* Translate the following regular expressions into regular English:\n",
    "    * `r'^abc[ab]+\\s\\t\\d'`\n",
    "    * `r'^\\d{1,2}\\/\\d{1,2}\\/\\d{4}$'`\n",
    "    * `r'\\s*[a-zA-Z,\\s]+\\s*'`\n",
    "* Write a regex to match dates in format YYYYMMDD, making sure that:\n",
    "    * Only seemingly valid dates match (i.e., year greater than 1900)\n",
    "    * First digit in month is either 0 or 1\n",
    "    * First digit in day $\\leq 3$ "
   ]
  },
  {
   "cell_type": "markdown",
   "metadata": {},
   "source": [
    "## Grouping regex patterns \n",
    "\n",
    "You can group regex patterns into meaningful blocks using parentheses. Let's look again at the example of finding  email addresses."
   ]
  },
  {
   "cell_type": "code",
   "execution_count": null,
   "metadata": {},
   "outputs": [],
   "source": [
    "MyStr = 'Samraat Pawar, s.pawar@imperial.ac.uk, Systems biology and ecological theory'\n",
    "match = re.search(r\"[\\w\\s]+,\\s[\\w\\.-]+@[\\w\\.-]+,\\s[\\w\\s]+\",MyStr)\n",
    "match.group()"
   ]
  },
  {
   "cell_type": "markdown",
   "metadata": {},
   "source": [
    "Without grouping the regex:"
   ]
  },
  {
   "cell_type": "code",
   "execution_count": null,
   "metadata": {},
   "outputs": [],
   "source": [
    "match.group(0)"
   ]
  },
  {
   "cell_type": "markdown",
   "metadata": {},
   "source": [
    "Now create groups using `( )`:"
   ]
  },
  {
   "cell_type": "code",
   "execution_count": null,
   "metadata": {},
   "outputs": [],
   "source": [
    "match = re.search(r\"([\\w\\s]+),\\s([\\w\\.-]+@[\\w\\.-]+),\\s([\\w\\s&]+)\",MyStr)\n",
    "if match:\n",
    "    print(match.group(0))\n",
    "    print(match.group(1))\n",
    "    print(match.group(2))\n",
    "    print(match.group(3))"
   ]
  },
  {
   "cell_type": "markdown",
   "metadata": {},
   "source": [
    "Nice! This is very handy for extracting specific patterns from text data. Note that we excluded the `,`'s and the `\\s`'s from the grouping parentheses because we don't want them to be returned in the match group list. \n",
    "\n",
    "Have a look at `re4.py` in the TheMulQuaBio's code repository for more on parsing email addresses using regexes."
   ]
  },
  {
   "cell_type": "markdown",
   "metadata": {},
   "source": [
    "## Useful `re` commands\n",
    "\n",
    "Here are some important functions in the `re` module:\n",
    "\n",
    "|Command|What it does|\n",
    "|:-|:-|\n",
    "| `re.search(reg, text)`| Scans the string and finds the first match of the pattern, returning a `match` object if successful and `None` otherwise.|\n",
    "| `re.match(reg, text)`| Like `re.search`, but only matches the beginning of the string.|\n",
    "| `re.compile(reg)`| Compiles (stores) a regular expression for repeated use, improving efficiency.|\n",
    "| `re.split(ref, text)`| Splits the text by the occurrence of the pattern described by the regular expression.|\n",
    "| `re.findall(ref, text)`| Like `re.search`, but returns a list of all matches. If groups are present, returns a list of groups.|\n",
    "| `re.finditer(ref, text)`| Like `re.findall`, but returns an iterator containing the match objects over which you can iterate. Useful for \"crawling\" efficiently through text till you find all necessary number of matches.|\n",
    "| `re.sub(ref, repl, text)`|  Substitutes each non-overlapping occurrence of the match with the text in `repl`.|\n",
    "|||\n",
    "\n",
    "Many of these commands also work on whole contents of files. We will look at an example of this below. Let us try some particularly useful applications of some of these commands.\n",
    "\n",
    "## Finding all matches\n",
    "\n",
    "Above we used re.search() to find the first match for a pattern. In many scenarios, you will need to find *all* the matches of a pattern. The function `re.findall()` does precisely this and returns all matches as a list of strings, with each string representing one match.\n",
    "\n",
    "Let's try this on an extension of the email example above for some data with multiple addresses: "
   ]
  },
  {
   "cell_type": "code",
   "execution_count": null,
   "metadata": {},
   "outputs": [],
   "source": [
    "MyStr = \"Samraat Pawar, s.pawar@imperial.ac.uk, Systems biology and ecological theory; Another academic, a-academic@imperial.ac.uk, Some other stuff thats equally boring; Yet another academic, y.a_academic@imperial.ac.uk, Some other stuff thats even more boring\""
   ]
  },
  {
   "cell_type": "markdown",
   "metadata": {},
   "source": [
    "Now `re.findall()` returns a list of all the emails found:"
   ]
  },
  {
   "cell_type": "code",
   "execution_count": null,
   "metadata": {
    "scrolled": true
   },
   "outputs": [],
   "source": [
    "emails = re.findall(r'[\\w\\.-]+@[\\w\\.-]+', MyStr) \n",
    "for email in emails:\n",
    "    print(email)"
   ]
  },
  {
   "cell_type": "markdown",
   "metadata": {},
   "source": [
    "Nice! "
   ]
  },
  {
   "cell_type": "markdown",
   "metadata": {},
   "source": [
    "## Finding in files\n",
    "\n",
    "You will generally be wanting to apply regex searches to whole files. You might be tempted to write a loop to iterate over the lines of the file, calling `re.findall()` on each line. However, `re.findall()` can return a list of all the matches in a single step. \n",
    "\n",
    "Let's try finding all species names that correspond to Oaks in a data file:"
   ]
  },
  {
   "cell_type": "code",
   "execution_count": null,
   "metadata": {
    "scrolled": true
   },
   "outputs": [],
   "source": [
    "f = open('../data/TestOaksData.csv', 'r')\n",
    "found_oaks = re.findall(r\"Q[\\w\\s].*\\s\", f.read())\n",
    "\n",
    "found_oaks"
   ]
  },
  {
   "cell_type": "markdown",
   "metadata": {},
   "source": [
    "This works because recall that `f.read()` returns the whole text of a file in a single string). Also, the file is closed after reading."
   ]
  },
  {
   "cell_type": "markdown",
   "metadata": {},
   "source": [
    "## Groups within multiple matches\n",
    "\n",
    "Grouping pattern matches using `( )` as you learned above, can be combined with `re.findall()`. If the pattern includes *two or more* groups, then instead of returning a list of strings, `re.findall()` returns a list of tuples. Each tuple represents one match of the pattern, and inside the tuple is group(1), group(2), etc.\n",
    "\n",
    "Let's try it:"
   ]
  },
  {
   "cell_type": "code",
   "execution_count": null,
   "metadata": {},
   "outputs": [],
   "source": [
    "MyStr = \"Samraat Pawar, s.pawar@imperial.ac.uk, Systems biology and ecological theory; Another academic, a.academic@imperial.ac.uk, Some other stuff thats equally boring; Yet another academic, y.a.academic@imperial.ac.uk, Some other stuff thats even more boring\"\n",
    "\n",
    "found_matches = re.findall(r\"([\\w\\s]+),\\s([\\w\\.-]+@[\\w\\.-]+)\", MyStr)\n",
    "found_matches"
   ]
  },
  {
   "cell_type": "code",
   "execution_count": null,
   "metadata": {
    "scrolled": true
   },
   "outputs": [],
   "source": [
    "for item in found_matches:\n",
    "    print(item)"
   ]
  },
  {
   "cell_type": "markdown",
   "metadata": {},
   "source": [
    "## Extracting text from webpages\n",
    "\n",
    "OK, let's step up the ante here. How about extracting text from a web page to create your own data? Let's try extracting data from [this page](https://www.imperial.ac.uk/silwood-park/academic-staff/).\n",
    "\n",
    "You will need a new package `urllib3`. Install it, and import it (also `import re` if needed). "
   ]
  },
  {
   "cell_type": "code",
   "execution_count": null,
   "metadata": {},
   "outputs": [],
   "source": [
    "import urllib3"
   ]
  },
  {
   "cell_type": "code",
   "execution_count": null,
   "metadata": {},
   "outputs": [],
   "source": [
    "conn = urllib3.PoolManager() # open a connection\n",
    "r = conn.request('GET', 'https://www.imperial.ac.uk/silwood-park/academic-staff/') \n",
    "webpage_html = r.data #read in the webpage's contents"
   ]
  },
  {
   "cell_type": "markdown",
   "metadata": {},
   "source": [
    "This is returned as bytes (not strings). "
   ]
  },
  {
   "cell_type": "code",
   "execution_count": null,
   "metadata": {},
   "outputs": [],
   "source": [
    "type(webpage_html)"
   ]
  },
  {
   "cell_type": "markdown",
   "metadata": {},
   "source": [
    "So decode it (remember, the default decoding that this method applies is *utf-8*):"
   ]
  },
  {
   "cell_type": "code",
   "execution_count": null,
   "metadata": {},
   "outputs": [],
   "source": [
    "My_Data  = webpage_html.decode()\n",
    "#print(My_Data)"
   ]
  },
  {
   "cell_type": "markdown",
   "metadata": {},
   "source": [
    "That's a lot of potentially useful information! Let's extract all the names of academics:"
   ]
  },
  {
   "cell_type": "code",
   "execution_count": null,
   "metadata": {
    "scrolled": true
   },
   "outputs": [],
   "source": [
    "pattern = r\"Dr\\s+\\w+\\s+\\w+\"\n",
    "regex = re.compile(pattern) # example use of re.compile(); you can also ignore case  with re.IGNORECASE \n",
    "for match in regex.finditer(My_Data): # example use of re.finditer()\n",
    "    print(match.group())"
   ]
  },
  {
   "cell_type": "markdown",
   "metadata": {},
   "source": [
    "Again, nice! However, its' not perfect. You can improve this by:\n",
    "* Extracting Prof names as well\n",
    "* Eliminating the repeated matches\n",
    "* Grouping to separate title from first and second names\n",
    "* Extracting names that have unexpected characters (e.g., \"O'Gorman\", which are currently not being matched properly)\n",
    "\n",
    "*Try making these improvements.*\n",
    "\n",
    "Of course, you can match and extract other types of patterns as well, such as urls and email addresses (though this example web page does not have email addresses). "
   ]
  },
  {
   "cell_type": "markdown",
   "metadata": {},
   "source": [
    "## Replacing text\n",
    "\n",
    "Using the same web page data, let's try using the `re.sub` command on the same web page data (`My_Data`) to replace text:"
   ]
  },
  {
   "cell_type": "code",
   "execution_count": null,
   "metadata": {},
   "outputs": [],
   "source": [
    "New_Data = re.sub(r'\\t',\" \", My_Data) # replace all tabs with a space\n",
    "# print(New_Data)"
   ]
  },
  {
   "cell_type": "markdown",
   "metadata": {},
   "source": [
    "## Practicals\n",
    "\n",
    "### Blackbirds problem\n",
    "\n",
    "Complete the code `blackbirds.py` that you find in the `TheMulQuaBio` (necessary data file is also there).\n",
    "\n",
    "*As always, test, add, commit and push all your new code and data to your git repository.*"
   ]
  },
  {
   "cell_type": "markdown",
   "metadata": {},
   "source": [
    "## Using Python to build workflows\n",
    "\n",
    "You can use python to build an automated data analysis or simulation workflow that involves multiple languages, especially the ones you have already learnt: R, $\\LaTeX$, and UNIX bash. For example, you could, in theory, write a single Python script to generate and update your masters dissertation, tables, plots, and all. Python is ideal for building such workflows because it has packages for practically every purpose.\n",
    "\n",
    "*Thus this topic may be useful for your [Miniproject](Appendix-MiniProj.ipynb), which will involve building a reproducible computational workflow.*\n",
    "\n",
    "### Using `subprocess`\n",
    "\n",
    "For building a workflow in Python the `subprocess` module is key. With this module you can run non-Python commands and scripts, obtain their outputs, and also crawl through and manipulate directories. \n",
    "\n",
    "First, import the module (this is part of the python standard library, so you won't need to install it):"
   ]
  },
  {
   "cell_type": "code",
   "execution_count": null,
   "metadata": {},
   "outputs": [],
   "source": [
    "import subprocess"
   ]
  },
  {
   "cell_type": "markdown",
   "metadata": {},
   "source": [
    "#### Running processes\n",
    "\n",
    "There are two main ways to run commands through subprocess: `run` (available in Python 3.5 onwards) for basic usage, and `Popen` (`P`rocess `open`) for more advanced usage. We will work directly with `popen` because `run()` is a wrapper around `Popen`. Using `Popen` directly gives more control over how the command is run, and how its input and output are processed. \n",
    "\n",
    "Let's try running some commands in the UNIX bash. \n",
    "\n",
    "$\\star$ In a terminal, first `cd` to your `code` directory,  launch `ipython3`, then and type:"
   ]
  },
  {
   "cell_type": "code",
   "execution_count": null,
   "metadata": {},
   "outputs": [],
   "source": [
    "p = subprocess.Popen([\"echo\", \"I'm talkin' to you, bash!\"], stdout=subprocess.PIPE, stderr=subprocess.PIPE)"
   ]
  },
  {
   "cell_type": "markdown",
   "metadata": {},
   "source": [
    "This creates an object `p`, from which you can extract the output and other information of the command you ran. Before we do anything more, let's look at our `subprocess.popen` call carefully. \n",
    "\n",
    "* The command line arguments were passed as a list of strings, which avoids the need for escaping quotes or other special characters that might be interpreted by the shell (for example, in this case, there are apostrophes in the string that is being `echo`ed in bash).\n",
    "* `stdout` is the output from the process \"spawned\" by your command. This is bytes sequence (which you will need to decode - more on this below). \n",
    "* `stderr` is the error code (from which you can capture whether the process ran successfully or not). The method PIPE creates a new \"pipe\" to the \"child process\". "
   ]
  },
  {
   "cell_type": "code",
   "execution_count": null,
   "metadata": {},
   "outputs": [],
   "source": [
    "stdout, stderr = p.communicate()"
   ]
  },
  {
   "cell_type": "code",
   "execution_count": null,
   "metadata": {},
   "outputs": [],
   "source": [
    "stderr"
   ]
  },
  {
   "cell_type": "markdown",
   "metadata": {},
   "source": [
    "Nothing here, because the echo command does no return an any code. the `b` indicates that the output is in bits (unencoded). By default, stdout, stderr (and other outputs of `p.communicate`) are returned as binary (byte) format.\n",
    "\n",
    "Now check what's in `stdout`:"
   ]
  },
  {
   "cell_type": "code",
   "execution_count": null,
   "metadata": {},
   "outputs": [],
   "source": [
    "stdout"
   ]
  },
  {
   "cell_type": "markdown",
   "metadata": {},
   "source": [
    "Let's encode and print it."
   ]
  },
  {
   "cell_type": "code",
   "execution_count": null,
   "metadata": {
    "scrolled": true
   },
   "outputs": [],
   "source": [
    "print(stdout.decode())"
   ]
  },
  {
   "cell_type": "markdown",
   "metadata": {},
   "source": [
    "You can also use a `universal_newlines = True` so that these outputs are returned as encoded text (default being *utf-8* usually), with  line endings converted to '\\n'. For more information [see the documentation](https://docs.python.org/3.5/library/subprocess.html).\n",
    "\n",
    "Let's try something else: "
   ]
  },
  {
   "cell_type": "code",
   "execution_count": null,
   "metadata": {},
   "outputs": [],
   "source": [
    "p = subprocess.Popen([\"ls\", \"-l\"], stdout=subprocess.PIPE)\n",
    "stdout, stderr = p.communicate()\n",
    "# print(stdout.decode())"
   ]
  },
  {
   "cell_type": "markdown",
   "metadata": {},
   "source": [
    "Recall that the `ls -l` command lists all files in a long listing format. \n",
    "\n",
    "You can also call python itself from bash (!):"
   ]
  },
  {
   "cell_type": "code",
   "execution_count": null,
   "metadata": {},
   "outputs": [],
   "source": [
    "p = subprocess.Popen([\"python3\", \"boilerplate.py\"], stdout=subprocess.PIPE, stderr=subprocess.PIPE) # A bit silly! \n",
    "stdout, stderr = p.communicate()\n",
    "print(stdout.decode())"
   ]
  },
  {
   "cell_type": "markdown",
   "metadata": {},
   "source": [
    "Similarly, to compile a $\\LaTeX$ document (using `pdflatex` in this case), you can do something like:\n",
    "\n",
    "```python\n",
    "subprocess.os.system(\"pdflatex yourlatexdoc.tex\")\n",
    "```"
   ]
  },
  {
   "cell_type": "markdown",
   "metadata": {},
   "source": [
    "You can also do this instead:"
   ]
  },
  {
   "cell_type": "code",
   "execution_count": null,
   "metadata": {},
   "outputs": [],
   "source": [
    "p = subprocess.Popen([\"python3\", \"boilerplate.py\"], stdout=subprocess.PIPE, stderr=subprocess.PIPE) # A bit silly! \n",
    "stdout, stderr = p.communicate()\n",
    "print(stdout.decode())"
   ]
  },
  {
   "cell_type": "markdown",
   "metadata": {},
   "source": [
    "## Handling directory and file paths\n",
    "\n",
    "You can also use `subprocess.os` to make your code OS (Linux, Windows, Mac) independent. For example to assign paths:"
   ]
  },
  {
   "cell_type": "code",
   "execution_count": null,
   "metadata": {
    "scrolled": true
   },
   "outputs": [],
   "source": [
    "subprocess.os.path.join('directory', 'subdirectory', 'file')"
   ]
  },
  {
   "cell_type": "markdown",
   "metadata": {},
   "source": [
    "The result would be appropriately different on Windows (with backslashes instead of forward slashes).\n",
    "\n",
    "Note that in all cases you can \"catch\" the output of `subprocess` so that you can then use the output within your\n",
    "python script. A simple example, where the output is a platform-dependent directory path, is:"
   ]
  },
  {
   "cell_type": "code",
   "execution_count": null,
   "metadata": {},
   "outputs": [],
   "source": [
    "MyPath = subprocess.os.path.join('directory', 'subdirectory', 'file')\n",
    "MyPath"
   ]
  },
  {
   "cell_type": "markdown",
   "metadata": {},
   "source": [
    "Explore what `subprocess` can do by tabbing\n",
    "`subprocess.`, and also for submodules, e.g., type\n",
    "`subprocess.os.` and then tab.\n",
    "\n",
    "## Running `R`\n",
    "\n",
    "R is likely an important part of your project's analysis and data visualization components in particular — for example for statistical analyses and pretty plotting (`ggplot2`!).\n",
    "\n",
    "You can run `R` from Python easily. Try the following:\n",
    "\n",
    "$\\star$ Create an R script file called `TestR.R` in your `code` directory with the following content:\n",
    "\n",
    "```r\n",
    "print(\"Hello, this is R!\")\n",
    "```"
   ]
  },
  {
   "cell_type": "markdown",
   "metadata": {},
   "source": [
    "Now, create a script `TestR.py` with the following content :"
   ]
  },
  {
   "cell_type": "code",
   "execution_count": null,
   "metadata": {},
   "outputs": [],
   "source": [
    "import subprocess\n",
    "subprocess.Popen(\"Rscript --verbose TestR.R > ../Results/TestR.Rout 2> ../Results/TestR_errFile.Rout\", shell=True).wait()"
   ]
  },
  {
   "cell_type": "markdown",
   "metadata": {},
   "source": [
    "\n",
    "Now run `TestR.py` (or `%cpaste`) and check`TestR.Rout` and `TestR_errorFile.Rout`.\n",
    "\n",
    "Also check what happens if you run (type directly in `ipython` or `python` console):"
   ]
  },
  {
   "cell_type": "code",
   "execution_count": null,
   "metadata": {},
   "outputs": [],
   "source": [
    "subprocess.Popen(\"Rscript --verbose NonExistScript.R > ../Results/outputFile.Rout 2> ../Results/errorFile.Rout\", shell=True).wait()"
   ]
  },
  {
   "cell_type": "markdown",
   "metadata": {},
   "source": [
    "It is possible that the location of `RScript` is different in your Ubuntu install. To locate it, try `find /usr -name 'Rscript'` in the linux terminal (not in `python`!). For example, you might need to specify the path to it using `/usr/lib/R/bin/Rscript`.\n",
    "\n",
    "What do you see on the screen? Now check `outputFile.Rout`and `errorFile.Rout."
   ]
  },
  {
   "cell_type": "markdown",
   "metadata": {},
   "source": [
    "## Practicals\n",
    "\n",
    "\n",
    "As always, test, add, commit and push all your new code and data to your git repository.\n",
    "\n",
    "### Using `os` problem 1\n",
    "\n",
    "Open `using_os.py` and complete the tasks assigned (hint: you might want to look at `subprocess.os.walk()`)\n",
    "\n",
    "### Using `os` problem 2\n",
    "\n",
    "Open `fmr.R` and work out what it does; check that you have `NagyEtAl1999.csv`. Now write python code called\n",
    "`run_fmr_R.py` that:\n",
    "\n",
    "Runs `fmr.R` to generate the desired result\n",
    "\n",
    "`run_fmr_R.py` should also print to the python screen whether the run was successful, and the contents of the R console output\n",
    "\n",
    "* `git add`, `commit` and `push` all your week's code by the given deadline."
   ]
  },
  {
   "cell_type": "markdown",
   "metadata": {},
   "source": [
    "## Readings and Resources\n",
    "\n",
    "\n",
    "* In general, scores of good module/package-specific cookbooks are out there — google \"cookbook\" along with the name of the package you are interested in (e.g., \"scipy cookbook\").\n",
    "\n",
    "* [The matplotlib website](http://matplotlib.org)\n",
    "\n",
    "* For SciPy, the [official documentation is good](https://docs.scipy.org/doc/); Read about the scipy modules you think will be important to you.\n",
    "\n",
    "* The \"ecosystem\" for Scientific computing in python: <http://www.scipy-lectures.org/>\n",
    "\n",
    "* A Primer on Scientific Programming with Python <http://www.springer.com/us/book/9783642549595>; Multiple copies of this book are available from the central library and can be requested to Silwood from the IC library website. You can also find a pdf - google it\n",
    "\n",
    "* Many great examples of applications in the [scipy cookbook](https://lagunita.stanford.edu/courses/DB/2014/SelfPaced/about)\n",
    "\n",
    "* For regex: <https://docs.python.org/2/howto/regex.html>\n",
    "\n",
    "* Google's short class on regex in python: <https://developers.google.com/edu/python/regular-expressions>\n",
    "And this exercise: https://developers.google.com/edu/python/exercises/baby-names\n",
    "\n",
    "* <http://www.regular-expressions.info/> has a good intro, tips and a great array of canned solutions\n",
    "\n",
    "* Use and abuse of regex: <https://blog.codinghorror.com/regex-use-vs-regex-abuse/>\n",
    "\n",
    "* Some of you might find the python package `biopython` particularly useful — check out <http://biopython.org/>, and especially, the cookbook"
   ]
  }
 ],
 "metadata": {
  "kernelspec": {
   "display_name": "Python 3",
   "language": "python",
   "name": "python3"
  },
  "language_info": {
   "codemirror_mode": {
    "name": "ipython",
    "version": 3
   },
   "file_extension": ".py",
   "mimetype": "text/x-python",
   "name": "python",
   "nbconvert_exporter": "python",
   "pygments_lexer": "ipython3",
   "version": "3.8.5"
  },
  "latex_envs": {
   "LaTeX_envs_menu_present": true,
   "autoclose": false,
   "autocomplete": false,
   "bibliofile": "biblio.bib",
   "cite_by": "apalike",
   "current_citInitial": 1,
   "eqLabelWithNumbers": true,
   "eqNumInitial": 1,
   "hotkeys": {
    "equation": "Ctrl-E",
    "itemize": "Ctrl-I"
   },
   "labels_anchors": false,
   "latex_user_defs": false,
   "report_style_numbering": false,
   "user_envs_cfg": false
  },
  "toc": {
   "base_numbering": 1,
   "nav_menu": {},
   "number_sections": true,
   "sideBar": false,
   "skip_h1_title": false,
   "title_cell": "Contents",
   "title_sidebar": "Contents",
   "toc_cell": false,
   "toc_position": {
    "height": "600.8px",
    "left": "27px",
    "top": "135px",
    "width": "248.8px"
   },
   "toc_section_display": false,
   "toc_window_display": false
  }
 },
 "nbformat": 4,
 "nbformat_minor": 4
}
