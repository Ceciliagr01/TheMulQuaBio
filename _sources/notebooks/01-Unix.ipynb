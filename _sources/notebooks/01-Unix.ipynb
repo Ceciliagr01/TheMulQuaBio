{
 "cells": [
  {
   "cell_type": "markdown",
   "metadata": {},
   "source": [
    "# UNIX and Linux"
   ]
  },
  {
   "cell_type": "markdown",
   "metadata": {},
   "source": [
    "## Introduction \n",
    "\n",
    "Here we are going to learn about the UNIX operating system, and in particular, it's most popular user-friendly avatar, Linux (and even more specifically, Debian based Linux distributions, with focus on Ubuntu). If you are niot a Unix/Linux user, you still need to learn the UNIX environment because under the hood, all other operating systems that need to do *serious* computing have to use Unix. Indeed, MacOS is built on UNIX, and Windows now a days has a UNUIX sub-system to enable users to things that can only really be done in UNIX (like Genomics!). "
   ]
  },
  {
   "cell_type": "markdown",
   "metadata": {},
   "source": [
    "### What is UNIX?\n",
    "\n",
    "UNIX is a machine-independent operating system (OS) developed in the 1970s by AT&T programmers (notably Brian Kernighan and Dennis Ritchie, fathers of `C`) for programmers (you!). It is multi-user and network-oriented by design, uses plain text files for storing data (no proprietary file formats), and has a strictly hierarchical directory structure (more on this below). This makes it an ideal environment for developing your code and storing your data.\n",
    "\n",
    "Linux and Mac OS are Unix-like (or UN\\*X or *nix) operating systems that have evolved from UNIX. Ubuntu is a Linux distribution."
   ]
  },
  {
   "cell_type": "markdown",
   "metadata": {},
   "source": [
    "## Why UNIX?\n",
    "\n",
    "Here are some good reasons:\n",
    "\n",
    "* It was designed for developing code and storing data &ndash; an ideal native habitat for programming languages like Python and R!\n",
    "\n",
    "* Robust, stable, secure (very few UNIX viruses and malware &ndash; I am yet to encounter one after almost 10 years!)\n",
    "\n",
    "* Free and open source!\n",
    "\n",
    "* Scores of small programs available to perform simple tasks &ndash; can be combined easily\n",
    "\n",
    "* Easy to automate tasks (e.g., using shell scripts)\n",
    "\n",
    "* Multi-user (multiple users can log in and concurrently use computer)\n",
    "\n",
    "* Multi-tasking (can perform many tasks at the same time)\n",
    "\n",
    "* Network-ready (easy to communicate between computers)\n",
    "\n",
    "* UNIX has been around since the early 1970's and will likely be around at the end of your career (the hard work you are putting into learning UNIX will pay off over a lifetime!)\n",
    "\n",
    "* Amazing support &ndash; a large body of tutorials and support web sites are readily available online.\n",
    "\n",
    "* Basically all resources for High-Performance Computing (computer clusters, large workstations, etc.) run a UNIX or Linux operating system."
   ]
  },
  {
   "cell_type": "markdown",
   "metadata": {},
   "source": [
    "---\n",
    ">**32-bit vs 64-bit:** The terms 32-bit and 64-bit refer to the way a computer's processor (also called a CPU), handles information. A 64-bit OS handles large amounts of random access memory (RAM) more effectively than a 32-bit system. Specifically, while 32 bits of information can only access 4 GB of RAM, a 64-bit machine can access essentially unlimited system memory (though this is not yet physically possible)! The combination of your operating system, and processor bit count is often called the \"Platform\".  \n",
    "\n",
    "---"
   ]
  },
  {
   "cell_type": "markdown",
   "metadata": {},
   "source": [
    "## UNIX directory structure\n",
    "\n",
    "![image](./graphics/unix-tree.png)\n",
    "<small> <center>(Source: [https://pathanruet.files.wordpress.com/2012/05/unix-tree.png](https://pathanruet.files.wordpress.com/2012/05/unix-tree.png))</center></small>\n",
    "\n",
    "The UNIX directory (same as \"Folder\") structure is hierarchical, with a single tree starting from the \"root\" `/`. This is quite unlike Windows or MS-DOS, where there are separate trees for disk partitions, removable media, network, etc. "
   ]
  },
  {
   "cell_type": "markdown",
   "metadata": {},
   "source": [
    "The key UNIX directories are:\n",
    "\n",
    "| Directory      | Description   |  \n",
    "| :- | :- | \n",
    "| `/`     | Is the \"root\" directory | \n",
    "| `/bin`     | Contains basic programs | \n",
    "| `/etc`     | Contains configuration files | \n",
    "| `/dev`     | Contains files connecting to devices (keyboard, mouse, screen, etc.)| \n",
    "| `/home`     |Your home directory; this is where all your documents are and where you will usually work| \n",
    "| `/tmp`     | Contains temporary files| \n",
    "\n",
    "This hierarchical directory structure makes navigating your computer from the terminal/shell (coming up next!) or encoding this navigation in your computer programs easier."
   ]
  },
  {
   "cell_type": "markdown",
   "metadata": {},
   "source": [
    "## Meet the UNIX shell\n",
    "\n",
    "The shell (or terminal) is a text command processor to interface with the Operating System's \"kernel\". We will use the popular (yes, it's popular!) `bash` shell.\n",
    "\n",
    "$\\star$ To launch a `bash` shell, do `Ctrl + Alt + t` (or use ` Meta` key) &ndash; try it now. (On Mac: `Cmd+Space` to open spotlight search, and type \"terminal\" and hit return)."
   ]
  },
  {
   "cell_type": "markdown",
   "metadata": {},
   "source": [
    "OK, so you have met the shell. Isn't it lovely? Note that:\n",
    "\n",
    "* The shell automatically starts in your home directory `/home/yourname/`, also called `~` (important to\n",
    "remember!)\n",
    "\n",
    "* Use the `Tab` key &ndash; very handy (try `ls` with a double `Tab` `Tab`). \n",
    "\n",
    "* You can navigate commands you previously typed using the up/down arrows"
   ]
  },
  {
   "cell_type": "markdown",
   "metadata": {},
   "source": [
    "Other useful keyboard shortcuts are:\n",
    "\n",
    "|Command         | What it means       |\n",
    "| :-  |:- | \n",
    "| `Ctrl + A` |             Go to the beginning of the line|\n",
    "| `Ctrl + E`  |           Go to the end of the line|\n",
    "|  `Ctrl + L`  |           Clear the screen|\n",
    "|  `Ctrl + U`   |          Clear the line before cursor position|\n",
    "|  `Ctrl + K`    |         Clear the line after the cursor|\n",
    "|  `Ctrl + C`     |        Kill whatever you are running|\n",
    "|  `Ctrl + D`      |       Exit (close) the current shell|\n",
    "|  `Ctrl + right arrow`|   Move cursor forward one whole word|\n",
    "|  `Ctrl + left arrow`  |  Move cursor backward one whole word|"
   ]
  },
  {
   "cell_type": "markdown",
   "metadata": {},
   "source": [
    "## Installing or removing software in Ubuntu\n",
    "\n",
    "You can install software in your `/home` directory. In UNIX you originally had to login as `root` (administrator). But in Ubuntu, it is sufficient to add `sudo` (`s`uper `u`ser `do`) in front of a command. To install packages in all Debain (including Ubuntu) distributions you need to use the `apt` group of commands which allow you to deal with various installation (and un-installation) tasks.\n",
    "\n",
    "![image](./graphics/sudo.png)\n",
    "<small> <center>(Source: [http://xkcd.com/149/](http://xkcd.com/149/))</center></small>"
   ]
  },
  {
   "cell_type": "markdown",
   "metadata": {},
   "source": [
    "### Installing from the main repository\n",
    "\n",
    "You can install anything that is in the main Ubuntu package/software repository.\n",
    "\n",
    "&#9733; Try installing R, which is pre-packaged the main Ubuntu repository:\n",
    "\n",
    "```bash\n",
    "\n",
    "sudo apt install r-base\n",
    "\n",
    "```\n",
    "\n",
    "This will prompt you for your password.  "
   ]
  },
  {
   "cell_type": "markdown",
   "metadata": {},
   "source": [
    "---\n",
    "> **Using the `tab` key in terminal**: Don't forget to use the `tab` key in the terminal. It aut-ocompletes directory/file names for you (same in `R`and `Python`, and/or provides a list of files in the current directory (hit `tab` twice after certain commands. For example, try double tab after typing `ls`at the bash prompt.)\n",
    "\n",
    "---"
   ]
  },
  {
   "cell_type": "markdown",
   "metadata": {},
   "source": [
    "### Enabling additional repositories\n",
    "\n",
    "You can enable additonal repositories that are already present (but not enabled by default) by using the Ubuntu \"Software Centre\" GUI. Launch Ubuntu Software Centre, and then Edit > Software Sources > Other Software (the exact approach will vary depnding on your Debian or Ubuntu distribution)."
   ]
  },
  {
   "cell_type": "markdown",
   "metadata": {},
   "source": [
    "### Installing from other repositories\n",
    "\n",
    "In addition there are other repositories you can access, but which first need to be auhtenticated locally for your system's security and stability. There are typically available in the form of *Personal Package Archives* (PPAs). The general approach is: \n",
    "\n",
    "* Find the repository's web page (it's Launchpad page)\n",
    "* Look for \"Adding this PPA to your system\" on the page. Make a note of the PPA's location, which has the format ppa:user/ppa-name.\n",
    "* Open a terminal and enter: `sudo add-apt-repository ppa:user/ppa-name`. (replace 'ppa:user/ppa-name' with the PPA's location that you noted above)\n",
    "\n",
    "Your system will now fetch the PPA's key. This enables your system to verify that the packages in the PPA have not been interfered with since they were built."
   ]
  },
  {
   "cell_type": "markdown",
   "metadata": {},
   "source": [
    "* Finally, download the latest list of software from each repository archive on your system (all of them: main, additional, and extra ones you have added manually such as the PPA you just added. To do this, use:\n",
    "\n",
    "```bash\n",
    "sudo apt-get update\n",
    "```\n",
    "You can now start installing software from the new repository. "
   ]
  },
  {
   "cell_type": "markdown",
   "metadata": {},
   "source": [
    "&#9733; Try installing something that isn't in the main repository &ndash; a weather indicator. \n",
    "\n",
    "For this, you first have to add the repository:\n",
    "\n",
    "```bash\n",
    "sudo add-apt-repository ppa:atareao/atareao\n",
    "```"
   ]
  },
  {
   "cell_type": "markdown",
   "metadata": {},
   "source": [
    "This will ask you to first approve the addition of this repository. Then, `sudo apt-get update`, and then, finally,\n",
    "\n",
    "```bash\n",
    "sudo apt install my-weather-indicator\n",
    "\n",
    "```"
   ]
  },
  {
   "cell_type": "markdown",
   "metadata": {},
   "source": [
    "---\n",
    "\n",
    "> **Ubuntu repositories:** Official Repositories are defined in `/etc/apt/sources.list`. You can enable or disable individual repositories by editing that file. \n",
    "\n",
    "---"
   ]
  },
  {
   "cell_type": "markdown",
   "metadata": {},
   "source": [
    "### Installing from downloaded `*.deb` files\n",
    "\n",
    "You can also install software from third-party sources by downloading an installable package archive. Such archives come with a `*.deb` extension. \n",
    "\n",
    "For example, you can install [Visual Studio Code](https://code.visualstudio.com/) this way. Let's try it.\n",
    "\n",
    "&#9733; First download and install the .deb package (64-bit) from their website (google it!). This will save it to your `Downloads` directory.Then `cd` to its location:\n",
    "\n",
    "```bash\n",
    "cd ~/Downloads\n",
    "```"
   ]
  },
  {
   "cell_type": "markdown",
   "metadata": {},
   "source": [
    "This is same as typing `cd /home/<YourUserName>/Downloads`. Then, you can install using:\n",
    "\n",
    "```bash\n",
    "sudo apt install <file>.deb # install, including dependencies\n",
    "```\n",
    "\n",
    "Installing the `.deb` package will automatically also install the softwarre's apt repository and authorize it. That means henceforth, the program `code` will automatically auto-update during the regular system updates. "
   ]
  },
  {
   "cell_type": "markdown",
   "metadata": {},
   "source": [
    "### Removing software\n",
    "\n",
    "You can also easily remove software by, well, using the `remove` command! \n",
    "\n",
    "You will find that the list of UNIX commands are quite exhaustive, and their names quite intuitive, as they should be. If you think a certain command with a certain name should exist, it very often does!\n",
    "\n",
    "&#9733; Try removing the totem video player and installing the more versatile VLC player instead:\n",
    "\n",
    "```bash \n",
    "sudo apt remove totem\n",
    "```\n",
    "and then, \n",
    "\n",
    "```bash \n",
    "sudo apt install vlc\n",
    "\n",
    "```"
   ]
  },
  {
   "cell_type": "markdown",
   "metadata": {},
   "source": [
    "## Basic UNIX commands\n",
    "\n",
    "Here are some basic commands, many of which you will use frequently.  \n",
    "\n",
    "|   Command    |  What it does            |\n",
    "| :------------- |:-------------| \n",
    "| `man COMMAND` |                      Show help page of a command.|\n",
    "| `whoami` |                              Display your user-name.| \n",
    "|   `pwd`|                                  Show the current directory.| \n",
    "|   `ls`|                                   List the files in the directory.| \n",
    "|   `cd DIRNAME`|                       Change directory.| \n",
    "|   `cd ..`                               | Move one directory up.| \n",
    "|   `cd /`|                                 Go to the root directory.| \n",
    "|   `cd ~`or just `cd `  | Go to the home directory.| \n",
    "|   `cp FROM TO`|                   Copy a file, or a directory non-recursively (what's this? Google it!).| \n",
    "|   `cp -r FROM TO`|                   Copy a directory recursively (what's this? Google it!).| \n",
    "|   `mv FROM TO` |                 Move or rename a file or directory.| \n",
    "|   `touch FILENAME`|                   Create an empty file.| \n",
    "|   `echo \"My string\"`|                     Print a string (in this example, \"My string\").| \n",
    "|   `rm FILEorDIRNAME` |                    Remove a file or directory non-recursively.| \n",
    "|   `rm -r DIRNAME`     |                Remove a directory recursively.| \n",
    "|   `wc FILENAME`|                     Count the number of lines and words in a file.|\n",
    "|  `sort FILENAME` |                  Sort the lines of a file and print result.|\n",
    "|  `uniq `          |                     Shows only unique elements of a list.|\n",
    "|  `cat FILENAME`    |                Print the file on the screen.|\n",
    "|  `less FILENAME`   |                Progressively print a file on the screen (\"q\" to exit).|\n",
    "|  `head FILENAME`   |                Print the first few lines of a file.|\n",
    "|  `tail FILENAME`   |                Print the last few lines of a file.|\n",
    "|  `history`         |                    Show the last commands you typed.|\n",
    "|  `date`            |                    Print current date.|\n",
    "|  `file FILENAME`   |                Determine the type of a file.|\n",
    "|  `passwd`         |                     Change user password.|\n",
    "|  `chmod FILENAME`|                  Change file permissions.|"
   ]
  },
  {
   "cell_type": "markdown",
   "metadata": {},
   "source": [
    "## Building your coursework directory structure\n",
    "\n",
    "It is time to start building your CMEE coursework directory structure. Please follow these rules:\n",
    "\n",
    "* Do all your work in a single directory with the abbreviation of your course followed by `CourseWork` (no spaces please) located in a suitable place in your `/home`. So for example, for CMEE students, the directory would be `CMEECourseWork`.\n",
    "\n",
    "* Each week's coursework should be in its respective directory; e.g., `CMEECourseWork/Week1`, `CMEECourseWork/Week2`, etc.\n",
    "\n",
    "* Each week's directory should contain directories called `Code`, `Data`, etc (more on this later)\n",
    "\n",
    "You will bring your `CMEECourseWork` (or `QMEECourseWork`, or whatever) and all it's contents under version control using Git (coming up in the [Version Control Chapter](03-Git.ipynb).\n",
    "\n",
    "$\\star$ OK, make your coursework directory now. First, `cd` to an appropriate place (e.g., `Documents` on your `home`):"
   ]
  },
  {
   "cell_type": "raw",
   "metadata": {},
   "source": [
    "cd ~/Documents"
   ]
  },
  {
   "cell_type": "markdown",
   "metadata": {},
   "source": [
    "Check what you have in there:"
   ]
  },
  {
   "cell_type": "raw",
   "metadata": {},
   "source": [
    "ls"
   ]
  },
  {
   "cell_type": "markdown",
   "metadata": {},
   "source": [
    "Now make the directory and `cd` to it"
   ]
  },
  {
   "cell_type": "raw",
   "metadata": {},
   "source": [
    "mkdir CMEECourseWork && cd CMEECourseWork"
   ]
  },
  {
   "cell_type": "markdown",
   "metadata": {},
   "source": [
    "You will get an error if a directory by that name already exists. Note that you can combine commands using `&&`"
   ]
  },
  {
   "cell_type": "raw",
   "metadata": {},
   "source": [
    "mkdir Week1"
   ]
  },
  {
   "cell_type": "raw",
   "metadata": {},
   "source": [
    "cd Week1"
   ]
  },
  {
   "cell_type": "raw",
   "metadata": {},
   "source": [
    "mkdir sandbox"
   ]
  },
  {
   "cell_type": "raw",
   "metadata": {},
   "source": [
    "cd Sandbox"
   ]
  },
  {
   "cell_type": "markdown",
   "metadata": {},
   "source": [
    "You will get an error, because in the UNIX/Linux file system, commands are case-sensitive. So \"`Sandbox`\" is not the same as \"`sandbox`\"."
   ]
  },
  {
   "cell_type": "markdown",
   "metadata": {},
   "source": [
    "---\n",
    "\n",
    "> **Mac OS has case insensitive commands**: Unlike UNIX/Linux, MacOS allows execution of commands and file/directory names in a case-insensitive way. Keep this in mind from the perspective of platform independence - if you write your code to call a directory called, say, `Sandbox`, but the directory is actually called `sandbox`, then you will niot get an error, but your collaborator (me!) will, if she/he uses Linux!\n",
    "\n",
    "---"
   ]
  },
  {
   "cell_type": "markdown",
   "metadata": {},
   "source": [
    "Let's continue:"
   ]
  },
  {
   "cell_type": "markdown",
   "metadata": {},
   "source": [
    "rm sandbox"
   ]
  },
  {
   "cell_type": "markdown",
   "metadata": {},
   "source": [
    "You will get an error because UNIX is conservative about allowing users to delete directories (this is one of the reasons why it is so stable)\n",
    "\n",
    "Let's try renaming:"
   ]
  },
  {
   "cell_type": "raw",
   "metadata": {},
   "source": [
    "mv sandbox Sandbox"
   ]
  },
  {
   "cell_type": "markdown",
   "metadata": {},
   "source": [
    "You can also do `rm -r sandbox` and then recreate `mkdir Sandbox`. \n",
    "\n",
    "However, careful with the `-r` option, because starting with the target directory (`sandbox` in this case), it `r`ecursively removes the entire directory tree inside the target directory, files and all!\n",
    "\n",
    "Next try a some more directory and file manipulations:"
   ]
  },
  {
   "cell_type": "raw",
   "metadata": {},
   "source": [
    "cd Sandbox\n",
    "pwd\n",
    "ls\n",
    "touch TestFile # OR, \"touch TestFile.txt\"\n",
    "ls\n",
    "mv TestFile TestFile2\n",
    "rm TestFile2"
   ]
  },
  {
   "cell_type": "markdown",
   "metadata": {},
   "source": [
    "Note the hash mark (`#`) after one of the commands above &ndash; anything after a `#` is ignored (so you can use it for commenting)."
   ]
  },
  {
   "cell_type": "markdown",
   "metadata": {},
   "source": [
    "You could have made your project directories and subdirectories in one swoop by using the `-p` option of `mkdir` (`cd` up to `CMEECourseWork` first (*how would you do it?*)):"
   ]
  },
  {
   "cell_type": "raw",
   "metadata": {},
   "source": [
    "mkdir -p Week1/{Data,Code,Sandbox}"
   ]
  },
  {
   "cell_type": "markdown",
   "metadata": {},
   "source": [
    "## Command arguments\n",
    "\n",
    "Most UNIX commands accept arguments that modify their behavior. E.g., `ls -l` (ls “minus”l) lists the files in longer format. Some useful arguments:\n",
    "\n",
    "|  Command/Argument    |  What it does       |\n",
    "| :------------- |:-------------| \n",
    "|`cp -r DIR1 DIR2`   |Copy a directory recursively (i.e., including all the sub-directories and files).|\n",
    "|`rm -i FILENAME`   |     Removes a file, but asks first (for safety).|\n",
    "|`rm -r DIR`         |    Remove a directory recursively (i.e., including all the sub-directories and files).|\n",
    "|`ls -a`              |       List all files, including hidden ones.|\n",
    "|  `ls -h`               |      List all files, with human-readable sizes (Mb, Gb).|\n",
    "|  `ls -l`                |     List all files, long format.|\n",
    "|  `ls -S`                 |    List all files, order by size.|\n",
    "|  `ls -t`                  |   List all files, order by modification time.|\n",
    "|  `ls -1`                   |  List all files, one file per line.|\n",
    "|  `mkdir -p Dir1/Dir2/Dir3`  | Create the directory Dir3 and Dir1 and Dir2 if they do not already exist.|\n",
    "|  `sort -n`                  | Sort all the lines, but use numeric values instead of dictionary (i.e., 11 follows 2).|\n",
    "\n",
    "You can also combine command arguments. Try:"
   ]
  },
  {
   "cell_type": "raw",
   "metadata": {},
   "source": [
    "ls -lt"
   ]
  },
  {
   "cell_type": "markdown",
   "metadata": {},
   "source": [
    "This combines `-l` and `-t`"
   ]
  },
  {
   "cell_type": "markdown",
   "metadata": {},
   "source": [
    "## Redirection and pipes\n",
    "\n",
    "\n",
    "Output of programs can also be \"redirected\" to a file in two ways:\n",
    "\n",
    "* `>`: Redirect output from a command to a file on disk. If the file already exists, it will be overwritten.\n",
    "\n",
    "* `>>`: Append the output from a command to a file on disk. If the file does not exist, it will be created.\n",
    "\n",
    "Examples (make sure you are in `Week1/Sandbox`):"
   ]
  },
  {
   "cell_type": "raw",
   "metadata": {},
   "source": [
    "echo \"My first line.\" > test.txt\n",
    "cat test.txt\n",
    "echo \"My second line\" >> test.txt\n",
    "ls / >> ListRootDir.txt\n",
    "cat ListRootDir.txt #Isn't that cool?!"
   ]
  },
  {
   "cell_type": "markdown",
   "metadata": {},
   "source": [
    "We can also concatenate commands using \"pipes\" with \"`|`\" e.g., to count how many files are in root (`/`) directory:"
   ]
  },
  {
   "cell_type": "raw",
   "metadata": {},
   "source": [
    "ls / | wc -l"
   ]
  },
  {
   "cell_type": "markdown",
   "metadata": {},
   "source": [
    "what does this do? Look up \"man wc\" in the terminal (or google \"unix wc\")."
   ]
  },
  {
   "cell_type": "markdown",
   "metadata": {},
   "source": [
    "Or try:"
   ]
  },
  {
   "cell_type": "raw",
   "metadata": {},
   "source": [
    "ls -lt | head -5"
   ]
  },
  {
   "cell_type": "markdown",
   "metadata": {},
   "source": [
    "*What does this do?*"
   ]
  },
  {
   "cell_type": "markdown",
   "metadata": {},
   "source": [
    "## Wildcards\n",
    "\n",
    "We can use wildcards to find files based on their names (still in `Week1/Sandbox`):"
   ]
  },
  {
   "cell_type": "raw",
   "metadata": {},
   "source": [
    "mkdir TestWild\n",
    "cd TestWild\n",
    "touch File1.txt\n",
    "touch File2.txt\n",
    "touch File3.txt\n",
    "touch File4.txt\n",
    "touch File1.csv\n",
    "touch File2.csv\n",
    "touch File3.csv\n",
    "touch File4.csv\n",
    "touch Anotherfile.csv\n",
    "touch Anotherfile.txt\n",
    "ls \n",
    "ls | wc -l"
   ]
  },
  {
   "cell_type": "markdown",
   "metadata": {},
   "source": [
    "We will use the following wildcards:\n",
    "\n",
    "|   Wildcard      | Meaning            |\n",
    "| :------------- |:-------------| \n",
    "|`?`|Any single character, except a leading dot (hidden files).|\n",
    "|`*`|Zero or more characters, except a leading dot (hidden files).|\n",
    "|`[A-Z]`|Define a class of characters (e.g., upper-case letters).|                   \n",
    "\n",
    "Now let's try to find the files using wildcards:"
   ]
  },
  {
   "cell_type": "raw",
   "metadata": {},
   "source": [
    "ls *\n",
    "ls File*\n",
    "ls *.txt\n",
    "ls File?.txt\n",
    "ls File[1-2].txt\n",
    "ls File[!3].*"
   ]
  },
  {
   "cell_type": "markdown",
   "metadata": {},
   "source": [
    "## Using `grep`\n",
    "\n",
    "`grep` is a command that matches strings in a file (why is this useful?). It is based on regular expressions (more on this later). Let's explore some basic usage of `grep`. For a test file let's download a list of protected species from the web (to `Sandbox`):"
   ]
  },
  {
   "cell_type": "code",
   "execution_count": 18,
   "metadata": {},
   "outputs": [],
   "source": [
    "cd ~/Documents/CMEECourseWork # make sure you are in the right place"
   ]
  },
  {
   "cell_type": "code",
   "execution_count": 19,
   "metadata": {},
   "outputs": [
    {
     "name": "stdout",
     "output_type": "stream",
     "text": [
      "\u001b[0m\u001b[01;34mSandbox\u001b[0m  \u001b[01;34mWeek1\u001b[0m\n"
     ]
    }
   ],
   "source": [
    "ls"
   ]
  },
  {
   "cell_type": "code",
   "execution_count": 20,
   "metadata": {},
   "outputs": [],
   "source": [
    "cd Week1"
   ]
  },
  {
   "cell_type": "code",
   "execution_count": 21,
   "metadata": {},
   "outputs": [
    {
     "name": "stdout",
     "output_type": "stream",
     "text": [
      "--2020-10-07 09:50:16--  https://raw.githubusercontent.com/mhasoba/TheMulQuaBio/master/content/data/spawannxs.txt\n",
      "Resolving raw.githubusercontent.com (raw.githubusercontent.com)... 151.101.16.133\n",
      "Connecting to raw.githubusercontent.com (raw.githubusercontent.com)|151.101.16.133|:443... connected.\n",
      "HTTP request sent, awaiting response... 200 OK\n",
      "Length: 13467 (13K) [text/plain]\n",
      "Saving to: ‘spawannxs.txt’\n",
      "\n",
      "spawannxs.txt       100%[===================>]  13.15K  --.-KB/s    in 0.001s  \n",
      "\n",
      "2020-10-07 09:50:16 (14.6 MB/s) - ‘spawannxs.txt’ saved [13467/13467]\n",
      "\n"
     ]
    }
   ],
   "source": [
    "wget https://raw.githubusercontent.com/mhasoba/TheMulQuaBio/master/content/data/spawannxs.txt #Cool!"
   ]
  },
  {
   "cell_type": "code",
   "execution_count": 22,
   "metadata": {},
   "outputs": [
    {
     "name": "stdout",
     "output_type": "stream",
     "text": [
      "\u001b[0m\u001b[01;34mCode\u001b[0m  \u001b[01;34mData\u001b[0m  \u001b[01;34msandbox\u001b[0m  \u001b[01;34mSandbox\u001b[0m  spawannxs.txt\n"
     ]
    }
   ],
   "source": [
    "ls"
   ]
  },
  {
   "cell_type": "code",
   "execution_count": 23,
   "metadata": {},
   "outputs": [],
   "source": [
    "mv spawannxs.txt Data # Mode the file to the appropriate location"
   ]
  },
  {
   "cell_type": "code",
   "execution_count": 24,
   "metadata": {},
   "outputs": [],
   "source": [
    "cd Data"
   ]
  },
  {
   "cell_type": "code",
   "execution_count": 25,
   "metadata": {},
   "outputs": [
    {
     "name": "stdout",
     "output_type": "stream",
     "text": [
      "spawannxs.txt\n"
     ]
    }
   ],
   "source": [
    "ls"
   ]
  },
  {
   "cell_type": "code",
   "execution_count": 26,
   "metadata": {},
   "outputs": [
    {
     "name": "stdout",
     "output_type": "stream",
     "text": [
      "ANNEX I\n",
      "List of Species of Marine and Coastal Flora \n",
      "Protected Under Article 11(1)(a)\n",
      "\n",
      "TRACHAEOPHYTA (Vascular Plants)\n",
      "\n",
      "Family\t\tGenus\t\tSpecies\n",
      "\n",
      "Aquifoliaceae\tIlex\t\tcookii\n",
      "Bignoniaceae\tCrescentia\tmirabilis\n",
      "Bignoniaceae\tCrescentia\tportoricensis\n",
      "Boraginaceae\tCordia\t\twagnerorum\n",
      "Buxaceae\tBuxus\t\tvahlii\n",
      "Cactaceae\tEchinocereus \treichenbachii var. albertii\n",
      "Cactaceae\tHarrisia\tfragrans\n",
      "Cactaceae\tHarrisia\tportoricensis\n",
      "Cactaceae\tLeptocereus\tgrantianus\n",
      "Cactaceae\tLeptocereus\twrightii\n",
      "Cactaceae\tMelocactus\tguitartii\n",
      "Cactaceae\tMelocactus \tharlowii sensu lato\n",
      "Cactaceae\tPilosocereus\tdeeringii\n",
      "Cactaceae\tPilosocereus\trobinii\n",
      "Convolvulaceae\tBonamia\t\tgrandiflora\n",
      "Convolvulaceae\tIpomoea\t\tflavopurpurea\n",
      "Convolvulaceae\tIpomoea\t\twalpersiana\n",
      "Cyatheaceae\tCyathea\t\tdryopteroides\n",
      "Cyperaceae\tRhynchospora\tbucherorum\n",
      "Dioscoreaceae\tRajania\t\ttheresensis\n",
      "Ericaceae\tRhododendron\tchapmanii\n",
      "Euphorbiaceae\tAndrachne\tbrittonii\n",
      "Euphorbiaceae\tBernardia\tvenosa\n",
      "Euphorbiaceae\tCnidoscolus\tfragrans\n",
      "Euphorbiaceae\tDrypetes\ttriplinervia\n",
      "Flacourtiaceae\tBanaras\t\tvanderbiltii\n",
      "Flacourtiaceae\tSamyda\t\tmicrophylla\n",
      "Hydrophyllaceae\tHydrolea\ttorroei\n",
      "Icacinaceae\tOttoschulzia \trhodoxylon\n",
      "Leguminosae\tAcacia\t\tcupeyensis\n",
      "(Fabaceae)\n",
      "Leguminosae\tAcacia\t\troigii\n",
      "Leguminosae\tStahlia\t\tmonosperma\n",
      "Liliaceae\tHarperocallis\tflava\n",
      "Loranthaceae\tDendropemon\tacutifolius\n",
      "Malvaceae\tAbutilon\tvirginianum\n",
      "Meliaceae\tTrichilia\ttriacantha\n",
      "Olacaceae\tXimenia\t\troigii\n",
      "Orchidaceae\tBrachionidium\tciliolatum\n",
      "Orchidaceae\tCranichis\tricartii\n",
      "Orchidaceae\tLapanthes\teltoroensis\n",
      "Orchidaceae\tOncidium\tjacquinianum\n"
     ]
    }
   ],
   "source": [
    "head -n 50 spawannxs.txt #You will see \"head\" in R and Python as well"
   ]
  },
  {
   "cell_type": "markdown",
   "metadata": {},
   "source": [
    "OK, let's look for falcons:"
   ]
  },
  {
   "cell_type": "raw",
   "metadata": {},
   "source": [
    "grep Falco spawannxs.txt"
   ]
  },
  {
   "cell_type": "markdown",
   "metadata": {},
   "source": [
    "Nothing there? Let's use `-i` to make the matching case-insensitive:"
   ]
  },
  {
   "cell_type": "code",
   "execution_count": 27,
   "metadata": {},
   "outputs": [
    {
     "name": "stdout",
     "output_type": "stream",
     "text": [
      "Order:\t\u001b[01;31m\u001b[KFALCO\u001b[m\u001b[KNIFORMES\n",
      "\u001b[01;31m\u001b[KFalco\u001b[m\u001b[Knidae\t\u001b[01;31m\u001b[KFalco\u001b[m\u001b[K\t\tfemoralis septentrionalis\n",
      "\u001b[01;31m\u001b[KFalco\u001b[m\u001b[Knidae\t\u001b[01;31m\u001b[KFalco\u001b[m\u001b[K\t\tperegrinus\n",
      "\u001b[01;31m\u001b[KFalco\u001b[m\u001b[Knidae\tPolyborus\tplancus\n",
      "Order:\t\u001b[01;31m\u001b[KFALCO\u001b[m\u001b[KNIFORMES\n",
      "Order:\t\u001b[01;31m\u001b[KFALCO\u001b[m\u001b[KNIFORMES\n",
      "Order:\t\u001b[01;31m\u001b[KFALCO\u001b[m\u001b[KNIFORMES\n",
      "\u001b[01;31m\u001b[KFalco\u001b[m\u001b[Knidae\t\u001b[01;31m\u001b[KFalco\u001b[m\u001b[K\t\tcolumbarius\n"
     ]
    }
   ],
   "source": [
    "grep -i Falco spawannxs.txt"
   ]
  },
  {
   "cell_type": "markdown",
   "metadata": {},
   "source": [
    "Now let's find the beautiful [\"Ara\" macaws](https://en.wikipedia.org/wiki/Ara_(genus)):"
   ]
  },
  {
   "cell_type": "code",
   "execution_count": 28,
   "metadata": {},
   "outputs": [
    {
     "name": "stdout",
     "output_type": "stream",
     "text": [
      "Flacourtiaceae\tBan\u001b[01;31m\u001b[Kara\u001b[m\u001b[Ks\t\tvanderbiltii\n",
      "Order:\tCH\u001b[01;31m\u001b[KARA\u001b[m\u001b[KDRIIFORMES\n",
      "Ch\u001b[01;31m\u001b[Kara\u001b[m\u001b[Kdriidae\tCh\u001b[01;31m\u001b[Kara\u001b[m\u001b[Kdrius\tmelodus\n",
      "Psittacidae\tAmazona\t\t\u001b[01;31m\u001b[Kara\u001b[m\u001b[Kusica\n",
      "Psittacidae\t\u001b[01;31m\u001b[KAra\u001b[m\u001b[K\t\tmacao\n",
      "Dasyproctidae\tDasyprocta\tguam\u001b[01;31m\u001b[Kara\u001b[m\u001b[K\n",
      "Palmae\t\tSyagrus (= Rhyticocos)\tam\u001b[01;31m\u001b[Kara\u001b[m\u001b[K\n",
      "Psittacidae\t\u001b[01;31m\u001b[KAra\u001b[m\u001b[K\t\t\u001b[01;31m\u001b[Kara\u001b[m\u001b[Krauna\n",
      "Psittacidae\t\u001b[01;31m\u001b[KAra\u001b[m\u001b[K\t\tchloroptera\n",
      "Psittacidae\t\u001b[01;31m\u001b[KAra\u001b[m\u001b[Ko\t\tmanilata\n",
      "Mustelidae\tEira\t\tbarb\u001b[01;31m\u001b[Kara\u001b[m\u001b[K\n",
      "Order:\tCH\u001b[01;31m\u001b[KARA\u001b[m\u001b[KDRIIFORMES\n"
     ]
    }
   ],
   "source": [
    "grep -i ara spawannxs.txt"
   ]
  },
  {
   "cell_type": "markdown",
   "metadata": {},
   "source": [
    "But this poses a problem (what is the problem?). \n",
    "\n",
    "We can solve this by specifying `-w` to match only full words:"
   ]
  },
  {
   "cell_type": "code",
   "execution_count": 29,
   "metadata": {},
   "outputs": [
    {
     "name": "stdout",
     "output_type": "stream",
     "text": [
      "Psittacidae\t\u001b[01;31m\u001b[KAra\u001b[m\u001b[K\t\tmacao\n",
      "Psittacidae\t\u001b[01;31m\u001b[KAra\u001b[m\u001b[K\t\tararauna\n",
      "Psittacidae\t\u001b[01;31m\u001b[KAra\u001b[m\u001b[K\t\tchloroptera\n"
     ]
    }
   ],
   "source": [
    "grep -i -w ara spawannxs.txt"
   ]
  },
  {
   "cell_type": "markdown",
   "metadata": {},
   "source": [
    "And also show line(s) after the one that was matched, we can use `-A x`, where `x` is number of lines to use:"
   ]
  },
  {
   "cell_type": "code",
   "execution_count": 30,
   "metadata": {},
   "outputs": [
    {
     "name": "stdout",
     "output_type": "stream",
     "text": [
      "Psittacidae\t\u001b[01;31m\u001b[KAra\u001b[m\u001b[K\t\tmacao\n",
      "\n",
      "\u001b[36m\u001b[K--\u001b[m\u001b[K\n",
      "Psittacidae\t\u001b[01;31m\u001b[KAra\u001b[m\u001b[K\t\tararauna\n",
      "Psittacidae\t\u001b[01;31m\u001b[KAra\u001b[m\u001b[K\t\tchloroptera\n",
      "Psittacidae\tArao\t\tmanilata\n"
     ]
    }
   ],
   "source": [
    "grep -i -w -A 1 ara spawannxs.txt"
   ]
  },
  {
   "cell_type": "markdown",
   "metadata": {},
   "source": [
    "Similarly, <span>-B</span> shows the lines before:"
   ]
  },
  {
   "cell_type": "code",
   "execution_count": 31,
   "metadata": {},
   "outputs": [
    {
     "name": "stdout",
     "output_type": "stream",
     "text": [
      "Psittacidae\tAmazona\t\tvittata\n",
      "Psittacidae\t\u001b[01;31m\u001b[KAra\u001b[m\u001b[K\t\tmacao\n",
      "\u001b[36m\u001b[K--\u001b[m\u001b[K\n",
      "Psittacidae\tAmazona\t\tochrocephala\n",
      "Psittacidae\t\u001b[01;31m\u001b[KAra\u001b[m\u001b[K\t\tararauna\n",
      "Psittacidae\t\u001b[01;31m\u001b[KAra\u001b[m\u001b[K\t\tchloroptera\n"
     ]
    }
   ],
   "source": [
    "grep -i -w -B 1 ara spawannxs.txt"
   ]
  },
  {
   "cell_type": "markdown",
   "metadata": {},
   "source": [
    "Use <span>-n</span> to show the line number of the match:"
   ]
  },
  {
   "cell_type": "code",
   "execution_count": 32,
   "metadata": {},
   "outputs": [
    {
     "name": "stdout",
     "output_type": "stream",
     "text": [
      "\u001b[32m\u001b[K216\u001b[m\u001b[K\u001b[36m\u001b[K:\u001b[m\u001b[KPsittacidae\t\u001b[01;31m\u001b[KAra\u001b[m\u001b[K\t\tmacao\n",
      "\u001b[32m\u001b[K461\u001b[m\u001b[K\u001b[36m\u001b[K:\u001b[m\u001b[KPsittacidae\t\u001b[01;31m\u001b[KAra\u001b[m\u001b[K\t\tararauna\n",
      "\u001b[32m\u001b[K462\u001b[m\u001b[K\u001b[36m\u001b[K:\u001b[m\u001b[KPsittacidae\t\u001b[01;31m\u001b[KAra\u001b[m\u001b[K\t\tchloroptera\n"
     ]
    }
   ],
   "source": [
    "grep -i -w -n ara spawannxs.txt"
   ]
  },
  {
   "cell_type": "markdown",
   "metadata": {},
   "source": [
    "To print all the lines that do not match a pattern, use <span>-v</span>:"
   ]
  },
  {
   "cell_type": "raw",
   "metadata": {},
   "source": [
    "grep -i -w -v ara spawannxs.txt"
   ]
  },
  {
   "cell_type": "markdown",
   "metadata": {},
   "source": [
    "This will porduce a lot of output (which I will not show)!"
   ]
  },
  {
   "cell_type": "markdown",
   "metadata": {},
   "source": [
    "To match one of several strings, use `grep\"string1\\|string2” file`. `grep` can be used on multiple files, all files, using wildcards for filenames, etc &ndash; explore as and when you need.\n",
    "\n",
    "## Finding files\n",
    "\n",
    "It's easy to find files in UNIX using, well, the `find` command! Let's test it (make sure you are in `Sandbox`, not `Data`!)"
   ]
  },
  {
   "cell_type": "code",
   "execution_count": 34,
   "metadata": {},
   "outputs": [],
   "source": [
    "cd ../sandbox # note the relative path!"
   ]
  },
  {
   "cell_type": "code",
   "execution_count": 35,
   "metadata": {},
   "outputs": [],
   "source": [
    "mkdir TestFind\n",
    "cd TestFind\n",
    "mkdir -p Dir1/Dir11/Dir111 #what does -p do?\n",
    "mkdir Dir2\n",
    "mkdir Dir3\n",
    "touch Dir1/File1.txt\n",
    "touch Dir1/File1.csv\n",
    "touch Dir1/File1.tex\n",
    "touch Dir2/File2.txt\n",
    "touch Dir2/file2.csv\n",
    "touch Dir2/File2.tex\n",
    "touch Dir1/Dir11/Dir111/File111.txt\n",
    "touch Dir3/File3.txt"
   ]
  },
  {
   "cell_type": "code",
   "execution_count": 36,
   "metadata": {},
   "outputs": [
    {
     "name": "stdout",
     "output_type": "stream",
     "text": [
      "\u001b[0m\u001b[01;34mDir1\u001b[0m  \u001b[01;34mDir2\u001b[0m  \u001b[01;34mDir3\u001b[0m\n"
     ]
    }
   ],
   "source": [
    "ls"
   ]
  },
  {
   "cell_type": "code",
   "execution_count": 37,
   "metadata": {},
   "outputs": [
    {
     "name": "stdout",
     "output_type": "stream",
     "text": [
      "\u001b[0m\u001b[01;34mDir11\u001b[0m  File1.csv  File1.tex  File1.txt\n"
     ]
    }
   ],
   "source": [
    "ls Dir1"
   ]
  },
  {
   "cell_type": "code",
   "execution_count": 38,
   "metadata": {},
   "outputs": [
    {
     "name": "stdout",
     "output_type": "stream",
     "text": [
      "Dir1:\n",
      "\u001b[0m\u001b[01;34mDir11\u001b[0m  File1.csv  File1.tex  File1.txt\n",
      "\n",
      "Dir2:\n",
      "file2.csv  File2.tex  File2.txt\n",
      "\n",
      "Dir3:\n",
      "File3.txt\n"
     ]
    }
   ],
   "source": [
    "ls Dir* # the asterisk wildcards names so you can find all dirs with a particular start to their name"
   ]
  },
  {
   "cell_type": "markdown",
   "metadata": {},
   "source": [
    "Don't forget to use `man ` to check what `mkdir` and `touch` do. \n",
    "\n",
    "Now find particular files:"
   ]
  },
  {
   "cell_type": "code",
   "execution_count": 39,
   "metadata": {},
   "outputs": [
    {
     "name": "stdout",
     "output_type": "stream",
     "text": [
      "./Dir1/File1.txt\n"
     ]
    }
   ],
   "source": [
    "find . -name \"File1.txt\""
   ]
  },
  {
   "cell_type": "markdown",
   "metadata": {},
   "source": [
    "Using `-iname` ignores case, and you can use wildcards:"
   ]
  },
  {
   "cell_type": "code",
   "execution_count": 40,
   "metadata": {},
   "outputs": [
    {
     "name": "stdout",
     "output_type": "stream",
     "text": [
      "./Dir2/File2.txt\n",
      "./Dir3/File3.txt\n",
      "./Dir1/File1.txt\n",
      "./Dir1/Dir11/Dir111/File111.txt\n"
     ]
    }
   ],
   "source": [
    "find . -iname \"fi*.txt\""
   ]
  },
  {
   "cell_type": "markdown",
   "metadata": {},
   "source": [
    "You can limit the search to exclude sub-directories:"
   ]
  },
  {
   "cell_type": "code",
   "execution_count": 41,
   "metadata": {},
   "outputs": [
    {
     "name": "stdout",
     "output_type": "stream",
     "text": [
      "./Dir2/File2.txt\n",
      "./Dir3/File3.txt\n",
      "./Dir1/File1.txt\n"
     ]
    }
   ],
   "source": [
    "find . -maxdepth 2 -name \"*.txt\""
   ]
  },
  {
   "cell_type": "markdown",
   "metadata": {},
   "source": [
    "You can exclude certain files:"
   ]
  },
  {
   "cell_type": "code",
   "execution_count": 42,
   "metadata": {},
   "outputs": [
    {
     "name": "stdout",
     "output_type": "stream",
     "text": [
      ".\n",
      "./Dir2\n",
      "./Dir2/file2.csv\n",
      "./Dir2/File2.tex\n",
      "./Dir3\n",
      "./Dir1\n",
      "./Dir1/File1.csv\n",
      "./Dir1/File1.tex\n",
      "./Dir1/Dir11\n"
     ]
    }
   ],
   "source": [
    "find . -maxdepth 2 -not -name \"*.txt\""
   ]
  },
  {
   "cell_type": "markdown",
   "metadata": {},
   "source": [
    "To find only directories:"
   ]
  },
  {
   "cell_type": "code",
   "execution_count": 43,
   "metadata": {},
   "outputs": [
    {
     "name": "stdout",
     "output_type": "stream",
     "text": [
      "./Dir2\n",
      "./Dir3\n",
      "./Dir1\n",
      "./Dir1/Dir11\n",
      "./Dir1/Dir11/Dir111\n"
     ]
    }
   ],
   "source": [
    "find . -type d -iname *dir*"
   ]
  },
  {
   "cell_type": "markdown",
   "metadata": {},
   "source": [
    "## Practicals\n",
    "\n",
    "**Some instructions**:\n",
    "\n",
    "* Review (especially if you got lost along the way) and make sure you can run and understand all the commands and get the expected outputs we have covered today.\n",
    "\n",
    "* Make sure you have your directory organized with `Data` and `Sandbox` with the necessary files, under your coursework directory (e.g., `CMEECourseWork/Week1`).\n",
    "\n",
    "* Along with the completeness of the practicals/exercises themselves, you will be marked on the basis of how complete and well-organized your directory structure and content is &ndash; in all coming weeks as well.\n",
    "\n",
    "### Bash command challenge\n",
    "\n",
    "Here is a more complicated bash command using two pipes (*you are not expected to include the answer to this one as part of your weekly submission*):\n",
    "\n",
    "```bash\n",
    "find . -type f -exec ls -s {} \\; | sort -n | head -10\n",
    "\n",
    "```\n",
    "\n",
    "What does this command do? (Hint: try it on the test directories and files we created in `Sandbox`)\n",
    "\n",
    "*Remember that along with the `man` command, you can use the internet to get help on practically everything about UNIX!*\n",
    "\n",
    "### FASTA exercise\n",
    "\n",
    "In the directory `/data/fasta` you will find some FASTA files. These files have an header starting with `>` followed by the name of the sequence and other metadata.  The sequence data start from the second line. Write a file called\n",
    "`UnixPrac1.txt` with UNIX shell commands that do the following (number each command with a hashed comment like so &ndash; `#1`, `#2`, etc):\n",
    " * Count how many lines are in each file\n",
    " * Print everything starting from the second line for the `E. coli` genome\n",
    " * Count the sequence length of this genome\n",
    " * Count the matches of a particular sequence, \"ATGC\" in the genome of *E. coli* (hint: Start by removing the first line and removing newline characters)\n",
    " * Compute the AT/GC ratio. That is, the (A+T)/(G+C) ratio. This is a summary measure of base composition of double-stranded DNA. DNA from different organisms and lineages has different ratios of the A-to-T and G-to-C base pairs. For example DNA from organisms that live in hot springs have a higher GC content, which takes advantage of the increased thermal stability of the GC base pair (google \"Chargaff's rule\").\n",
    " \n",
    "Save `UnixPrac1.txt` in the `Code` directory. Please make sure that each command calls the data from the\n",
    "`Data` directory! Do not write any of the above as shell scripts (that's not been covered yet; see [Shell Scripting Chapter](02-ShellScripting.ipynb) &ndash; each one should be a single line solution made of (potentially piped together) UNIX commands.\n",
    "\n",
    "**Please put (judicious) comments in all of your script files.**"
   ]
  },
  {
   "cell_type": "markdown",
   "metadata": {},
   "source": [
    "## Readings & Resources\n",
    "\n",
    "The Imperial College library gives you access to several e- and paper books on UNIX, some specific to Ubuntu. Browse or search and find a good intro book.\n",
    "\n",
    "* If you like history, [see this]( https://www.howtogeek.com/182649/htg-explains-what-is-unix).\n",
    "\n",
    "* Lots of UNIX tutorials out there. Try [http://software-carpentry.org/lessons.html](http://software-carpentry.org/lessons.html) (Chapter “shell”).\n",
    "\n",
    "* Some good [UNIX usage habits](http://www.ibm.com/developerworks/aix/library/au-badunixhabits.html)\n",
    "\n",
    "* Read about [Apt authentication](https://help.ubuntu.com/community/SecureApt) in Debian Linux distributions (including Ubuntu).\n",
    "\n",
    "* [What are Repositories in Ubuntu?](https://help.ubuntu.com/community/Repositories/Ubuntu)\n",
    "\n",
    "* [How to use repositories](https://help.ubuntu.com/community/Repositories/Ubuntu)\n"
   ]
  }
 ],
 "metadata": {
  "kernelspec": {
   "display_name": "Bash",
   "language": "bash",
   "name": "bash"
  },
  "language_info": {
   "codemirror_mode": "shell",
   "file_extension": ".sh",
   "mimetype": "text/x-sh",
   "name": "bash"
  },
  "latex_envs": {
   "LaTeX_envs_menu_present": true,
   "autoclose": false,
   "autocomplete": false,
   "bibliofile": "biblio.bib",
   "cite_by": "apalike",
   "current_citInitial": 1,
   "eqLabelWithNumbers": true,
   "eqNumInitial": 1,
   "hotkeys": {
    "equation": "Ctrl-E",
    "itemize": "Ctrl-I"
   },
   "labels_anchors": false,
   "latex_user_defs": false,
   "report_style_numbering": false,
   "user_envs_cfg": false
  },
  "toc": {
   "base_numbering": 1,
   "nav_menu": {},
   "number_sections": true,
   "sideBar": false,
   "skip_h1_title": true,
   "title_cell": "Contents",
   "title_sidebar": "Contents",
   "toc_cell": true,
   "toc_position": {},
   "toc_section_display": true,
   "toc_window_display": false
  }
 },
 "nbformat": 4,
 "nbformat_minor": 4
}
