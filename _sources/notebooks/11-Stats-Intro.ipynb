{
 "cells": [
  {
   "cell_type": "markdown",
   "metadata": {},
   "source": [
    "# Introduction"
   ]
  },
  {
   "cell_type": "markdown",
   "metadata": {},
   "source": [
    "This section of TheMulQuaBio course builds on the computing component, introducing you to statistical analyses of data. You will learn statistics in a hands-on on way using the programming language R, interspersed with lectures on statistical concepts.\n",
    "\n",
    "* This document is accompanied by data and code on which you can practice your skills in your own time and during practical sessions. These materials are available from [TheMulQuaBio repository](https://mhasoba.github.io/TheMulQuaBio).\n",
    "\n",
    "*Note that you can download the code, data and everything from the repository at one go, by going to https://github.com/mhasoba/TheMulQuaBio and then clicking on the\n",
    "green \"Clone or Download\" button. You can then unzip the downloaded .zip and grab the files you need.*\n",
    "\n",
    "These notes and the scripts that you create form a valuable reference for using and interpreting statistics. You will be expected to be able to use your experience and these notes to complete analyses for statistical components of other courses.\n",
    "\n",
    "*The topics covered here assume that you have already worked through at least the basic sections (up to section 12 at least) of the [R Chapter](07-R.ipynb) of these materials.*\n",
    "\n",
    "Finally, it is important that you work through the problems in each chapter, particularly as some of the questions ask you to find out about commands and functions not introduced in the chapter's text itself, but which will be relied on in later chapters. By the time you have attended the lectures and workshops, and completed the exercises in this document, you should able to:\n",
    "\n",
    "* Use R to perform common statistical tests, particularly t, F, and $\\chi^{2}$ tests\n",
    "* Develop ability to build, criticize and interpret linear models, especially linear regression and ANOVA.\n",
    "* Interpret R output (particularly p values) correctly, and use them appropriately in practical write-ups and presentations\n",
    "\n",
    "## Conventions used in these materials\n",
    "\n",
    "You will find all R command line / console arguments, code snippets and output in colored boxes like this:"
   ]
  },
  {
   "cell_type": "code",
   "execution_count": null,
   "metadata": {},
   "outputs": [],
   "source": []
  },
  {
   "cell_type": "markdown",
   "metadata": {},
   "source": [
    "You will type the commands/code that you see in these boxes into the R command line or into a script file. Avoid copying-and-pasting chunks of R code you do not understand: blindly shoveling data into a black box and assuming the output is correct and meaningful will eventually lead to frustrations, and if you are unlucky, embarrassments or even catastrophes!\n",
    "\n",
    "The content of this document is computer platform (Mac, PC or Linux) independent because many of you will probably also later be working with R on your personal laptops or desktops. Indeed, platform-independence of your statistical analysis is one of the main reasons why you are using R!\n",
    "\n",
    "Finally, note that:\n",
    "\n",
    "$\\star$ In all subsequent chapters, lines marked with a star like this are things for you to do."
   ]
  },
  {
   "cell_type": "markdown",
   "metadata": {},
   "source": [
    "## Readings & Resources\n",
    "\n",
    "Look up the Readings directory on [TheMulQuaBio](https://github.com/mhasoba/TheMulQuaBio).\n",
    "\n",
    "* Bolker, B. M.: Ecological Models and Data in R (eBook and Hardcover available).\n",
    "\n",
    "* Beckerman, A. P. & Petchey, O. L. (2012) Getting started with R: an introduction for biologists. Oxford, Oxford University Press. (*Good, short, general introduction*)\n",
    "\n",
    "* Crawley, R. (2013) The R book. 2nd edition. Chichester, Wiley.Excellent but enormous reference book, with code and data [available online](http://www.bio.ic.ac.uk/research/mjcraw/therbook/index.htm)\n",
    "\n",
    "* Use the internet! Type \"R tutorial\", and scores will pop up. Choose one that seems the most intuitive to you."
   ]
  }
 ],
 "metadata": {
  "celltoolbar": "Edit Metadata",
  "kernelspec": {
   "display_name": "R",
   "language": "R",
   "name": "ir"
  },
  "language_info": {
   "codemirror_mode": "r",
   "file_extension": ".r",
   "mimetype": "text/x-r-source",
   "name": "R",
   "pygments_lexer": "r",
   "version": "4.0.3"
  },
  "latex_envs": {
   "LaTeX_envs_menu_present": true,
   "autoclose": false,
   "autocomplete": false,
   "bibliofile": "biblio.bib",
   "cite_by": "apalike",
   "current_citInitial": 1,
   "eqLabelWithNumbers": true,
   "eqNumInitial": 1,
   "hotkeys": {
    "equation": "Ctrl-E",
    "itemize": "Ctrl-I"
   },
   "labels_anchors": false,
   "latex_user_defs": false,
   "report_style_numbering": false,
   "user_envs_cfg": false
  },
  "toc": {
   "base_numbering": 1,
   "nav_menu": {},
   "number_sections": true,
   "sideBar": false,
   "skip_h1_title": false,
   "title_cell": "Contents",
   "title_sidebar": "Contents",
   "toc_cell": false,
   "toc_position": {},
   "toc_section_display": false,
   "toc_window_display": false
  }
 },
 "nbformat": 4,
 "nbformat_minor": 4
}
