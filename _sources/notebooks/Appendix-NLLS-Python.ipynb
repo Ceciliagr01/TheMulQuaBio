{
 "cells": [
  {
   "cell_type": "markdown",
   "metadata": {},
   "source": [
    "# Model fitting in Python"
   ]
  },
  {
   "attachments": {},
   "cell_type": "markdown",
   "metadata": {},
   "source": [
    "Python offers a wide range of tools for fitting mathematical models to data. Here we will look at using Python to fit non-linear models to data using Least Squares (NLLS). \n",
    "\n",
    "You may want to have a look at [this Chapter](./20-ModelFitting.ipynb), and in particular, it NLLS section, and the lectures on [Model fitting](https://github.com/mhasoba/TheMulQuaBio/tree/master/content/lectures/ModelFitting) and [NLLS](https://github.com/mhasoba/TheMulQuaBio/blob/master/content/lectures/NLLS) before proceeding.    \n",
    "\n",
    "WE will use the `Lmfit` package, which provides a high-level interface to non-linear optimization and curve fitting problems for Python.\n",
    "\n",
    "There are three main things that one needs in order to perform NLLS fitting succesfully in Python.\n",
    "1. Data\n",
    "2. Model specification\n",
    "3. Initial values for parameters in the model\n",
    "\n",
    "The image below summarizes how NLLS fitting works with these 3 entities.\n",
    "\n",
    "![image](./graphics/lmfit_workflow.jpg)"
   ]
  },
  {
   "cell_type": "markdown",
   "metadata": {},
   "source": [
    "We will use population growth rates as an example, as we did the [model fitting chapter](Model-Fitting-R-Population-Growth) (where we used R).\n",
    "\n",
    "First let's import the necessary packages (you may need to install `lmfit` first)."
   ]
  },
  {
   "cell_type": "code",
   "execution_count": 47,
   "metadata": {},
   "outputs": [],
   "source": [
    "from lmfit import Minimizer, Parameters, report_fit\n",
    "import numpy as np\n",
    "import matplotlib.pylab as plt"
   ]
  },
  {
   "cell_type": "markdown",
   "metadata": {},
   "source": [
    "Now, create some artificial data:"
   ]
  },
  {
   "cell_type": "code",
   "execution_count": 48,
   "metadata": {},
   "outputs": [],
   "source": [
    "t = np.arange(0, 24, 2)\n",
    "N = np.array([32500, 33000, 38000, 105000, 445000, 1430000, 3020000, 4720000, 5670000, 5870000, 5930000, 5940000])"
   ]
  },
  {
   "cell_type": "code",
   "execution_count": 49,
   "metadata": {},
   "outputs": [],
   "source": [
    "np.random.seed(1234) #Set random seed for reproducibility\n",
    "\n",
    "N_rand = N*(1 + np.random.normal(scale = 0.1, size = len(N))) #Add some error to data"
   ]
  },
  {
   "cell_type": "markdown",
   "metadata": {},
   "source": [
    "Here's what the data look like:"
   ]
  },
  {
   "cell_type": "code",
   "execution_count": 50,
   "metadata": {},
   "outputs": [
    {
     "data": {
      "image/png": "[encoded data removed]",
      "text/plain": [
       "<Figure size 432x288 with 1 Axes>"
      ]
     },
     "metadata": {
      "needs_background": "light"
     },
     "output_type": "display_data"
    }
   ],
   "source": [
    "plt.plot(t, N_rand, 'r+', markersize = 15, markeredgewidth = 2, label = 'Data')\n",
    "plt.xlabel('t', fontsize = 20)\n",
    "plt.ylabel(r'$N$', fontsize = 20)\n",
    "plt.ticklabel_format(style='scientific', scilimits=[0,3])"
   ]
  },
  {
   "cell_type": "markdown",
   "metadata": {},
   "source": [
    "## Fitting a Linear model to the data "
   ]
  },
  {
   "cell_type": "markdown",
   "metadata": {},
   "source": [
    "Lets start with the simplest case; a linear model. \n",
    "\n",
    "\\begin{equation*}\\label{eq:linear_model}\n",
    "    N_t = at^3 + bt^2 + ct + d\n",
    "\\end{equation*} \n",
    "\n",
    "where $a$, $b$, $c$ and $d$, are phenomenological parameters."
   ]
  },
  {
   "cell_type": "markdown",
   "metadata": {},
   "source": [
    "### Using NLLS"
   ]
  },
  {
   "cell_type": "code",
   "execution_count": 51,
   "metadata": {},
   "outputs": [],
   "source": [
    "#Create object for storing parameters\n",
    "params_linear = Parameters()\n",
    "\n",
    "#Add parameters and initial values to it\n",
    "params_linear.add('a', value = 1)\n",
    "params_linear.add('b', value = 1)\n",
    "params_linear.add('c', value = 1)\n",
    "params_linear.add('d', value = 1)"
   ]
  },
  {
   "cell_type": "code",
   "execution_count": 52,
   "metadata": {},
   "outputs": [],
   "source": [
    "#Write down the objective function that we want to minimize, i.e., the residuals \n",
    "def residuals_linear(params, t, data):\n",
    "    \"\"\"Calculate cubic growth and subtract data\"\"\"\n",
    "    \n",
    "    #Get an ordered dictionary of parameter values\n",
    "    v = params.valuesdict()\n",
    "    \n",
    "    #Cubic model\n",
    "    model = v['a']*t**3 + v['b']*t**2 + v['c']*t + v['d']\n",
    "\n",
    "    return model - data     #Return residuals"
   ]
  },
  {
   "cell_type": "code",
   "execution_count": 53,
   "metadata": {},
   "outputs": [],
   "source": [
    "#Create a Minimizer object\n",
    "minner = Minimizer(residuals_linear, params_linear, fcn_args=(t, np.log(N_rand)))\n",
    "\n",
    "#Perform the minimization\n",
    "fit_linear_NLLS = minner.minimize()"
   ]
  },
  {
   "cell_type": "markdown",
   "metadata": {},
   "source": [
    "The variable `fit_linear` belongs to a class called [`MinimizerResult`](https://lmfit.github.io/lmfit-py/fitting.html#lmfit.minimizer.MinimizerResult), which include data such as status and error messages, fit statistics, and the updated (i.e., best-fit) parameters themselves in the params attribute. \n",
    "\n",
    "Now get the summary of the fit:"
   ]
  },
  {
   "cell_type": "code",
   "execution_count": 30,
   "metadata": {},
   "outputs": [
    {
     "name": "stdout",
     "output_type": "stream",
     "text": [
      "[[Fit Statistics]]\n",
      "    # fitting method   = leastsq\n",
      "    # function evals   = 10\n",
      "    # data points      = 12\n",
      "    # variables        = 4\n",
      "    chi-square         = 1.68617886\n",
      "    reduced chi-square = 0.21077236\n",
      "    Akaike info crit   = -15.5493005\n",
      "    Bayesian info crit = -13.6096739\n",
      "[[Variables]]\n",
      "    a: -0.00147820 +/- 5.3322e-04 (36.07%) (init = 1)\n",
      "    b:  0.03687009 +/- 0.01787451 (48.48%) (init = 1)\n",
      "    c:  0.14339899 +/- 0.16467922 (114.84%) (init = 1)\n",
      "    d:  10.0545124 +/- 0.39977042 (3.98%) (init = 1)\n",
      "[[Correlations]] (unreported correlations are < 0.100)\n",
      "    C(a, b) = -0.984\n",
      "    C(b, c) = -0.960\n",
      "    C(a, c) =  0.900\n",
      "    C(c, d) = -0.779\n",
      "    C(b, d) =  0.621\n",
      "    C(a, d) = -0.528\n"
     ]
    }
   ],
   "source": [
    "report_fit(fit_linear_NLLS)"
   ]
  },
  {
   "cell_type": "markdown",
   "metadata": {},
   "source": [
    "### Using OLS\n",
    "\n",
    "`lmfit`'s purpose is not to fit linear models, although it is general enough to do so. Recall that a 3rd degree polynomial is a Lienar model, and it can be fitted using *Ordinary Least Squares*. You can easily do this  with the function `polyfit`. \n",
    "\n",
    "Let's try this for the same data."
   ]
  },
  {
   "cell_type": "code",
   "execution_count": 54,
   "metadata": {},
   "outputs": [],
   "source": [
    "fit_linear_OLS = np.polyfit(t, np.log(N_rand), 3) # degree = 3 as this is a cubic "
   ]
  },
  {
   "cell_type": "markdown",
   "metadata": {},
   "source": [
    "Now check the fitted coefficients: "
   ]
  },
  {
   "cell_type": "code",
   "execution_count": 55,
   "metadata": {
    "scrolled": true
   },
   "outputs": [
    {
     "name": "stdout",
     "output_type": "stream",
     "text": [
      "[-1.47819938e-03  3.68700893e-02  1.43398989e-01  1.00545124e+01]\n"
     ]
    }
   ],
   "source": [
    "print(fit_linear_OLS)"
   ]
  },
  {
   "cell_type": "markdown",
   "metadata": {},
   "source": [
    "### Comparing the NLLS and OLS fits\n",
    "\n",
    "Let's compare the the coefficients obtained using NLLS (using `lmfit`) vs using OLS (with `polyfit`) above. \n",
    "\n",
    "First have a another look at the NLLS result: "
   ]
  },
  {
   "cell_type": "code",
   "execution_count": 57,
   "metadata": {
    "scrolled": true
   },
   "outputs": [
    {
     "data": {
      "text/html": [
       "<table><tr><th> name </th><th> value </th><th> standard error </th><th> relative error </th><th> initial value </th><th> min </th><th> max </th><th> vary </th></tr><tr><td> a </td><td> -0.00147820 </td><td>  5.3322e-04 </td><td> (36.07%) </td><td> 1 </td><td>        -inf </td><td>         inf </td><td> True </td></tr><tr><td> b </td><td>  0.03687009 </td><td>  0.01787451 </td><td> (48.48%) </td><td> 1 </td><td>        -inf </td><td>         inf </td><td> True </td></tr><tr><td> c </td><td>  0.14339899 </td><td>  0.16467922 </td><td> (114.84%) </td><td> 1 </td><td>        -inf </td><td>         inf </td><td> True </td></tr><tr><td> d </td><td>  10.0545124 </td><td>  0.39977042 </td><td> (3.98%) </td><td> 1 </td><td>        -inf </td><td>         inf </td><td> True </td></tr></table>"
      ],
      "text/plain": [
       "Parameters([('a',\n",
       "             <Parameter 'a', value=-0.0014781993788668402 +/- 0.000533, bounds=[-inf:inf]>),\n",
       "            ('b',\n",
       "             <Parameter 'b', value=0.03687008929279989 +/- 0.0179, bounds=[-inf:inf]>),\n",
       "            ('c',\n",
       "             <Parameter 'c', value=0.14339898910348237 +/- 0.165, bounds=[-inf:inf]>),\n",
       "            ('d',\n",
       "             <Parameter 'd', value=10.054512416608512 +/- 0.4, bounds=[-inf:inf]>)])"
      ]
     },
     "execution_count": 57,
     "metadata": {},
     "output_type": "execute_result"
    }
   ],
   "source": [
    "fit_linear_NLLS.params"
   ]
  },
  {
   "cell_type": "markdown",
   "metadata": {},
   "source": [
    "Now extract the just the estimated parameter values obtained with `lmfit` (it takes some effort as these are saved in a Python dictionary within the fitted model object):"
   ]
  },
  {
   "cell_type": "code",
   "execution_count": 59,
   "metadata": {},
   "outputs": [
    {
     "name": "stdout",
     "output_type": "stream",
     "text": [
      "[ 2.18246428e-12  2.18860347e-12  7.76045894e-13 -1.61435310e-11]\n"
     ]
    }
   ],
   "source": [
    "par_dict = fit_linear_NLLS.params.valuesdict().values()\n",
    "\n",
    "#Transform these into an array\n",
    "par = np.array(list(par_dict))\n",
    "\n",
    "#Check the difefrences in the the parameter values obtained with lmfit and polyfit\n",
    "print(fit_linear_OLS - par)"
   ]
  },
  {
   "cell_type": "markdown",
   "metadata": {},
   "source": [
    "There are differences because NLLS is not an exact method. But these differences are *tiny*, showing that NLLS converges on pretty much the same solution as the (exact) OLS method.\n",
    "\n",
    "Next, you can calculate the residuals of the fit: "
   ]
  },
  {
   "cell_type": "markdown",
   "metadata": {},
   "source": [
    "### Calculating the residuals, etc."
   ]
  },
  {
   "cell_type": "markdown",
   "metadata": {},
   "source": [
    "Once you have done the model fitting you can calculate the residuals:"
   ]
  },
  {
   "cell_type": "code",
   "execution_count": 9,
   "metadata": {},
   "outputs": [],
   "source": [
    "#Construct the fitted polynomial equation\n",
    "my_poly = np.poly1d(fit_linear_OLS)\n",
    "\n",
    "#Compute predicted values\n",
    "ypred = my_poly(t)\n",
    "\n",
    "#Calculate residuals\n",
    "residuals = ypred - np.log(N_rand)"
   ]
  },
  {
   "cell_type": "markdown",
   "metadata": {},
   "source": [
    "The residuals can be then used to calculate BIC, AIC, etc, as you [learned previously](Model-Fitting-R-Comparing-Models).\n",
    "\n",
    "\n",
    "#### Exercise\n",
    "\n",
    "* We calculated the residuals above using the OLS fit of the cubic model to the data. Calculate the residuals for the NLLS fit of the same model to the data (i.e., using the `fit_linear_NLLS` object). \n",
    "    * *Hint*: To do this, you will need to first extract the coefficients, and then use the `residuals_linear` function that we created above."
   ]
  },
  {
   "cell_type": "markdown",
   "metadata": {},
   "source": [
    "## Fitting Non-linear models to the data\n",
    "\n",
    "Now let's use `lmfit` to do what it was actually designed for: fitting non-linear mathematical models to data. We will fit the same two models that we fitted in the [Model Fitting Chapter](Model-Fitting-R-Population-Growth) (where we used R). \n",
    "\n",
    "### Logistic model fit"
   ]
  },
  {
   "cell_type": "markdown",
   "metadata": {},
   "source": [
    "A classical, somewhat mechanistic model is the logistic growth equation:\n",
    "\n",
    "\\begin{equation*}\n",
    "    N_t =   \\frac{N_0  N_{max} e^{r t}}{N_{max} + N_0 (e^{r t} - 1)}\n",
    "\\end{equation*}\n",
    "\n",
    "Here $N_t$ is population size at time $t$, $N_0$ is initial population size, $r$ is maximum growth rate (AKA $r_{max}$), and $N_{max}$ is carrying capacity (commonly denoted by $K$ in the ecological literature)."
   ]
  },
  {
   "cell_type": "code",
   "execution_count": 10,
   "metadata": {},
   "outputs": [],
   "source": [
    "#Create object for parameter storing\n",
    "params_logistic = Parameters()\n",
    "params_logistic.add('N_0', value = N_rand[0])\n",
    "params_logistic.add('N_max', value = N_rand[-1])\n",
    "#Recall the value for growth rate obtained from a linear fit\n",
    "params_logistic.add('r', value = 0.62)"
   ]
  },
  {
   "cell_type": "code",
   "execution_count": 11,
   "metadata": {},
   "outputs": [],
   "source": [
    "#Write down the objective function that we want to minimize, i.e., the residuals \n",
    "def residuals_logistic(params, t, data):\n",
    "    '''Model a logistic growth and subtract data'''\n",
    "    #Get an ordered dictionary of parameter values\n",
    "    v = params.valuesdict()\n",
    "    #Logistic model\n",
    "    model = np.log(v['N_0'] * v['N_max'] * np.exp(v['r']*t) / \\\n",
    "    (v['N_max'] + v['N_0'] * ( np.exp(v['r']*t) - 1 )))\n",
    "    #Return residuals\n",
    "    return model - data"
   ]
  },
  {
   "cell_type": "code",
   "execution_count": 12,
   "metadata": {},
   "outputs": [],
   "source": [
    "#Create a Minimizer object\n",
    "minner = Minimizer(residuals_logistic, params_logistic, fcn_args=(t, np.log(N_rand)))\n",
    "#Perform the minimization\n",
    "fit_logistic = minner.minimize(method = 'leastsq')"
   ]
  },
  {
   "cell_type": "markdown",
   "metadata": {},
   "source": [
    "Note that I am choosing the least squares as the optimization method. A table with alternative fitting algorithms offered by lmfit can be found [here](https://lmfit.github.io/lmfit-py/fitting.html#choosing-different-fitting-methods)."
   ]
  },
  {
   "cell_type": "code",
   "execution_count": 13,
   "metadata": {},
   "outputs": [
    {
     "name": "stdout",
     "output_type": "stream",
     "text": [
      "[[Fit Statistics]]\n",
      "    # fitting method   = leastsq\n",
      "    # function evals   = 34\n",
      "    # data points      = 12\n",
      "    # variables        = 3\n",
      "    chi-square         = 2.19693074\n",
      "    reduced chi-square = 0.24410342\n",
      "    Akaike info crit   = -14.3741446\n",
      "    Bayesian info crit = -12.9194246\n",
      "[[Variables]]\n",
      "    N_0:    13998.5739 +/- 4769.60185 (34.07%) (init = 34032.16)\n",
      "    N_max:  7108406.32 +/- 2165947.53 (30.47%) (init = 6529216)\n",
      "    r:      0.44848151 +/- 0.05161938 (11.51%) (init = 0.62)\n",
      "[[Correlations]] (unreported correlations are < 0.100)\n",
      "    C(N_0, r)     = -0.807\n",
      "    C(N_max, r)   = -0.448\n",
      "    C(N_0, N_max) =  0.239\n"
     ]
    }
   ],
   "source": [
    "#Get summary of the fit\n",
    "report_fit(fit_logistic)"
   ]
  },
  {
   "cell_type": "markdown",
   "metadata": {},
   "source": [
    "Where function evals, is the number of iterations needed to reach the minimum. The `report_fit` function also offers estimations of goodness of fit such as $\\chi^2$, BIC and AIC. These are calculated as specified [here](https://lmfit.github.io/lmfit-py/fitting.html#akaike-and-bayesian-information-criteria). Finally, uncertainties of each parameter estimate, correlation levels between them are also calculated. Details and caveats about these values can be found [here](https://lmfit.github.io/lmfit-py/fitting.html#uncertainties-in-variable-parameters-and-their-correlations)."
   ]
  },
  {
   "cell_type": "markdown",
   "metadata": {},
   "source": [
    "### Gompertz model"
   ]
  },
  {
   "cell_type": "markdown",
   "metadata": {},
   "source": [
    "Another alternative is the Gompertz model, which has been used frequently in the literature to model bacterial growth\n",
    "\n",
    "\\begin{equation*}\\label{eq:Gompertzlog}\n",
    "     \\log(N_t) =  N_0 + (N_{max} - N_0) e^{-e^{r_{max} \\exp(1) \\frac{t_{lag} - t}{(N_{max} - N_0) \\log(10)} + 1}}\n",
    "\\end{equation*}\n",
    "\n",
    "Here maximum growth rate ($r_{max}$) is the tangent to the inflection point, $t_{lag}$ is the x-axis intercept to this tangent (duration of the delay before the population starts growing exponentially) and $\\log\\left(\\frac{N_{max}}{N_0}\\right)$ is the asymptote of the log-transformed population growth trajectory, i.e., the log ratio of maximum population density $N_{max}$ (aka “carrying capacity”) and initial cell (Population) $N_0$ density."
   ]
  },
  {
   "cell_type": "code",
   "execution_count": 14,
   "metadata": {},
   "outputs": [],
   "source": [
    "#Create object for parameter storing\n",
    "params_gompertz = Parameters()\n",
    "# add with tuples: (NAME VALUE VARY MIN  MAX  EXPR  BRUTE_STEP)\n",
    "params_gompertz.add_many(('N_0', np.log(N_rand)[0] , True, 0, None, None, None),\n",
    "                         ('N_max', np.log(N_rand)[-1], True, 0, None, None, None),\n",
    "                         ('r_max', 0.62, True, None, None, None, None),\n",
    "                         ('t_lag', 5, True, 0, None, None, None))#I see it in the graph\n"
   ]
  },
  {
   "cell_type": "code",
   "execution_count": 15,
   "metadata": {},
   "outputs": [],
   "source": [
    "#Write down the objective function that we want to minimize, i.e., the residuals \n",
    "def residuals_gompertz(params, t, data):\n",
    "    '''Model a logistic growth and subtract data'''\n",
    "    #Get an ordered dictionary of parameter values\n",
    "    v = params.valuesdict()\n",
    "    #Logistic model\n",
    "    model = v['N_0'] + (v['N_max'] - v['N_0']) * \\\n",
    "    np.exp(-np.exp(v['r_max'] * np.exp(1) * (v['t_lag'] - t) / \\\n",
    "                   ((v['N_max'] - v['N_0']) * np.log(10)) + 1))\n",
    "    #Return residuals\n",
    "    return model - data"
   ]
  },
  {
   "cell_type": "code",
   "execution_count": 16,
   "metadata": {},
   "outputs": [],
   "source": [
    "#Create a Minimizer object\n",
    "minner = Minimizer(residuals_gompertz, params_gompertz, fcn_args=(t, np.log(N_rand)))\n",
    "#Perform the minimization\n",
    "fit_gompertz = minner.minimize()"
   ]
  },
  {
   "cell_type": "code",
   "execution_count": 17,
   "metadata": {},
   "outputs": [
    {
     "name": "stdout",
     "output_type": "stream",
     "text": [
      "[[Fit Statistics]]\n",
      "    # fitting method   = leastsq\n",
      "    # function evals   = 37\n",
      "    # data points      = 12\n",
      "    # variables        = 4\n",
      "    chi-square         = 0.11350314\n",
      "    reduced chi-square = 0.01418789\n",
      "    Akaike info crit   = -47.9299775\n",
      "    Bayesian info crit = -45.9903509\n",
      "[[Variables]]\n",
      "    N_0:    10.3910132 +/- 0.07901002 (0.76%) (init = 10.43506)\n",
      "    N_max:  15.6520240 +/- 0.06730933 (0.43%) (init = 15.6918)\n",
      "    r_max:  1.74097660 +/- 0.09837840 (5.65%) (init = 0.62)\n",
      "    t_lag:  4.52049075 +/- 0.24729695 (5.47%) (init = 5)\n",
      "[[Correlations]] (unreported correlations are < 0.100)\n",
      "    C(r_max, t_lag) =  0.757\n",
      "    C(N_0, t_lag)   =  0.581\n",
      "    C(N_max, r_max) = -0.465\n",
      "    C(N_max, t_lag) = -0.318\n",
      "    C(N_0, N_max)   = -0.132\n",
      "    C(N_0, r_max)   =  0.115\n"
     ]
    }
   ],
   "source": [
    "#Sumarize results\n",
    "report_fit(fit_gompertz)"
   ]
  },
  {
   "cell_type": "markdown",
   "metadata": {},
   "source": [
    "### Plot the results"
   ]
  },
  {
   "cell_type": "code",
   "execution_count": 18,
   "metadata": {},
   "outputs": [
    {
     "data": {
      "image/png": "[encoded data removed]",
      "text/plain": [
       "<Figure size 1440x1080 with 1 Axes>"
      ]
     },
     "metadata": {
      "needs_background": "light"
     },
     "output_type": "display_data"
    }
   ],
   "source": [
    "plt.rcParams['figure.figsize'] = [20, 15]\n",
    "#Linear\n",
    "result_linear = np.log(N_rand) + fit_linear.residual\n",
    "plt.plot(t, result_linear, 'y.', markersize = 15, label = 'Linear')\n",
    "#Get a smooth curve by plugging a time vector to the fitted logistic model\n",
    "t_vec = np.linspace(0,24,1000)\n",
    "log_N_vec = np.ones(len(t_vec))\n",
    "residual_smooth_linear = residuals_linear(fit_linear.params, t_vec, log_N_vec)\n",
    "plt.plot(t_vec, residual_smooth_linear + log_N_vec, 'orange', linestyle = '--', linewidth = 1)\n",
    "\n",
    "#Logistic\n",
    "result_logistic = np.log(N_rand) + fit_logistic.residual\n",
    "plt.plot(t, result_logistic, 'b.', markersize = 15, label = 'Logistic')\n",
    "#Get a smooth curve by plugging a time vector to the fitted logistic model\n",
    "t_vec = np.linspace(0,24,1000)\n",
    "log_N_vec = np.ones(len(t_vec))\n",
    "residual_smooth_logistic = residuals_logistic(fit_logistic.params, t_vec, log_N_vec)\n",
    "plt.plot(t_vec, residual_smooth_logistic + log_N_vec, 'blue', linestyle = '--', linewidth = 1)\n",
    "\n",
    "#Gompertz\n",
    "result_gompertz = np.log(N_rand) + fit_gompertz.residual\n",
    "plt.plot(t, result_gompertz, 'g.', markersize = 15, label = 'Gompertz')\n",
    "#Get a smooth curve by plugging a time vector to the fitted logistic model\n",
    "t_vec = np.linspace(0,24,1000)\n",
    "log_N_vec = np.ones(len(t_vec))\n",
    "residual_smooth_gompertz = residuals_gompertz(fit_gompertz.params, t_vec, log_N_vec)\n",
    "plt.plot(t_vec, residual_smooth_gompertz + log_N_vec, 'green', linestyle = '--', linewidth = 1)\n",
    "\n",
    "#Plot data points\n",
    "plt.plot(t, np.log(N_rand), 'r+', markersize = 15,markeredgewidth = 2, label = 'Data')\n",
    "\n",
    "#Plot legend\n",
    "plt.legend(fontsize = 20)\n",
    "plt.xlabel('t', fontsize = 20)\n",
    "plt.ylabel(r'$\\log(N_t)$', fontsize = 20)\n",
    "plt.ticklabel_format(style='scientific', scilimits=[0,3])"
   ]
  },
  {
   "cell_type": "markdown",
   "metadata": {},
   "source": [
    "## Exercise\n",
    "\n",
    "The generalized Logistic model (also known as Richards' curve) is an extension of the logistic or sigmoid functions, allowing for more flexible S-shaped curves:\n",
    "\n",
    "\\begin{equation*}\\label{eq:Hill}\n",
    "    \\log(N_t) = A + \\frac{K - A}{1 + Q(e^{-Bt})^{1/\\mu}}\n",
    "\\end{equation*}\n",
    "\n",
    "Where $A$ is the lower asymptote, $K$ is the higher asymptote. If $A=0$ then $K$ is the carrying capacity. $B$ is the growth rate, $\\mu >0$ affects near which asymptote maximum growth occurs. $Q$ is related to the value $N(0)$\n",
    "\n",
    "Fit this model to the data using as initial values for the parameters: $A = 10$, $K = 16$, $Q = 0.5$, $B = 1$, $\\mu = 0.1$, $T = 7.5$"
   ]
  },
  {
   "cell_type": "code",
   "execution_count": 60,
   "metadata": {},
   "outputs": [],
   "source": [
    "#Define the parameter object\n",
    "params_genlogistic = Parameters()\n",
    "#Add parameters and initial values\n",
    "params_genlogistic.add('A', value = 10, min = 0)\n",
    "params_genlogistic.add('K', value = 16, min = 0)\n",
    "params_genlogistic.add('Q', value = 0.5, min = 0)\n",
    "params_genlogistic.add('B', value = 1, min = 0)\n",
    "params_genlogistic.add('mu', value = 0.1, min = 0)\n",
    "params_genlogistic.add('T', value = 7.5, min = 0)"
   ]
  },
  {
   "cell_type": "code",
   "execution_count": 62,
   "metadata": {},
   "outputs": [],
   "source": [
    "#Define the model\n",
    "def residuals_genlogistic(params, t, data):\n",
    "    '''Model a logistic growth and subtract data'''\n",
    "    #Get an ordered dictionary of parameter values\n",
    "    v = params.valuesdict()\n",
    "    #Logistic model\n",
    "    model = v['A'] + (v['K'] - v['A']) / \\\n",
    "    (1 + v['Q'] * np.exp(-v['B']*(t-v['T'])))**(1/v['mu'])\n",
    "    #Return residuals\n",
    "    return model - data"
   ]
  },
  {
   "cell_type": "code",
   "execution_count": 21,
   "metadata": {},
   "outputs": [],
   "source": [
    "#Perform the fit\n",
    "#Create a Minimizer object\n",
    "minner = Minimizer(residuals_genlogistic, params_genlogistic, fcn_args=(t, np.log(N_rand)))\n",
    "#Perform the minimization\n",
    "fit_genlogistic = minner.minimize()"
   ]
  },
  {
   "cell_type": "code",
   "execution_count": 63,
   "metadata": {},
   "outputs": [
    {
     "ename": "NameError",
     "evalue": "name 'fit_logistic' is not defined",
     "output_type": "error",
     "traceback": [
      "\u001b[0;31m---------------------------------------------------------------------------\u001b[0m",
      "\u001b[0;31mNameError\u001b[0m                                 Traceback (most recent call last)",
      "\u001b[0;32m<ipython-input-63-136b3be8e0ef>\u001b[0m in \u001b[0;36m<module>\u001b[0;34m\u001b[0m\n\u001b[1;32m     12\u001b[0m \u001b[0;34m\u001b[0m\u001b[0m\n\u001b[1;32m     13\u001b[0m \u001b[0;31m#Logistic\u001b[0m\u001b[0;34m\u001b[0m\u001b[0;34m\u001b[0m\u001b[0;34m\u001b[0m\u001b[0m\n\u001b[0;32m---> 14\u001b[0;31m \u001b[0mresult_logistic\u001b[0m \u001b[0;34m=\u001b[0m \u001b[0mnp\u001b[0m\u001b[0;34m.\u001b[0m\u001b[0mlog\u001b[0m\u001b[0;34m(\u001b[0m\u001b[0mN_rand\u001b[0m\u001b[0;34m)\u001b[0m \u001b[0;34m+\u001b[0m \u001b[0mfit_logistic\u001b[0m\u001b[0;34m.\u001b[0m\u001b[0mresidual\u001b[0m\u001b[0;34m\u001b[0m\u001b[0;34m\u001b[0m\u001b[0m\n\u001b[0m\u001b[1;32m     15\u001b[0m \u001b[0mplt\u001b[0m\u001b[0;34m.\u001b[0m\u001b[0mplot\u001b[0m\u001b[0;34m(\u001b[0m\u001b[0mt\u001b[0m\u001b[0;34m,\u001b[0m \u001b[0mresult_logistic\u001b[0m\u001b[0;34m,\u001b[0m \u001b[0;34m'b.'\u001b[0m\u001b[0;34m,\u001b[0m \u001b[0mmarkersize\u001b[0m \u001b[0;34m=\u001b[0m \u001b[0;36m15\u001b[0m\u001b[0;34m,\u001b[0m \u001b[0mlabel\u001b[0m \u001b[0;34m=\u001b[0m \u001b[0;34m'Logistic'\u001b[0m\u001b[0;34m)\u001b[0m\u001b[0;34m\u001b[0m\u001b[0;34m\u001b[0m\u001b[0m\n\u001b[1;32m     16\u001b[0m \u001b[0;31m#Get a smooth curve by plugging a time vector to the fitted logistic model\u001b[0m\u001b[0;34m\u001b[0m\u001b[0;34m\u001b[0m\u001b[0;34m\u001b[0m\u001b[0m\n",
      "\u001b[0;31mNameError\u001b[0m: name 'fit_logistic' is not defined"
     ]
    },
    {
     "data": {
      "image/png": "[encoded data removed]",
      "text/plain": [
       "<Figure size 1440x1080 with 1 Axes>"
      ]
     },
     "metadata": {
      "needs_background": "light"
     },
     "output_type": "display_data"
    }
   ],
   "source": [
    "#Overlay the fit with the others\n",
    "\n",
    "plt.rcParams['figure.figsize'] = [20, 15]\n",
    "#Linear\n",
    "result_linear = np.log(N_rand) + fit_linear.residual\n",
    "plt.plot(t, result_linear, 'y.', markersize = 15, label = 'Linear')\n",
    "#Get a smooth curve by plugging a time vector to the fitted logistic model\n",
    "t_vec = np.linspace(0,24,1000)\n",
    "log_N_vec = np.ones(len(t_vec))\n",
    "residual_smooth_linear = residuals_linear(fit_linear.params, t_vec, log_N_vec)\n",
    "plt.plot(t_vec, residual_smooth_linear + log_N_vec, 'orange', linestyle = '--', linewidth = 1)\n",
    "\n",
    "#Logistic\n",
    "result_logistic = np.log(N_rand) + fit_logistic.residual\n",
    "plt.plot(t, result_logistic, 'b.', markersize = 15, label = 'Logistic')\n",
    "#Get a smooth curve by plugging a time vector to the fitted logistic model\n",
    "t_vec = np.linspace(0,24,1000)\n",
    "log_N_vec = np.ones(len(t_vec))\n",
    "residual_smooth_logistic = residuals_logistic(fit_logistic.params, t_vec, log_N_vec)\n",
    "plt.plot(t_vec, residual_smooth_logistic + log_N_vec, 'blue', linestyle = '--', linewidth = 1)\n",
    "\n",
    "#Gompertz\n",
    "result_gompertz = np.log(N_rand) + fit_gompertz.residual\n",
    "plt.plot(t, result_gompertz, 'g.', markersize = 15, label = 'Gompertz')\n",
    "#Get a smooth curve by plugging a time vector to the fitted logistic model\n",
    "t_vec = np.linspace(0,24,1000)\n",
    "log_N_vec = np.ones(len(t_vec))\n",
    "residual_smooth_gompertz = residuals_gompertz(fit_gompertz.params, t_vec, log_N_vec)\n",
    "plt.plot(t_vec, residual_smooth_gompertz + log_N_vec, 'green', linestyle = '--', linewidth = 1)\n",
    "\n",
    "#Generalized logistic\n",
    "result_genlogistic = np.log(N_rand) + fit_genlogistic.residual\n",
    "plt.plot(t, result_genlogistic, '.', markerfacecolor = 'magenta', \n",
    "         markeredgecolor = 'magenta', markersize = 15, label = 'Generalized Logistic')\n",
    "#Get a smooth curve by plugging a time vector to the fitted logistic model\n",
    "t_vec = np.linspace(0,24,1000)\n",
    "log_N_vec = np.ones(len(t_vec))\n",
    "residual_smooth_genlogistic = residuals_genlogistic(fit_genlogistic.params, t_vec, log_N_vec)\n",
    "plt.plot(t_vec, residual_smooth_genlogistic + log_N_vec, 'magenta', linestyle = '--', linewidth = 1)\n",
    "\n",
    "#Plot data points\n",
    "plt.plot(t, np.log(N_rand), 'r+', markersize = 15,markeredgewidth = 2, label = 'Data')\n",
    "\n",
    "#Plot legend\n",
    "plt.legend(fontsize = 20)\n",
    "plt.xlabel('t', fontsize = 20)\n",
    "plt.ylabel(r'$\\log(N_t)$', fontsize = 20)\n",
    "plt.ticklabel_format(style='scientific', scilimits=[0,3])"
   ]
  },
  {
   "cell_type": "markdown",
   "metadata": {},
   "source": [
    "We can visually tell that the model that best fits the data is the Generalized Logistic model, closely followed by the Gompertz model. Does this mean that the Generalized Logistic model is a better model?\n",
    "\n",
    "No. Generally, better models will be those that fit the data well, have less parameters, and these can be interpreted mechanistically. In these case, the Gomperz model fits the data almost as well as the Generalized Logistic (GL), but has less parameters, and these are more 'mechanistic' than the ones in GL, so it is clearly better."
   ]
  }
 ],
 "metadata": {
  "kernelspec": {
   "display_name": "Python 3",
   "language": "python",
   "name": "python3"
  },
  "language_info": {
   "codemirror_mode": {
    "name": "ipython",
    "version": 3
   },
   "file_extension": ".py",
   "mimetype": "text/x-python",
   "name": "python",
   "nbconvert_exporter": "python",
   "pygments_lexer": "ipython3",
   "version": "3.8.5"
  },
  "latex_envs": {
   "LaTeX_envs_menu_present": true,
   "autoclose": false,
   "autocomplete": false,
   "bibliofile": "biblio.bib",
   "cite_by": "apalike",
   "current_citInitial": 1,
   "eqLabelWithNumbers": true,
   "eqNumInitial": 1,
   "hotkeys": {
    "equation": "Ctrl-E",
    "itemize": "Ctrl-I"
   },
   "labels_anchors": false,
   "latex_user_defs": false,
   "report_style_numbering": false,
   "user_envs_cfg": false
  },
  "toc": {
   "base_numbering": 1,
   "nav_menu": {},
   "number_sections": true,
   "sideBar": false,
   "skip_h1_title": false,
   "title_cell": "Table of Contents",
   "title_sidebar": "Contents",
   "toc_cell": false,
   "toc_position": {},
   "toc_section_display": true,
   "toc_window_display": false
  }
 },
 "nbformat": 4,
 "nbformat_minor": 2
}
