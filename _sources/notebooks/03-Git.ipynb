{
 "cells": [
  {
   "cell_type": "markdown",
   "metadata": {},
   "source": [
    "# Version control with Git"
   ]
  },
  {
   "cell_type": "markdown",
   "metadata": {},
   "source": [
    "## Introduction\n",
    "\n",
    "Version control, also known as revision control or source control, is the management and tracking of changes to computer code and other certain other types of data in an automated way.\n",
    "\n",
    "Any project (collections of files in directories) under version control has changes and additions/deletions to its files and directories recorded and archived over time so that you can recall specific versions later. \n",
    "\n",
    "Version control is in fact the technology embedded in the versioning of various word processor and spreadsheet applications (e.g., Google Docs, Overleaf).\n",
    "\n",
    "\n",
    "![image](./graphics/VC.png)\n",
    "<small> <center>An overview of how Version control works</center></small>\n",
    "\n",
    "## Why Version Control?\n",
    "\n",
    "With version control of biological computing projects, you can:\n",
    "\n",
    "1. record all changes made to a set of files and directories, including text (usually ASCII) data files, so that you can access any previous version of the files\n",
    "\n",
    "* \"roll back\" data, code, documents that are in plain text format (other file formats can also be versioned; see [section on binary files](#Dealing-with-binary-files) below).\n",
    "\n",
    "* collaborate more easily with others on developing new code or writing documents &ndash; branch (and merge) projects\n",
    "\n",
    "* back up your project (but git is not a backup software - see [sections on binary and large files](#Dealing-with-binary-files) below). \n",
    "\n",
    "![image](./graphics/cvs.png)\n",
    "<small> <center>Source: [maktoons.blogspot.com/2009/06/if-dont-use-version-control-system.html](maktoons.blogspot.com/2009/06/if-dont-use-version-control-system.html) \n",
    "Don't do this.</center></small>\n",
    "\n",
    "Or here's [another one](http://www.phdcomics.com/comics/archive/phd101212s.gif).\n",
    "\n",
    "## git\n",
    "\n",
    "We will use git, developed by Linus Torvalds, the \"Linu\" in Linux. This is currently the most popular tool for version control. \n",
    "\n",
    "In git, each user stores a complete local copy of the project, including the history and all versions. So you do not rely as much on a centralized (remote) server. First, install and configure `git`:"
   ]
  },
  {
   "cell_type": "markdown",
   "metadata": {},
   "source": [
    "```bash \n",
    "sudo apt-get install git\n",
    "git config --global user.name \"Your Name\"\n",
    "git config --global user.email \"your.login@imperial.ac.uk\"\n",
    "git config --list\n",
    "```"
   ]
  },
  {
   "cell_type": "markdown",
   "metadata": {},
   "source": [
    "### `git` workflow\n",
    "\n",
    "Here is a graphical outline of the git workflow and command structure: \n",
    "\n",
    "![image](./graphics/git.png)\n",
    "\n",
    "Note that only when you `push` or `fetch` do you need an internet connection, because before that you are only archiving in a local (hidden) repository (that sits in a hidden `.git` directory within your project).\n",
    "\n",
    "### Basic git commands\n",
    "\n",
    "Here are some basic git commands:\n",
    "\n",
    "|     Command    |   What it does     |\n",
    "| :------------- |:-------------| \n",
    "|`git init`|           Initialize a new repository|\n",
    "|`git clone`|          Download a repository from a remote server|\n",
    "|`git status`|         Show the current status|\n",
    "|`git diff`|           Show differences between commits|\n",
    "|`git blame`|          Blame somebody for the changes!|\n",
    "|`git log`|            Show commit history|\n",
    "|`git commit`|         Commit changes to current branch|\n",
    "|`git branch`|         Show branches|\n",
    "|`git branch name`|    Create new branch|\n",
    "|`git checkout name`|  Switch to a different commit/branch called `name`|\n",
    "|`git pull`|           Upload from remote repository|\n",
    "|`git push`|           Send changes to remote repository|\n"
   ]
  },
  {
   "cell_type": "markdown",
   "metadata": {},
   "source": [
    "## Your first repository\n",
    "\n",
    "Time to bring your computing coursework directory under version control. For example, for CMEE Masters students: "
   ]
  },
  {
   "cell_type": "code",
   "execution_count": 1,
   "metadata": {},
   "outputs": [],
   "source": [
    "cd ~/Documents/CMEECourseWork"
   ]
  },
  {
   "cell_type": "code",
   "execution_count": 2,
   "metadata": {},
   "outputs": [
    {
     "name": "stdout",
     "output_type": "stream",
     "text": [
      "Initialised empty Git repository in /home/mhasoba/Documents/CMEECourseWork/.git/\n"
     ]
    }
   ],
   "source": [
    "git init"
   ]
  },
  {
   "cell_type": "code",
   "execution_count": 3,
   "metadata": {},
   "outputs": [],
   "source": [
    "echo \"My CMEE Coursework Repository\" > README.txt"
   ]
  },
  {
   "cell_type": "code",
   "execution_count": 4,
   "metadata": {
    "scrolled": true
   },
   "outputs": [
    {
     "name": "stdout",
     "output_type": "stream",
     "text": [
      "user.email=mhasoba@gmail.com\n",
      "user.name=Samraat Pawar\n",
      "push.default=simple\n",
      "core.repositoryformatversion=0\n",
      "core.filemode=true\n",
      "core.bare=false\n",
      "core.logallrefupdates=true\n"
     ]
    }
   ],
   "source": [
    "git config --list"
   ]
  },
  {
   "cell_type": "code",
   "execution_count": 5,
   "metadata": {
    "scrolled": true
   },
   "outputs": [
    {
     "name": "stdout",
     "output_type": "stream",
     "text": [
      "total 20\n",
      "drwxrwxr-x  4 mhasoba mhasoba 4096 Oct  8 08:45 \u001b[0m\u001b[01;34m.\u001b[0m\n",
      "drwxr-xr-x 34 mhasoba mhasoba 4096 Oct  8 08:44 \u001b[01;34m..\u001b[0m\n",
      "drwxrwxr-x  7 mhasoba mhasoba 4096 Oct  8 08:45 \u001b[01;34m.git\u001b[0m\n",
      "-rw-rw-r--  1 mhasoba mhasoba   30 Oct  8 08:45 README.txt\n",
      "drwxrwxr-x  6 mhasoba mhasoba 4096 Oct  8 08:44 \u001b[01;34mweek1\u001b[0m\n"
     ]
    }
   ],
   "source": [
    "ls -al"
   ]
  },
  {
   "cell_type": "code",
   "execution_count": 6,
   "metadata": {},
   "outputs": [],
   "source": [
    "git add README.txt #Staging for commit"
   ]
  },
  {
   "cell_type": "code",
   "execution_count": 7,
   "metadata": {
    "scrolled": true
   },
   "outputs": [
    {
     "name": "stdout",
     "output_type": "stream",
     "text": [
      "On branch master\n",
      "\n",
      "No commits yet\n",
      "\n",
      "Changes to be committed:\n",
      "  (use \"git rm --cached <file>...\" to unstage)\n",
      "\t\u001b[32mnew file:   README.txt\u001b[m\n",
      "\n",
      "Untracked files:\n",
      "  (use \"git add <file>...\" to include in what will be committed)\n",
      "\t\u001b[31mweek1/\u001b[m\n",
      "\n"
     ]
    }
   ],
   "source": [
    "git status"
   ]
  },
  {
   "cell_type": "code",
   "execution_count": 8,
   "metadata": {
    "scrolled": true
   },
   "outputs": [
    {
     "name": "stdout",
     "output_type": "stream",
     "text": [
      "[master (root-commit) 3f188a0] Added README file.\n",
      " 1 file changed, 1 insertion(+)\n",
      " create mode 100644 README.txt\n"
     ]
    }
   ],
   "source": [
    "git commit -m \"Added README file.\" #you can use -am too"
   ]
  },
  {
   "cell_type": "code",
   "execution_count": 9,
   "metadata": {
    "scrolled": true
   },
   "outputs": [
    {
     "name": "stdout",
     "output_type": "stream",
     "text": [
      "On branch master\n",
      "Untracked files:\n",
      "  (use \"git add <file>...\" to include in what will be committed)\n",
      "\t\u001b[31mweek1/\u001b[m\n",
      "\n",
      "nothing added to commit but untracked files present (use \"git add\" to track)\n"
     ]
    }
   ],
   "source": [
    "git status #what does it say now?"
   ]
  },
  {
   "cell_type": "code",
   "execution_count": 10,
   "metadata": {},
   "outputs": [],
   "source": [
    "git add -A"
   ]
  },
  {
   "cell_type": "code",
   "execution_count": 11,
   "metadata": {},
   "outputs": [
    {
     "name": "stdout",
     "output_type": "stream",
     "text": [
      "On branch master\n",
      "Changes to be committed:\n",
      "  (use \"git restore --staged <file>...\" to unstage)\n",
      "\t\u001b[32mnew file:   week1/data/spawannxs.txt\u001b[m\n",
      "\t\u001b[32mnew file:   week1/sandbox/TestFind/Dir1/Dir11/Dir111/File111.txt\u001b[m\n",
      "\t\u001b[32mnew file:   week1/sandbox/TestFind/Dir1/File1.csv\u001b[m\n",
      "\t\u001b[32mnew file:   week1/sandbox/TestFind/Dir1/File1.tex\u001b[m\n",
      "\t\u001b[32mnew file:   week1/sandbox/TestFind/Dir1/File1.txt\u001b[m\n",
      "\t\u001b[32mnew file:   week1/sandbox/TestFind/Dir2/File2.tex\u001b[m\n",
      "\t\u001b[32mnew file:   week1/sandbox/TestFind/Dir2/File2.txt\u001b[m\n",
      "\t\u001b[32mnew file:   week1/sandbox/TestFind/Dir2/file2.csv\u001b[m\n",
      "\t\u001b[32mnew file:   week1/sandbox/TestFind/Dir3/File3.txt\u001b[m\n",
      "\t\u001b[32mnew file:   week1/sandbox/TestWild/Anotherfile.csv\u001b[m\n",
      "\t\u001b[32mnew file:   week1/sandbox/TestWild/Anotherfile.txt\u001b[m\n",
      "\t\u001b[32mnew file:   week1/sandbox/TestWild/File1.csv\u001b[m\n",
      "\t\u001b[32mnew file:   week1/sandbox/TestWild/File1.txt\u001b[m\n",
      "\t\u001b[32mnew file:   week1/sandbox/TestWild/File2.csv\u001b[m\n",
      "\t\u001b[32mnew file:   week1/sandbox/TestWild/File2.txt\u001b[m\n",
      "\t\u001b[32mnew file:   week1/sandbox/TestWild/File3.csv\u001b[m\n",
      "\t\u001b[32mnew file:   week1/sandbox/TestWild/File3.txt\u001b[m\n",
      "\t\u001b[32mnew file:   week1/sandbox/TestWild/File4.csv\u001b[m\n",
      "\t\u001b[32mnew file:   week1/sandbox/TestWild/File4.txt\u001b[m\n",
      "\t\u001b[32mnew file:   week1/sandbox/test.txt\u001b[m\n",
      "\n"
     ]
    }
   ],
   "source": [
    "git status"
   ]
  },
  {
   "cell_type": "markdown",
   "metadata": {},
   "source": [
    "Next you can commit the rest of these files inside `week 1` with another message, just like you did for `readme` above.\n",
    "\n",
    "\n",
    "> **Make meaningful Comments**: Please don't neglect to make each commit message meaningful. And use this mantra: \"commit often, comment always\". \n",
    "\n",
    "---\n",
    "![image](./graphics/git_xkcd.png)\n",
    "<small> <center>Source: [https://m.xkcd.com/1296/](https://m.xkcd.com/1296/) \n",
    "    Don't succumb to this.</figcaption></center></small>\n",
    "    \n",
    "---\n",
    "> Here are some tips for good practices: https://chris.beams.io/posts/git-commit/\n",
    "\n",
    "\n",
    "Nothing has been sent to the remote server yet (see [section below](#git-commands) for how git uses the remote server). \n",
    "\n",
    "So let's go to your git service (e.g., bitbucket or github) and set up. Note that bitbucket and github both give you unlimited free private repositories if you register with an academic email. Not a big deal if you will not be writing private code, handy if you are (*can you think of examples when you would need to write private code?*). \n",
    "\n",
    "So let's proceed with connecting your local git repository to your remote server:  \n",
    "\n",
    "* Login to your bitbucket or github account\n",
    "\n",
    "* Set up your `ssh`-based access. SSH (`S`ecure `S`ocket S`h`ell) is a protocol that allows you to connect to and interact with remote servers.\n",
    "\n",
    "Here are two sets of guidelines (you can use whichever seems easier to you, irrespective of whether you are using githib or bitbucket):\n",
    "\n",
    "[bitbucket](https://confluence.atlassian.com/bitbucket/set-up-ssh-for-git-728138079.html) (most of you will want the \"Set up SSH on macOS/Linux\" option)\n",
    "\n",
    "[github](https://help.github.com/articles/connecting-to-github-with-ssh)\n",
    "\n",
    "* Next, create a new repository on your remote service with the same name as your local project (e.g., `CMEECourseWork`), and push your new project to this newly created remote git repository.\n",
    "\n",
    "Instructions for this step are here:\n",
    "\n",
    "[bitbucket](https://confluence.atlassian.com/bitbucket/set-up-a-repository-877174034.html) (choose the \"I have existing files on my local system.\" option)\n",
    "\n",
    "[github](https://help.github.com/articles/adding-an-existing-project-to-github-using-the-command-line)\n",
    "\n",
    "Note that you have already done the `git init` step, so no need to repeat those bits.  \n",
    "\n",
    "You are done. Now you can really start to use git!\n",
    "\n",
    "The first step after having created your remote (say, github or bitbucket) repository and added your ssh key to it, is to link the remote to your local repo (as the instructions in web pages linked above will already have told you):  "
   ]
  },
  {
   "cell_type": "markdown",
   "metadata": {},
   "source": [
    "```bash\n",
    "git remote add origin git@github.com:mhasoba/CMEECourseWork.git\n",
    "```"
   ]
  },
  {
   "cell_type": "markdown",
   "metadata": {},
   "source": [
    "And then, \n",
    "\n",
    "```bash \n",
    "git remote -v\n",
    "```"
   ]
  },
  {
   "cell_type": "markdown",
   "metadata": {},
   "source": [
    "No you can `git push` all your local commits: "
   ]
  },
  {
   "cell_type": "markdown",
   "metadata": {},
   "source": [
    "```bash\n",
    "git push origin master\n",
    "```"
   ]
  },
  {
   "cell_type": "markdown",
   "metadata": {},
   "source": [
    "This pushes the (committed) changes in your local repository up to the remote repository you specified as the `origin`. Note that `master` refers to the branch (you currently only have one). More on branching below.\n",
    "\n",
    "You can rename your remote `origin` to a more meaningful name, (e.g., `github_CMEECourseWork`) using the `git remote rename` command. [See this](https://help.github.com/articles/renaming-a-remote)."
   ]
  },
  {
   "cell_type": "markdown",
   "metadata": {},
   "source": [
    "## Ignoring Files\n",
    "\n",
    "You will have some files you don't want to track (log files, temporary files, executables, etc). You can ignore entire classes of files with `.gitignore`. \n",
    "\n",
    "$\\star$ Let's try it (make sure you are in your coursework directory (e.g., `CMEECourseWork`)):"
   ]
  },
  {
   "cell_type": "code",
   "execution_count": 12,
   "metadata": {},
   "outputs": [],
   "source": [
    "echo -e \"*~ \\n*.tmp\" > .gitignore"
   ]
  },
  {
   "cell_type": "code",
   "execution_count": 13,
   "metadata": {},
   "outputs": [
    {
     "name": "stdout",
     "output_type": "stream",
     "text": [
      "*~ \n",
      "*.tmp\n"
     ]
    }
   ],
   "source": [
    "cat .gitignore"
   ]
  },
  {
   "cell_type": "code",
   "execution_count": 14,
   "metadata": {},
   "outputs": [],
   "source": [
    "git add .gitignore"
   ]
  },
  {
   "cell_type": "code",
   "execution_count": 15,
   "metadata": {},
   "outputs": [],
   "source": [
    "touch temporary.tmp"
   ]
  },
  {
   "cell_type": "markdown",
   "metadata": {},
   "source": [
    "Then, \n",
    "\n",
    "`git add *`"
   ]
  },
  {
   "cell_type": "markdown",
   "metadata": {},
   "source": [
    "You can also create a global gitignore file that lists rules for files to be ignored [in every Git repository on your computer](https://help.github.com/articles/ignoring-files). \n",
    "\n",
    "---\n",
    "> **Standard templates for .gitignore**: You can find standard `.gitignore` templates online. For example, Google \".gitignore templates\"."
   ]
  },
  {
   "cell_type": "markdown",
   "metadata": {},
   "source": [
    "### Dealing with binary files\n",
    "\n",
    "A binary file is computer-readable but not human-readable, that is, it cannot be read by opening them in a text viewer. Examples of binary files include compiled executables, zip files, images, word documents and videos. In contrast, text files are stored in a form (usually ASCII) that is human-readable by opening in a text reader (e.g., gedit). Without some git extensions and configurations (coming up next), binary files cannot be properly version-controlled because each version of the entire file is saved *as is* in a hidden directory in the repository (`.git`).\n",
    "\n",
    "However, with some more effort, git can be made to work for binary formats like `*.docx` or image formats such as `*.jpeg`, but it is harder to compare versions; have a look at [this](https://git-scm.com/docs/gitattributes) and [this](https://git-scm.com/book/en/v2/Customizing-Git-Git-Attributes)<sup>[1](#git:word)</sup>, and also, [this](https://opensource.com/life/16/8/how-manage-binary-blobs-git-part-7)\n",
    "\n",
    "### Dealing with large files\n",
    "\n",
    "As such, git was designed for version control of workflows and software projects, *not* large files (say, &gt;100mb) (which may be plain-text or binary). Binary files are particularly problematic because each version of the file is saved *as is* in `.git`, when you have a large number of versions it means that there are the same number of binary files in the hidden directory (for example 100 $\\times$ &gt;100mb files!).\n",
    "\n",
    "*So please do not keep large files (especially binary files) under version control*<sup>[2](#git:largefiles)</sup>. For example, if you are doing GIS work, you may have to handle large raster image files.  Do not bring such files under version control. We suggest that you include files larger than some size in your `.gitignore`. For example, you can use the following bash command:"
   ]
  },
  {
   "cell_type": "markdown",
   "metadata": {},
   "source": [
    "`find . -size +100M | cat >> .gitignore`"
   ]
  },
  {
   "cell_type": "markdown",
   "metadata": {},
   "source": [
    "The 100M means 100 mb – you can reset it to whatever you want.\n",
    "\n",
    "*Then what about code that needs large files?* For this, the best approach is write code that scales up with data size. If it works on a 1 mb file, it should also work on a 1000 mb file! If you have written such code, then you can include a smaller file as a MWE (minimum working example).   \n",
    "\n",
    "*And how do you back up your large data files?* Remember, version control software like git are not meant for backing up data. The solution is to back up separately, either to an external hard drive or a cloud service. `rsync` is a great Linux utility for making such backups. Google it! \n",
    "\n",
    "You may also explore alternatives such as `git-annex` (e.g., [see this](https://git-annex.branchable.com)), and `git-lfs` (e.g., [see this](https://www.atlassian.com/git/tutorials/git-lfs)).\n",
    "\n",
    "---\n",
    "> **Checking size of your git repo**: You have two options in Linux (`cd` to your repo first):\n",
    "```bash\n",
    "du -sh .git\n",
    "```\n",
    "or (more detailed information about what's using the space), \n",
    "```bash\n",
    "git count-objects -vH\n",
    "```\n",
    "\n",
    "---\n",
    "\n",
    "\n",
    "## Removing files\n",
    "\n",
    "To remove a file (i.e. stop version controlling it) use `git rm`:"
   ]
  },
  {
   "cell_type": "code",
   "execution_count": 16,
   "metadata": {},
   "outputs": [],
   "source": [
    "echo \"Text in a file to remove\" > FileToRem.txt"
   ]
  },
  {
   "cell_type": "code",
   "execution_count": 17,
   "metadata": {},
   "outputs": [],
   "source": [
    "git add FileToRem.txt"
   ]
  },
  {
   "cell_type": "code",
   "execution_count": 18,
   "metadata": {
    "scrolled": true
   },
   "outputs": [
    {
     "name": "stdout",
     "output_type": "stream",
     "text": [
      "[master a921378] added a new file that we'll remove later\n",
      " 22 files changed, 602 insertions(+)\n",
      " create mode 100644 .gitignore\n",
      " create mode 100644 FileToRem.txt\n",
      " create mode 100644 week1/data/spawannxs.txt\n",
      " create mode 100644 week1/sandbox/TestFind/Dir1/Dir11/Dir111/File111.txt\n",
      " create mode 100644 week1/sandbox/TestFind/Dir1/File1.csv\n",
      " create mode 100644 week1/sandbox/TestFind/Dir1/File1.tex\n",
      " create mode 100644 week1/sandbox/TestFind/Dir1/File1.txt\n",
      " create mode 100644 week1/sandbox/TestFind/Dir2/File2.tex\n",
      " create mode 100644 week1/sandbox/TestFind/Dir2/File2.txt\n",
      " create mode 100644 week1/sandbox/TestFind/Dir2/file2.csv\n",
      " create mode 100644 week1/sandbox/TestFind/Dir3/File3.txt\n",
      " create mode 100644 week1/sandbox/TestWild/Anotherfile.csv\n",
      " create mode 100644 week1/sandbox/TestWild/Anotherfile.txt\n",
      " create mode 100644 week1/sandbox/TestWild/File1.csv\n",
      " create mode 100644 week1/sandbox/TestWild/File1.txt\n",
      " create mode 100644 week1/sandbox/TestWild/File2.csv\n",
      " create mode 100644 week1/sandbox/TestWild/File2.txt\n",
      " create mode 100644 week1/sandbox/TestWild/File3.csv\n",
      " create mode 100644 week1/sandbox/TestWild/File3.txt\n",
      " create mode 100644 week1/sandbox/TestWild/File4.csv\n",
      " create mode 100644 week1/sandbox/TestWild/File4.txt\n",
      " create mode 100644 week1/sandbox/test.txt\n"
     ]
    }
   ],
   "source": [
    "git commit -am \"added a new file that we'll remove later\""
   ]
  },
  {
   "cell_type": "code",
   "execution_count": 19,
   "metadata": {},
   "outputs": [
    {
     "name": "stdout",
     "output_type": "stream",
     "text": [
      "rm 'FileToRem.txt'\n"
     ]
    }
   ],
   "source": [
    "git rm FileToRem.txt"
   ]
  },
  {
   "cell_type": "code",
   "execution_count": 20,
   "metadata": {},
   "outputs": [
    {
     "name": "stdout",
     "output_type": "stream",
     "text": [
      "[master c3cbaf7] removed the file\n",
      " 1 file changed, 1 deletion(-)\n",
      " delete mode 100644 FileToRem.txt\n"
     ]
    }
   ],
   "source": [
    "git commit -am \"removed the file\""
   ]
  },
  {
   "cell_type": "markdown",
   "metadata": {},
   "source": [
    "I typically just make all my changes and then just use `git add -A` for the whole directory (and it's subdirectories; `-A` is recursive).   \n",
    "\n",
    "### Un-tracking files\n",
    "\n",
    "`.gitignore` will prevent untracked files from being added to the set of files tracked by git. However, git will continue to track any files that are already being tracked. To stop tracking a file you need to remove it from the index. This can be achieved with this command.\n",
    "\n",
    "```bash\n",
    "git rm --cached <file>\n",
    "```\n",
    "The removal of the file from the head revision will happen on the next commit."
   ]
  },
  {
   "cell_type": "markdown",
   "metadata": {},
   "source": [
    "Accessing history of the repository\n",
    "-----------------------------------\n",
    "\n",
    "To see particular changes introduced, read the repo’s log :"
   ]
  },
  {
   "cell_type": "markdown",
   "metadata": {},
   "source": [
    "```bash\n",
    "git log\n",
    "```"
   ]
  },
  {
   "cell_type": "markdown",
   "metadata": {},
   "source": [
    "For a more detailed version, add `-p` at the end.\n",
    "\n",
    "### Reverting to a previous version\n",
    "\n",
    "If things go horribly wrong with new changes, you can revert to the previous, \"pristine\" state:"
   ]
  },
  {
   "cell_type": "markdown",
   "metadata": {},
   "source": [
    "```bash \n",
    "git reset --hard\n",
    "git commit -am \"returned to previous state\" #Note I used -am here\n",
    "```"
   ]
  },
  {
   "cell_type": "markdown",
   "metadata": {},
   "source": [
    "If instead you want to move back in time (temporarily), first find the\n",
    "“hash” for the commit you want to revert to, and then check-out:"
   ]
  },
  {
   "cell_type": "markdown",
   "metadata": {},
   "source": [
    "```bash\n",
    "git status\n",
    "```\n",
    "And then, "
   ]
  },
  {
   "cell_type": "markdown",
   "metadata": {},
   "source": [
    "```bash \n",
    "git log\n",
    "```"
   ]
  },
  {
   "cell_type": "markdown",
   "metadata": {},
   "source": [
    "Then, you can \n",
    "\n",
    "```bash\n",
    "git checkout *version number*\n",
    "```"
   ]
  },
  {
   "cell_type": "markdown",
   "metadata": {},
   "source": [
    "e.g, `git checkout 95f7d0`"
   ]
  },
  {
   "cell_type": "markdown",
   "metadata": {},
   "source": [
    "Now you can play around. However, if you do want to commit changes, you create a \"branch\" (see below). To go back to the future, type "
   ]
  },
  {
   "cell_type": "markdown",
   "metadata": {},
   "source": [
    "```bash \n",
    "git checkout master\n",
    "```"
   ]
  },
  {
   "cell_type": "markdown",
   "metadata": {},
   "source": [
    "## Branching\n",
    "\n",
    "Imagine you want to try something out, but you are not sure it will work well. For example, say you want to rewrite the Introduction of your paper, using a different angle, or you want to see whether switching to a library for a piece of code improves speed. What you then need is branching, which creates a project copy in which you can experiment:"
   ]
  },
  {
   "cell_type": "markdown",
   "metadata": {},
   "source": [
    "`git branch anexperiment`"
   ]
  },
  {
   "cell_type": "markdown",
   "metadata": {},
   "source": [
    "`git branch`"
   ]
  },
  {
   "cell_type": "markdown",
   "metadata": {},
   "source": [
    "`git checkout anexperiment`"
   ]
  },
  {
   "cell_type": "markdown",
   "metadata": {},
   "source": [
    "`git branch`"
   ]
  },
  {
   "cell_type": "markdown",
   "metadata": {},
   "source": [
    "`echo \"Do I like this better?\" >> README.txt`"
   ]
  },
  {
   "cell_type": "markdown",
   "metadata": {},
   "source": [
    "`git commit -am \"Testing experimental branch\"`"
   ]
  },
  {
   "cell_type": "markdown",
   "metadata": {},
   "source": [
    "If you decide to merge the new branch after modifying it:"
   ]
  },
  {
   "cell_type": "markdown",
   "metadata": {},
   "source": [
    "`git checkout master`"
   ]
  },
  {
   "cell_type": "markdown",
   "metadata": {},
   "source": [
    "`git merge anexperiment`"
   ]
  },
  {
   "cell_type": "markdown",
   "metadata": {},
   "source": [
    "`cat README.txt`"
   ]
  },
  {
   "cell_type": "markdown",
   "metadata": {},
   "source": [
    "Unless there are conflicts, i.e., some other files that you changed locally had diverged from those files in the Master  in the meantime (due to new changes pushed by another collaborator), you are done, and you can delete the branch:"
   ]
  },
  {
   "cell_type": "markdown",
   "metadata": {},
   "source": [
    "`git branch -d anexperiment`"
   ]
  },
  {
   "cell_type": "markdown",
   "metadata": {},
   "source": [
    "If instead you are not satisfied with the result, and you want to\n",
    "abandon the branch:"
   ]
  },
  {
   "cell_type": "markdown",
   "metadata": {},
   "source": [
    "`git branch -D anexperiment`"
   ]
  },
  {
   "cell_type": "markdown",
   "metadata": {},
   "source": [
    "When you want to test something out, always branch! Reverting changes, especially in code, is typically painful. Merging can be tricky, especially if multiple people have simultaneously worked on a particular document. In the worst-case scenario, you may want to delete the local copy and re-clone the remote repository.\n",
    "\n",
    "---\n",
    "![image](./graphics/git_xkcd_1.png)\n",
    "<small> <center>(Source: [https://xkcd.com/1597/)) \n",
    "    Try not to do this, but most of us will have, at some point!\n",
    "</center></small>\n",
    "\n",
    "---\n",
    "\n",
    "## Running git commands on a different directory\n",
    "\n",
    "Since <span>git</span> version 1.8.5, you can run git directly on a different directory than the current one using absolute or relative paths. For example, using a relative path, you can do:\n",
    "\n",
    "```bash \n",
    "git -C ../SomeDir/ status\n",
    "```\n",
    "\n",
    "> **Cloning the MulQuaBio repository**: You can clone the master repository of these notes on your computer and regularly git pull it to keep it updated. That way the these notes and the associated code and data files are easily and locally available on your computer. DO NOT clone the repository into your own coursework repository though!\n",
    "\n",
    "---"
   ]
  },
  {
   "cell_type": "markdown",
   "metadata": {},
   "source": [
    "### Running git commands on multiple repositories at once\n",
    "\n",
    "For git pulling in multiple subdirectories (each a separate repository), here is an example:"
   ]
  },
  {
   "cell_type": "markdown",
   "metadata": {},
   "source": [
    "`find . -mindepth 1 -maxdepth 1 -type d -print -exec git -C {} pull \\;`"
   ]
  },
  {
   "cell_type": "markdown",
   "metadata": {},
   "source": [
    "Breaking down these commands one by one,\n",
    "\n",
    "`find .` searches the current directory\n",
    "\n",
    "`-type d` finds directories, not files\n",
    "\n",
    "`-mindepth 1` sets min search depth to one sub-directory\n",
    "\n",
    "`-maxdepth 1` sets max search depth to one sub-directory\n",
    "\n",
    "`-exec git -C {} pull \\ ` runs a custom git command one on every git repo found"
   ]
  },
  {
   "cell_type": "markdown",
   "metadata": {},
   "source": [
    "## Using git through a GUI \n",
    "\n",
    "There are many nice git GUI's (Graphical User Interfaces) out there, such as [gitKracken](https://www.gitkraken.com/). Or if you are using a code editor like vs code, there are nice extensions that will give you considerable GUI functionality."
   ]
  },
  {
   "cell_type": "markdown",
   "metadata": {},
   "source": [
    "---\n",
    "\n",
    "> **Checking git status**: Always do a `git status` in a repository before pulling from or pushing to a remote repository!. \n",
    "\n",
    "---"
   ]
  },
  {
   "cell_type": "markdown",
   "metadata": {},
   "source": [
    "## Practicals\n",
    "\n",
    "### Instructions\n",
    "\n",
    "*Don't modify anything (or refer to any files) in your local copy of the git repository of these notes (on Github). Copy whatever you need from the master repository to your own repository.*\n",
    "\n",
    "*Git commit and push every time you do some significant amount of coding work (after testing it), and then again before the given deadline (this will be announced in class).* This includes `UnixPrac1.txt` from the [Unix Chapter](01-Unix.ipynb).\n",
    "\n",
    "* The only practical submission for git is pushing your coursework git repository, `.gitgnore` and `readme` files included. Make sure your `.gitignore` has meaningful exclusions, and your `readme` has useful information. Google \"readme good practices\" or something like that to find online tips. \n",
    " \n",
    "* Also, invite your assessor to your coursework repository (e.g, `CMEECourseWork`) repository with *write privileges*. The current assessor is s.pawar@imperial.ac.uk (or \"mhasoba\" on both bitbucket and github). \n",
    "\n",
    "Also, remember, you can clone TheMulQuaBio (see the [Intro Chapter](00-Intro.ipynb)). You can then `cp` files from this to your own CMEECourseWork as and when needed. Please don't work in the master repo, as you will lose your work when I next update it!\n",
    "\n",
    "You can thereafter `git pull` at the start of every new session (to get the updates) inside your local copy of `TheMulQuaBio` (but always do `git status` first)."
   ]
  },
  {
   "cell_type": "markdown",
   "metadata": {},
   "source": [
    "## Readings & Resources\n",
    "\n",
    "There is a wealth of information on git out there on the web\n",
    "\n",
    "* Excellent book on Git: <http://git-scm.com/book>\n",
    "* Also, <https://www.atlassian.com/git/>\n",
    "* Really great git tutorials: <https://try.github.io>\n",
    "* Guidelines for the `.gitignore` file: https://labs.consol.de/development/git/2017/02/22/gitignore.html\n",
    "* Gudelines for brancing: https://gist.github.com/digitaljhelms/4287848"
   ]
  },
  {
   "cell_type": "markdown",
   "metadata": {},
   "source": [
    "**Footnotes**\n",
    "\n",
    "<a name=\"git:word\">1</a>: There you will find the following phrase: \"...one of the most annoying problems known to humanity: version-controlling Microsoft Word documents.\". LOL!\n",
    "\n",
    "<a name=\"git:largefiles\">2</a>: None of the computing weeks assessments will require you to use such large files anyway"
   ]
  }
 ],
 "metadata": {
  "kernelspec": {
   "display_name": "Bash",
   "language": "bash",
   "name": "bash"
  },
  "language_info": {
   "codemirror_mode": "shell",
   "file_extension": ".sh",
   "mimetype": "text/x-sh",
   "name": "bash"
  },
  "latex_envs": {
   "LaTeX_envs_menu_present": true,
   "autoclose": false,
   "autocomplete": false,
   "bibliofile": "biblio.bib",
   "cite_by": "apalike",
   "current_citInitial": 1,
   "eqLabelWithNumbers": true,
   "eqNumInitial": 1,
   "hotkeys": {
    "equation": "Ctrl-E",
    "itemize": "Ctrl-I"
   },
   "labels_anchors": false,
   "latex_user_defs": false,
   "report_style_numbering": false,
   "user_envs_cfg": false
  },
  "toc": {
   "base_numbering": 1,
   "nav_menu": {},
   "number_sections": true,
   "sideBar": false,
   "skip_h1_title": false,
   "title_cell": "Contents",
   "title_sidebar": "Contents",
   "toc_cell": false,
   "toc_position": {},
   "toc_section_display": false,
   "toc_window_display": false
  }
 },
 "nbformat": 4,
 "nbformat_minor": 4
}
